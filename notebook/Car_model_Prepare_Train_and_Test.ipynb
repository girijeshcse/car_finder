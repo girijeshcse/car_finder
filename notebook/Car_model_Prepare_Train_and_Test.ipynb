{
  "nbformat": 4,
  "nbformat_minor": 0,
  "metadata": {
    "colab": {
      "name": "Car model Prepare Train and Test.ipynb",
      "provenance": [],
      "collapsed_sections": [],
      "toc_visible": true,
      "machine_shape": "hm",
      "authorship_tag": "ABX9TyMOyDa5+edMATEloYSmZ3jc",
      "include_colab_link": true
    },
    "kernelspec": {
      "name": "python3",
      "display_name": "Python 3"
    },
    "language_info": {
      "name": "python"
    },
    "accelerator": "TPU"
  },
  "cells": [
    {
      "cell_type": "markdown",
      "metadata": {
        "id": "view-in-github",
        "colab_type": "text"
      },
      "source": [
        "<a href=\"https://colab.research.google.com/github/girijeshcse/car_finder/blob/sushweta/notebook/Car_model_Prepare_Train_and_Test.ipynb\" target=\"_parent\"><img src=\"https://colab.research.google.com/assets/colab-badge.svg\" alt=\"Open In Colab\"/></a>"
      ]
    },
    {
      "cell_type": "markdown",
      "metadata": {
        "id": "t0JlASgT886f"
      },
      "source": [
        "# CAPSTONE PROJECT - Prepare and Pickle Train and Test data"
      ]
    },
    {
      "cell_type": "markdown",
      "source": [
        "# Load libraries"
      ],
      "metadata": {
        "id": "OaGu0x00OWXs"
      }
    },
    {
      "cell_type": "code",
      "metadata": {
        "id": "ckPVrt8k877-"
      },
      "source": [
        "import os\n",
        "import cv2\n",
        "import csv\n",
        "from tqdm import tqdm\n",
        "import pandas as pd\n",
        "import numpy as np\n",
        "import matplotlib.pyplot as plt\n",
        "import pickle\n",
        "from tensorflow.keras.preprocessing.image import img_to_array\n",
        "from tensorflow.keras.preprocessing.image import load_img\n",
        "\n",
        "from sklearn.preprocessing import LabelBinarizer\n"
      ],
      "execution_count": null,
      "outputs": []
    },
    {
      "cell_type": "markdown",
      "source": [
        "# Mount Drive, change working directory"
      ],
      "metadata": {
        "id": "2cSEUbVOOcBc"
      }
    },
    {
      "cell_type": "code",
      "metadata": {
        "colab": {
          "base_uri": "https://localhost:8080/"
        },
        "id": "PC-ymmL2-Sed",
        "outputId": "0ee8e9e9-32f2-42a0-bf4e-264c5c8a899f"
      },
      "source": [
        "from google.colab import drive\n",
        "drive.mount('/content/drive')"
      ],
      "execution_count": null,
      "outputs": [
        {
          "output_type": "stream",
          "name": "stdout",
          "text": [
            "Mounted at /content/drive\n"
          ]
        }
      ]
    },
    {
      "cell_type": "markdown",
      "metadata": {
        "id": "pNz6wRx3-fOn"
      },
      "source": [
        "Change the working directory"
      ]
    },
    {
      "cell_type": "code",
      "metadata": {
        "id": "fgmN84eN-eYd"
      },
      "source": [
        "#### Add your code here ####\n",
        "import os\n",
        "os.chdir('/content/drive/My Drive/Capstone Data')"
      ],
      "execution_count": null,
      "outputs": []
    },
    {
      "cell_type": "markdown",
      "source": [
        "# Setup configuration values and variables"
      ],
      "metadata": {
        "id": "i4qWULa7O9bd"
      }
    },
    {
      "cell_type": "code",
      "source": [
        "BASE_PATH = \"/content/drive/My Drive/Capstone Data\"\n",
        "\n",
        "BASE_OUTPUT = \"output\"\n",
        "\n",
        "TRAIN_IMAGES_PATH = os.path.sep.join([BASE_PATH, \"Car Images/Train Images\"])\n",
        "TEST_IMAGES_PATH = os.path.sep.join([BASE_PATH, \"Car Images/Test Images\"])\n",
        "TRAIN_ANNOTS_PATH = os.path.sep.join([BASE_PATH, \"Annotations/Train Annotations.csv\"])\n",
        "TEST_ANNOTS_PATH = os.path.sep.join([BASE_PATH, \"Annotations/Test Annotation.csv\"])\n",
        "CAR_NAMES_MAKE_DICT = os.path.sep.join([BASE_PATH, \"Car names and make.csv\"])\n",
        "\n",
        "# The path to our TensorFlow-serialized output model\n",
        "MODEL_PATH = os.path.sep.join([BASE_PATH, BASE_OUTPUT, \"detectorvgg16_V2.h5\"])\n",
        "LB_PATH = os.path.sep.join([BASE_PATH, BASE_OUTPUT, \"lb.pickle\"])\n",
        "\n",
        "TEST_FILENAMES = os.path.sep.join([BASE_PATH, BASE_OUTPUT, \"test_images.txt\"])\n",
        "\n",
        "DF_TRAIN_PATH = os.path.sep.join([BASE_PATH, BASE_OUTPUT, \"dftrain.pickle\"])\n",
        "DF_TEST_PATH = os.path.sep.join([BASE_PATH, BASE_OUTPUT, \"dftest.pickle\"])\n",
        "\n",
        "TRAIN_IMAGES_PROCESSED = os.path.sep.join([BASE_PATH, BASE_OUTPUT, \"trainimages.pickle\"])\n",
        "TEST_IMAGES_PROCESSED= os.path.sep.join([BASE_PATH, BASE_OUTPUT, \"testimages.pickle\"])\n",
        "\n",
        "TRAIN_BBOXES = os.path.sep.join([BASE_PATH, BASE_OUTPUT, \"trainbboxes.pickle\"])\n",
        "TEST_BBOXES= os.path.sep.join([BASE_PATH, BASE_OUTPUT, \"testbboxes.pickle\"])"
      ],
      "metadata": {
        "id": "OjkE351lr3s-"
      },
      "execution_count": null,
      "outputs": []
    },
    {
      "cell_type": "code",
      "source": [
        "# load the contents of the CSV annotations file\n",
        "\n",
        "# initialize the list of data (images), our target output predictions\n",
        "# (bounding box coordinates), along with the filenames of the\n",
        "# individual images\n",
        "\n",
        "labels = []\n",
        "Classname = []\n",
        "X1 = []\n",
        "Y1 = []\n",
        "X2 = []\n",
        "Y2 = []\n",
        "TrainFiles = []\n",
        "ImageClass= []\n",
        "\n",
        "_Classname = []\n",
        "_X1 = []\n",
        "_Y1 = []\n",
        "_X2 = []\n",
        "_Y2 = []\n",
        "TestFiles = []\n",
        "_ImageClass = []\n",
        "\n",
        "\n",
        "data = []\n",
        "_data = []\n",
        "testdata = []\n",
        "_testdata = []\n",
        "\n",
        "bboxes = []\n",
        "_bboxes = []\n",
        "testbboxes = []\n",
        "_testbboxes = []"
      ],
      "metadata": {
        "id": "J9LLGwzZr-IR"
      },
      "execution_count": null,
      "outputs": []
    },
    {
      "cell_type": "markdown",
      "source": [
        "# Read car names dictionary into dataframe"
      ],
      "metadata": {
        "id": "w73IuxY8PQI8"
      }
    },
    {
      "cell_type": "code",
      "metadata": {
        "id": "JihM5wtfHgYQ"
      },
      "source": [
        "car_map = pd.read_csv(CAR_NAMES_MAKE_DICT)"
      ],
      "execution_count": null,
      "outputs": []
    },
    {
      "cell_type": "code",
      "source": [
        "car_map.head()"
      ],
      "metadata": {
        "id": "tDdfeuZKsEJ-",
        "colab": {
          "base_uri": "https://localhost:8080/",
          "height": 206
        },
        "outputId": "cd56974b-25cf-4742-9a4e-cdb310c5951b"
      },
      "execution_count": null,
      "outputs": [
        {
          "output_type": "execute_result",
          "data": {
            "text/html": [
              "\n",
              "  <div id=\"df-8b3f556f-300b-42d9-a291-4833f7d14cc2\">\n",
              "    <div class=\"colab-df-container\">\n",
              "      <div>\n",
              "<style scoped>\n",
              "    .dataframe tbody tr th:only-of-type {\n",
              "        vertical-align: middle;\n",
              "    }\n",
              "\n",
              "    .dataframe tbody tr th {\n",
              "        vertical-align: top;\n",
              "    }\n",
              "\n",
              "    .dataframe thead th {\n",
              "        text-align: right;\n",
              "    }\n",
              "</style>\n",
              "<table border=\"1\" class=\"dataframe\">\n",
              "  <thead>\n",
              "    <tr style=\"text-align: right;\">\n",
              "      <th></th>\n",
              "      <th>Cars</th>\n",
              "      <th>Class Numbers</th>\n",
              "    </tr>\n",
              "  </thead>\n",
              "  <tbody>\n",
              "    <tr>\n",
              "      <th>0</th>\n",
              "      <td>AM General Hummer SUV 2000</td>\n",
              "      <td>1</td>\n",
              "    </tr>\n",
              "    <tr>\n",
              "      <th>1</th>\n",
              "      <td>Acura RL Sedan 2012</td>\n",
              "      <td>2</td>\n",
              "    </tr>\n",
              "    <tr>\n",
              "      <th>2</th>\n",
              "      <td>Acura TL Sedan 2012</td>\n",
              "      <td>3</td>\n",
              "    </tr>\n",
              "    <tr>\n",
              "      <th>3</th>\n",
              "      <td>Acura TL Type-S 2008</td>\n",
              "      <td>4</td>\n",
              "    </tr>\n",
              "    <tr>\n",
              "      <th>4</th>\n",
              "      <td>Acura TSX Sedan 2012</td>\n",
              "      <td>5</td>\n",
              "    </tr>\n",
              "  </tbody>\n",
              "</table>\n",
              "</div>\n",
              "      <button class=\"colab-df-convert\" onclick=\"convertToInteractive('df-8b3f556f-300b-42d9-a291-4833f7d14cc2')\"\n",
              "              title=\"Convert this dataframe to an interactive table.\"\n",
              "              style=\"display:none;\">\n",
              "        \n",
              "  <svg xmlns=\"http://www.w3.org/2000/svg\" height=\"24px\"viewBox=\"0 0 24 24\"\n",
              "       width=\"24px\">\n",
              "    <path d=\"M0 0h24v24H0V0z\" fill=\"none\"/>\n",
              "    <path d=\"M18.56 5.44l.94 2.06.94-2.06 2.06-.94-2.06-.94-.94-2.06-.94 2.06-2.06.94zm-11 1L8.5 8.5l.94-2.06 2.06-.94-2.06-.94L8.5 2.5l-.94 2.06-2.06.94zm10 10l.94 2.06.94-2.06 2.06-.94-2.06-.94-.94-2.06-.94 2.06-2.06.94z\"/><path d=\"M17.41 7.96l-1.37-1.37c-.4-.4-.92-.59-1.43-.59-.52 0-1.04.2-1.43.59L10.3 9.45l-7.72 7.72c-.78.78-.78 2.05 0 2.83L4 21.41c.39.39.9.59 1.41.59.51 0 1.02-.2 1.41-.59l7.78-7.78 2.81-2.81c.8-.78.8-2.07 0-2.86zM5.41 20L4 18.59l7.72-7.72 1.47 1.35L5.41 20z\"/>\n",
              "  </svg>\n",
              "      </button>\n",
              "      \n",
              "  <style>\n",
              "    .colab-df-container {\n",
              "      display:flex;\n",
              "      flex-wrap:wrap;\n",
              "      gap: 12px;\n",
              "    }\n",
              "\n",
              "    .colab-df-convert {\n",
              "      background-color: #E8F0FE;\n",
              "      border: none;\n",
              "      border-radius: 50%;\n",
              "      cursor: pointer;\n",
              "      display: none;\n",
              "      fill: #1967D2;\n",
              "      height: 32px;\n",
              "      padding: 0 0 0 0;\n",
              "      width: 32px;\n",
              "    }\n",
              "\n",
              "    .colab-df-convert:hover {\n",
              "      background-color: #E2EBFA;\n",
              "      box-shadow: 0px 1px 2px rgba(60, 64, 67, 0.3), 0px 1px 3px 1px rgba(60, 64, 67, 0.15);\n",
              "      fill: #174EA6;\n",
              "    }\n",
              "\n",
              "    [theme=dark] .colab-df-convert {\n",
              "      background-color: #3B4455;\n",
              "      fill: #D2E3FC;\n",
              "    }\n",
              "\n",
              "    [theme=dark] .colab-df-convert:hover {\n",
              "      background-color: #434B5C;\n",
              "      box-shadow: 0px 1px 3px 1px rgba(0, 0, 0, 0.15);\n",
              "      filter: drop-shadow(0px 1px 2px rgba(0, 0, 0, 0.3));\n",
              "      fill: #FFFFFF;\n",
              "    }\n",
              "  </style>\n",
              "\n",
              "      <script>\n",
              "        const buttonEl =\n",
              "          document.querySelector('#df-8b3f556f-300b-42d9-a291-4833f7d14cc2 button.colab-df-convert');\n",
              "        buttonEl.style.display =\n",
              "          google.colab.kernel.accessAllowed ? 'block' : 'none';\n",
              "\n",
              "        async function convertToInteractive(key) {\n",
              "          const element = document.querySelector('#df-8b3f556f-300b-42d9-a291-4833f7d14cc2');\n",
              "          const dataTable =\n",
              "            await google.colab.kernel.invokeFunction('convertToInteractive',\n",
              "                                                     [key], {});\n",
              "          if (!dataTable) return;\n",
              "\n",
              "          const docLinkHtml = 'Like what you see? Visit the ' +\n",
              "            '<a target=\"_blank\" href=https://colab.research.google.com/notebooks/data_table.ipynb>data table notebook</a>'\n",
              "            + ' to learn more about interactive tables.';\n",
              "          element.innerHTML = '';\n",
              "          dataTable['output_type'] = 'display_data';\n",
              "          await google.colab.output.renderOutput(dataTable, element);\n",
              "          const docLink = document.createElement('div');\n",
              "          docLink.innerHTML = docLinkHtml;\n",
              "          element.appendChild(docLink);\n",
              "        }\n",
              "      </script>\n",
              "    </div>\n",
              "  </div>\n",
              "  "
            ],
            "text/plain": [
              "                         Cars  Class Numbers\n",
              "0  AM General Hummer SUV 2000              1\n",
              "1         Acura RL Sedan 2012              2\n",
              "2         Acura TL Sedan 2012              3\n",
              "3        Acura TL Type-S 2008              4\n",
              "4        Acura TSX Sedan 2012              5"
            ]
          },
          "metadata": {},
          "execution_count": 8
        }
      ]
    },
    {
      "cell_type": "code",
      "metadata": {
        "colab": {
          "base_uri": "https://localhost:8080/"
        },
        "id": "uUfCD-5KK6gX",
        "outputId": "2cfe5993-8216-4f0b-bb86-ec7e49d76bf3"
      },
      "source": [
        "car_map.info()"
      ],
      "execution_count": null,
      "outputs": [
        {
          "output_type": "stream",
          "name": "stdout",
          "text": [
            "<class 'pandas.core.frame.DataFrame'>\n",
            "RangeIndex: 196 entries, 0 to 195\n",
            "Data columns (total 2 columns):\n",
            " #   Column         Non-Null Count  Dtype \n",
            "---  ------         --------------  ----- \n",
            " 0   Cars           196 non-null    object\n",
            " 1   Class Numbers  196 non-null    int64 \n",
            "dtypes: int64(1), object(1)\n",
            "memory usage: 3.2+ KB\n"
          ]
        }
      ]
    },
    {
      "cell_type": "code",
      "source": [
        "car_map.columns = car_map.columns.str.replace(' ', '')"
      ],
      "metadata": {
        "id": "6v9sOjkQPw3u"
      },
      "execution_count": null,
      "outputs": []
    },
    {
      "cell_type": "code",
      "source": [
        "#print(car_map)\n",
        "print(car_map.loc[car_map[\"ClassNumbers\"] == 174])\n",
        "\n",
        "\n",
        "print(car_map.loc[car_map[\"ClassNumbers\"] == 174][\"Cars\"].values)"
      ],
      "metadata": {
        "id": "TSmyJUZCPyyt",
        "colab": {
          "base_uri": "https://localhost:8080/"
        },
        "outputId": "27bf90bc-da3c-4fd3-d32e-2f59270e0942"
      },
      "execution_count": null,
      "outputs": [
        {
          "output_type": "stream",
          "name": "stdout",
          "text": [
            "                               Cars  ClassNumbers\n",
            "173  Ram C-V Cargo Van Minivan 2012           174\n",
            "['Ram C-V Cargo Van Minivan 2012']\n"
          ]
        }
      ]
    },
    {
      "cell_type": "code",
      "source": [
        "df_init= pd.read_csv(TRAIN_ANNOTS_PATH)\n",
        "\n",
        "df_init.info()"
      ],
      "metadata": {
        "id": "Fcqpyy3vP1St",
        "colab": {
          "base_uri": "https://localhost:8080/"
        },
        "outputId": "2e744361-4787-48a2-ebdc-848bab1af17c"
      },
      "execution_count": null,
      "outputs": [
        {
          "output_type": "stream",
          "name": "stdout",
          "text": [
            "<class 'pandas.core.frame.DataFrame'>\n",
            "RangeIndex: 8144 entries, 0 to 8143\n",
            "Data columns (total 6 columns):\n",
            " #   Column                    Non-Null Count  Dtype \n",
            "---  ------                    --------------  ----- \n",
            " 0   Image Name                8144 non-null   object\n",
            " 1   Bounding Box coordinates  8144 non-null   int64 \n",
            " 2   Unnamed: 2                8144 non-null   int64 \n",
            " 3   Unnamed: 3                8144 non-null   int64 \n",
            " 4   Unnamed: 4                8144 non-null   int64 \n",
            " 5   Image class               8144 non-null   int64 \n",
            "dtypes: int64(5), object(1)\n",
            "memory usage: 381.9+ KB\n"
          ]
        }
      ]
    },
    {
      "cell_type": "code",
      "source": [
        "df_inittest= pd.read_csv(TEST_ANNOTS_PATH)\n",
        "\n",
        "df_inittest.info()"
      ],
      "metadata": {
        "id": "_qHhfVSaP3Wn",
        "colab": {
          "base_uri": "https://localhost:8080/"
        },
        "outputId": "5f099e28-603e-4e53-b464-775360fcfc57"
      },
      "execution_count": null,
      "outputs": [
        {
          "output_type": "stream",
          "name": "stdout",
          "text": [
            "<class 'pandas.core.frame.DataFrame'>\n",
            "RangeIndex: 8041 entries, 0 to 8040\n",
            "Data columns (total 6 columns):\n",
            " #   Column                    Non-Null Count  Dtype \n",
            "---  ------                    --------------  ----- \n",
            " 0   Image Name                8041 non-null   object\n",
            " 1   Bounding Box coordinates  8041 non-null   int64 \n",
            " 2   Unnamed: 2                8041 non-null   int64 \n",
            " 3   Unnamed: 3                8041 non-null   int64 \n",
            " 4   Unnamed: 4                8041 non-null   int64 \n",
            " 5   Image class               8041 non-null   int64 \n",
            "dtypes: int64(5), object(1)\n",
            "memory usage: 377.0+ KB\n"
          ]
        }
      ]
    },
    {
      "cell_type": "code",
      "source": [
        "df_tidy = df_init.rename(columns = {'Bounding Box coordinates': 'StartX', 'Unnamed: 2' : 'StartY', 'Unnamed: 3':'EndX', 'Unnamed: 4':'EndY'}, inplace = False)\n",
        "df_tidytest = df_inittest.rename(columns = {'Bounding Box coordinates': 'StartX', 'Unnamed: 2' : 'StartY', 'Unnamed: 3':'EndX', 'Unnamed: 4':'EndY'}, inplace = False)"
      ],
      "metadata": {
        "id": "jfWGOm_aP8S_"
      },
      "execution_count": null,
      "outputs": []
    },
    {
      "cell_type": "code",
      "source": [
        "\n",
        "for dfrow in tqdm(df_tidy.iterrows()):\n",
        "      \n",
        "  lbl = dfrow[1]['Image class']\n",
        "\n",
        "  keyName = str(car_map.loc[car_map[\"ClassNumbers\"] == lbl][\"Cars\"].values)\n",
        "  keyName = keyName.strip(\"[\")\n",
        "  keyName = keyName.strip(\"]\")\n",
        "  keyName = keyName.strip(\"'\")\n",
        "\n",
        "  fname = dfrow[1]['Image Name']\n",
        "  imagePathtrain = os.path.sep.join([TRAIN_IMAGES_PATH, keyName, fname])\n",
        "      #print(imagePathtrain)\n",
        "\n",
        "  startX = dfrow[1]['StartX']\n",
        "  startY = dfrow[1]['StartY']\n",
        "  endX = dfrow[1]['EndX']\n",
        "  endY = dfrow[1]['EndY']\n",
        "  image = cv2.imread(imagePathtrain)\n",
        "  (h, w) = image.shape[:2]\n",
        "  #print(h,w)\n",
        "\n",
        "  # scale the bounding box coordinates relative to the spatial\n",
        "\t# dimensions of the input image\n",
        "  startX = float(startX) / w\n",
        "  startY = float(startY) / h\n",
        "  endX = float(endX) / w\n",
        "  endY = float(endY) / h\n",
        "  #print(fname, lbl, keyName, startX, startY, endX, endY)\n",
        "  #print(dfrow[1])\n",
        "\n",
        "  # load the image and preprocess it\n",
        "  image = load_img(imagePathtrain, target_size=(224, 224))\n",
        "  image = img_to_array(image)\n",
        "  # update our list of data, class labels, bounding boxes, and image paths\n",
        "  data.append(image)\n",
        "\n",
        "  Classname.append(keyName)\n",
        "  ImageClass.append(lbl)\n",
        "  X1.append(startX)\n",
        "  Y1.append(startY)\n",
        "  X2.append(endX)\n",
        "  Y2.append(endY)\n",
        "  bboxes.append((startX, startY, endX, endY))\n",
        "  TrainFiles.append(imagePathtrain)\n",
        "      \n",
        "df_tidy['Classname'] = Classname\n",
        "df_tidy['X1'] = X1\n",
        "df_tidy['Y1'] = Y1\n",
        "df_tidy['X2'] = X2\n",
        "df_tidy['Y2'] = Y2\n",
        "\n",
        "df_tidy['Filepath'] = TrainFiles"
      ],
      "metadata": {
        "id": "DpKPLt0rQDri",
        "colab": {
          "base_uri": "https://localhost:8080/"
        },
        "outputId": "76997fbe-988b-41a0-9549-ab3a57bff98b"
      },
      "execution_count": null,
      "outputs": [
        {
          "output_type": "stream",
          "name": "stderr",
          "text": [
            "8144it [31:12,  4.35it/s]\n"
          ]
        }
      ]
    },
    {
      "cell_type": "code",
      "source": [
        "\n",
        "print(df_tidy['Filepath'][0])\n",
        "print(df_tidy['Filepath'][1])\n",
        "print(df_tidy['Filepath'][2])\n",
        "print(df_tidy['Filepath'][4000])\n",
        "print(df_tidy['Filepath'][2000])\n",
        "print(df_tidy['Filepath'][3000])\n",
        "print(df_tidy['Filepath'][8000])"
      ],
      "metadata": {
        "id": "g4DoZjmwQGGF",
        "colab": {
          "base_uri": "https://localhost:8080/"
        },
        "outputId": "e14e97ec-3565-44b0-dd99-e7944daf86a4"
      },
      "execution_count": null,
      "outputs": [
        {
          "output_type": "stream",
          "name": "stdout",
          "text": [
            "/content/drive/My Drive/Capstone Data/Car Images/Train Images/Audi TTS Coupe 2012/00001.jpg\n",
            "/content/drive/My Drive/Capstone Data/Car Images/Train Images/Acura TL Sedan 2012/00002.jpg\n",
            "/content/drive/My Drive/Capstone Data/Car Images/Train Images/Dodge Dakota Club Cab 2007/00003.jpg\n",
            "/content/drive/My Drive/Capstone Data/Car Images/Train Images/Mercedes-Benz E-Class Sedan 2012/04001.jpg\n",
            "/content/drive/My Drive/Capstone Data/Car Images/Train Images/Jeep Grand Cherokee SUV 2012/02001.jpg\n",
            "/content/drive/My Drive/Capstone Data/Car Images/Train Images/Mercedes-Benz 300-Class Convertible 1993/03001.jpg\n",
            "/content/drive/My Drive/Capstone Data/Car Images/Train Images/Jeep Compass SUV 2012/08001.jpg\n"
          ]
        }
      ]
    },
    {
      "cell_type": "code",
      "source": [
        "df_tidy.head()"
      ],
      "metadata": {
        "id": "H9BGIfyVQH0y",
        "colab": {
          "base_uri": "https://localhost:8080/",
          "height": 354
        },
        "outputId": "9bafb9ba-3b9b-41d7-d4f1-c30a0462f8ca"
      },
      "execution_count": null,
      "outputs": [
        {
          "output_type": "execute_result",
          "data": {
            "text/html": [
              "\n",
              "  <div id=\"df-96c43149-39c8-418d-84ba-e0d65d5d3d65\">\n",
              "    <div class=\"colab-df-container\">\n",
              "      <div>\n",
              "<style scoped>\n",
              "    .dataframe tbody tr th:only-of-type {\n",
              "        vertical-align: middle;\n",
              "    }\n",
              "\n",
              "    .dataframe tbody tr th {\n",
              "        vertical-align: top;\n",
              "    }\n",
              "\n",
              "    .dataframe thead th {\n",
              "        text-align: right;\n",
              "    }\n",
              "</style>\n",
              "<table border=\"1\" class=\"dataframe\">\n",
              "  <thead>\n",
              "    <tr style=\"text-align: right;\">\n",
              "      <th></th>\n",
              "      <th>Image Name</th>\n",
              "      <th>StartX</th>\n",
              "      <th>StartY</th>\n",
              "      <th>EndX</th>\n",
              "      <th>EndY</th>\n",
              "      <th>Image class</th>\n",
              "      <th>Classname</th>\n",
              "      <th>X1</th>\n",
              "      <th>Y1</th>\n",
              "      <th>X2</th>\n",
              "      <th>Y2</th>\n",
              "      <th>Filepath</th>\n",
              "    </tr>\n",
              "  </thead>\n",
              "  <tbody>\n",
              "    <tr>\n",
              "      <th>0</th>\n",
              "      <td>00001.jpg</td>\n",
              "      <td>39</td>\n",
              "      <td>116</td>\n",
              "      <td>569</td>\n",
              "      <td>375</td>\n",
              "      <td>14</td>\n",
              "      <td>Audi TTS Coupe 2012</td>\n",
              "      <td>0.065000</td>\n",
              "      <td>0.290000</td>\n",
              "      <td>0.948333</td>\n",
              "      <td>0.937500</td>\n",
              "      <td>/content/drive/My Drive/Capstone Data/Car Imag...</td>\n",
              "    </tr>\n",
              "    <tr>\n",
              "      <th>1</th>\n",
              "      <td>00002.jpg</td>\n",
              "      <td>36</td>\n",
              "      <td>116</td>\n",
              "      <td>868</td>\n",
              "      <td>587</td>\n",
              "      <td>3</td>\n",
              "      <td>Acura TL Sedan 2012</td>\n",
              "      <td>0.040000</td>\n",
              "      <td>0.171852</td>\n",
              "      <td>0.964444</td>\n",
              "      <td>0.869630</td>\n",
              "      <td>/content/drive/My Drive/Capstone Data/Car Imag...</td>\n",
              "    </tr>\n",
              "    <tr>\n",
              "      <th>2</th>\n",
              "      <td>00003.jpg</td>\n",
              "      <td>85</td>\n",
              "      <td>109</td>\n",
              "      <td>601</td>\n",
              "      <td>381</td>\n",
              "      <td>91</td>\n",
              "      <td>Dodge Dakota Club Cab 2007</td>\n",
              "      <td>0.132812</td>\n",
              "      <td>0.227083</td>\n",
              "      <td>0.939063</td>\n",
              "      <td>0.793750</td>\n",
              "      <td>/content/drive/My Drive/Capstone Data/Car Imag...</td>\n",
              "    </tr>\n",
              "    <tr>\n",
              "      <th>3</th>\n",
              "      <td>00004.jpg</td>\n",
              "      <td>621</td>\n",
              "      <td>393</td>\n",
              "      <td>1484</td>\n",
              "      <td>1096</td>\n",
              "      <td>134</td>\n",
              "      <td>Hyundai Sonata Hybrid Sedan 2012</td>\n",
              "      <td>0.295714</td>\n",
              "      <td>0.283550</td>\n",
              "      <td>0.706667</td>\n",
              "      <td>0.790765</td>\n",
              "      <td>/content/drive/My Drive/Capstone Data/Car Imag...</td>\n",
              "    </tr>\n",
              "    <tr>\n",
              "      <th>4</th>\n",
              "      <td>00005.jpg</td>\n",
              "      <td>14</td>\n",
              "      <td>36</td>\n",
              "      <td>133</td>\n",
              "      <td>99</td>\n",
              "      <td>106</td>\n",
              "      <td>Ford F-450 Super Duty Crew Cab 2012</td>\n",
              "      <td>0.097222</td>\n",
              "      <td>0.333333</td>\n",
              "      <td>0.923611</td>\n",
              "      <td>0.916667</td>\n",
              "      <td>/content/drive/My Drive/Capstone Data/Car Imag...</td>\n",
              "    </tr>\n",
              "  </tbody>\n",
              "</table>\n",
              "</div>\n",
              "      <button class=\"colab-df-convert\" onclick=\"convertToInteractive('df-96c43149-39c8-418d-84ba-e0d65d5d3d65')\"\n",
              "              title=\"Convert this dataframe to an interactive table.\"\n",
              "              style=\"display:none;\">\n",
              "        \n",
              "  <svg xmlns=\"http://www.w3.org/2000/svg\" height=\"24px\"viewBox=\"0 0 24 24\"\n",
              "       width=\"24px\">\n",
              "    <path d=\"M0 0h24v24H0V0z\" fill=\"none\"/>\n",
              "    <path d=\"M18.56 5.44l.94 2.06.94-2.06 2.06-.94-2.06-.94-.94-2.06-.94 2.06-2.06.94zm-11 1L8.5 8.5l.94-2.06 2.06-.94-2.06-.94L8.5 2.5l-.94 2.06-2.06.94zm10 10l.94 2.06.94-2.06 2.06-.94-2.06-.94-.94-2.06-.94 2.06-2.06.94z\"/><path d=\"M17.41 7.96l-1.37-1.37c-.4-.4-.92-.59-1.43-.59-.52 0-1.04.2-1.43.59L10.3 9.45l-7.72 7.72c-.78.78-.78 2.05 0 2.83L4 21.41c.39.39.9.59 1.41.59.51 0 1.02-.2 1.41-.59l7.78-7.78 2.81-2.81c.8-.78.8-2.07 0-2.86zM5.41 20L4 18.59l7.72-7.72 1.47 1.35L5.41 20z\"/>\n",
              "  </svg>\n",
              "      </button>\n",
              "      \n",
              "  <style>\n",
              "    .colab-df-container {\n",
              "      display:flex;\n",
              "      flex-wrap:wrap;\n",
              "      gap: 12px;\n",
              "    }\n",
              "\n",
              "    .colab-df-convert {\n",
              "      background-color: #E8F0FE;\n",
              "      border: none;\n",
              "      border-radius: 50%;\n",
              "      cursor: pointer;\n",
              "      display: none;\n",
              "      fill: #1967D2;\n",
              "      height: 32px;\n",
              "      padding: 0 0 0 0;\n",
              "      width: 32px;\n",
              "    }\n",
              "\n",
              "    .colab-df-convert:hover {\n",
              "      background-color: #E2EBFA;\n",
              "      box-shadow: 0px 1px 2px rgba(60, 64, 67, 0.3), 0px 1px 3px 1px rgba(60, 64, 67, 0.15);\n",
              "      fill: #174EA6;\n",
              "    }\n",
              "\n",
              "    [theme=dark] .colab-df-convert {\n",
              "      background-color: #3B4455;\n",
              "      fill: #D2E3FC;\n",
              "    }\n",
              "\n",
              "    [theme=dark] .colab-df-convert:hover {\n",
              "      background-color: #434B5C;\n",
              "      box-shadow: 0px 1px 3px 1px rgba(0, 0, 0, 0.15);\n",
              "      filter: drop-shadow(0px 1px 2px rgba(0, 0, 0, 0.3));\n",
              "      fill: #FFFFFF;\n",
              "    }\n",
              "  </style>\n",
              "\n",
              "      <script>\n",
              "        const buttonEl =\n",
              "          document.querySelector('#df-96c43149-39c8-418d-84ba-e0d65d5d3d65 button.colab-df-convert');\n",
              "        buttonEl.style.display =\n",
              "          google.colab.kernel.accessAllowed ? 'block' : 'none';\n",
              "\n",
              "        async function convertToInteractive(key) {\n",
              "          const element = document.querySelector('#df-96c43149-39c8-418d-84ba-e0d65d5d3d65');\n",
              "          const dataTable =\n",
              "            await google.colab.kernel.invokeFunction('convertToInteractive',\n",
              "                                                     [key], {});\n",
              "          if (!dataTable) return;\n",
              "\n",
              "          const docLinkHtml = 'Like what you see? Visit the ' +\n",
              "            '<a target=\"_blank\" href=https://colab.research.google.com/notebooks/data_table.ipynb>data table notebook</a>'\n",
              "            + ' to learn more about interactive tables.';\n",
              "          element.innerHTML = '';\n",
              "          dataTable['output_type'] = 'display_data';\n",
              "          await google.colab.output.renderOutput(dataTable, element);\n",
              "          const docLink = document.createElement('div');\n",
              "          docLink.innerHTML = docLinkHtml;\n",
              "          element.appendChild(docLink);\n",
              "        }\n",
              "      </script>\n",
              "    </div>\n",
              "  </div>\n",
              "  "
            ],
            "text/plain": [
              "  Image Name  ...                                           Filepath\n",
              "0  00001.jpg  ...  /content/drive/My Drive/Capstone Data/Car Imag...\n",
              "1  00002.jpg  ...  /content/drive/My Drive/Capstone Data/Car Imag...\n",
              "2  00003.jpg  ...  /content/drive/My Drive/Capstone Data/Car Imag...\n",
              "3  00004.jpg  ...  /content/drive/My Drive/Capstone Data/Car Imag...\n",
              "4  00005.jpg  ...  /content/drive/My Drive/Capstone Data/Car Imag...\n",
              "\n",
              "[5 rows x 12 columns]"
            ]
          },
          "metadata": {},
          "execution_count": 17
        }
      ]
    },
    {
      "cell_type": "code",
      "source": [
        "for dfrow in tqdm(df_tidytest.iterrows()):\n",
        "      \n",
        "      lbl = dfrow[1]['Image class']\n",
        "\n",
        "      keyName = str(car_map.loc[car_map[\"ClassNumbers\"] == lbl][\"Cars\"].values)\n",
        "      keyName = keyName.strip(\"[\")\n",
        "      keyName = keyName.strip(\"]\")\n",
        "      keyName = keyName.strip(\"'\")\n",
        "\n",
        "      fname = dfrow[1]['Image Name']\n",
        "      imagePathtest = os.path.sep.join([TEST_IMAGES_PATH, keyName, fname])\n",
        "      #print(imagePathtrain)\n",
        "\n",
        "      startX = dfrow[1]['StartX']\n",
        "      startY = dfrow[1]['StartY']\n",
        "      endX = dfrow[1]['EndX']\n",
        "      endY = dfrow[1]['EndY']\n",
        "      image = cv2.imread(imagePathtest)\n",
        "      (h, w) = image.shape[:2]\n",
        "      #print(h,w)\n",
        "\n",
        "      # scale the bounding box coordinates relative to the spatial\n",
        "\t\t  # dimensions of the input image\n",
        "      startX = float(startX) / w\n",
        "      startY = float(startY) / h\n",
        "      endX = float(endX) / w\n",
        "      endY = float(endY) / h\n",
        "      #print(fname, lbl, keyName, startX, startY, endX, endY)\n",
        "      #print(dfrow[1])\n",
        "\n",
        "      # load the image and preprocess it\n",
        "      image = load_img(imagePathtest, target_size=(224, 224))\n",
        "      image = img_to_array(image)\n",
        "      # update our list of data, class labels, bounding boxes, and\n",
        "      # image paths\n",
        "      testdata.append(image)\n",
        "\n",
        "      _Classname.append(keyName)\n",
        "      _ImageClass.append(lbl)\n",
        "      _X1.append(startX)\n",
        "      _Y1.append(startY)\n",
        "      _X2.append(endX)\n",
        "      _Y2.append(endY)\n",
        "      testbboxes.append((startX, startY, endX, endY))\n",
        "      TestFiles.append(imagePathtest)\n",
        "\n",
        "      \n",
        "df_tidytest['Classname'] = _Classname\n",
        "df_tidytest['X1'] = _X1\n",
        "df_tidytest['Y1'] = _Y1\n",
        "df_tidytest['X2'] = _X2\n",
        "df_tidytest['Y2'] = _Y2\n",
        "\n",
        "df_tidytest['Filepath'] = TestFiles"
      ],
      "metadata": {
        "id": "uQLCvWySQMbn",
        "colab": {
          "base_uri": "https://localhost:8080/"
        },
        "outputId": "98f1694a-25ef-4a7f-8f5c-a6df8341b6b4"
      },
      "execution_count": null,
      "outputs": [
        {
          "output_type": "stream",
          "name": "stderr",
          "text": [
            "8041it [24:53,  5.39it/s]\n"
          ]
        }
      ]
    },
    {
      "cell_type": "code",
      "source": [
        "print(df_tidytest['Filepath'][0])\n",
        "print(df_tidytest['Filepath'][1])\n",
        "print(df_tidytest['Filepath'][2])\n",
        "print(df_tidytest['Filepath'][3])"
      ],
      "metadata": {
        "id": "lbAF-SkwQOUn",
        "colab": {
          "base_uri": "https://localhost:8080/"
        },
        "outputId": "5d3e7388-3bb8-48c3-854d-03ab3f3d633e"
      },
      "execution_count": null,
      "outputs": [
        {
          "output_type": "stream",
          "name": "stdout",
          "text": [
            "/content/drive/My Drive/Capstone Data/Car Images/Test Images/Suzuki Aerio Sedan 2007/00001.jpg\n",
            "/content/drive/My Drive/Capstone Data/Car Images/Test Images/Ferrari 458 Italia Convertible 2012/00002.jpg\n",
            "/content/drive/My Drive/Capstone Data/Car Images/Test Images/Jeep Patriot SUV 2012/00003.jpg\n",
            "/content/drive/My Drive/Capstone Data/Car Images/Test Images/Toyota Camry Sedan 2012/00004.jpg\n"
          ]
        }
      ]
    },
    {
      "cell_type": "code",
      "source": [
        "df_tidytest.head()"
      ],
      "metadata": {
        "id": "B4B_0BOtQQBw",
        "colab": {
          "base_uri": "https://localhost:8080/",
          "height": 250
        },
        "outputId": "3a6b1bba-b5f8-47cb-a63c-382d79fcbc4d"
      },
      "execution_count": null,
      "outputs": [
        {
          "output_type": "execute_result",
          "data": {
            "text/html": [
              "\n",
              "  <div id=\"df-e0bc5c5a-e93d-458b-81b5-d558c1d62911\">\n",
              "    <div class=\"colab-df-container\">\n",
              "      <div>\n",
              "<style scoped>\n",
              "    .dataframe tbody tr th:only-of-type {\n",
              "        vertical-align: middle;\n",
              "    }\n",
              "\n",
              "    .dataframe tbody tr th {\n",
              "        vertical-align: top;\n",
              "    }\n",
              "\n",
              "    .dataframe thead th {\n",
              "        text-align: right;\n",
              "    }\n",
              "</style>\n",
              "<table border=\"1\" class=\"dataframe\">\n",
              "  <thead>\n",
              "    <tr style=\"text-align: right;\">\n",
              "      <th></th>\n",
              "      <th>Image Name</th>\n",
              "      <th>StartX</th>\n",
              "      <th>StartY</th>\n",
              "      <th>EndX</th>\n",
              "      <th>EndY</th>\n",
              "      <th>Image class</th>\n",
              "      <th>Classname</th>\n",
              "      <th>X1</th>\n",
              "      <th>Y1</th>\n",
              "      <th>X2</th>\n",
              "      <th>Y2</th>\n",
              "      <th>Filepath</th>\n",
              "    </tr>\n",
              "  </thead>\n",
              "  <tbody>\n",
              "    <tr>\n",
              "      <th>0</th>\n",
              "      <td>00001.jpg</td>\n",
              "      <td>30</td>\n",
              "      <td>52</td>\n",
              "      <td>246</td>\n",
              "      <td>147</td>\n",
              "      <td>181</td>\n",
              "      <td>Suzuki Aerio Sedan 2007</td>\n",
              "      <td>0.108696</td>\n",
              "      <td>0.285714</td>\n",
              "      <td>0.891304</td>\n",
              "      <td>0.807692</td>\n",
              "      <td>/content/drive/My Drive/Capstone Data/Car Imag...</td>\n",
              "    </tr>\n",
              "    <tr>\n",
              "      <th>1</th>\n",
              "      <td>00002.jpg</td>\n",
              "      <td>100</td>\n",
              "      <td>19</td>\n",
              "      <td>576</td>\n",
              "      <td>203</td>\n",
              "      <td>103</td>\n",
              "      <td>Ferrari 458 Italia Convertible 2012</td>\n",
              "      <td>0.156250</td>\n",
              "      <td>0.052778</td>\n",
              "      <td>0.900000</td>\n",
              "      <td>0.563889</td>\n",
              "      <td>/content/drive/My Drive/Capstone Data/Car Imag...</td>\n",
              "    </tr>\n",
              "    <tr>\n",
              "      <th>2</th>\n",
              "      <td>00003.jpg</td>\n",
              "      <td>51</td>\n",
              "      <td>105</td>\n",
              "      <td>968</td>\n",
              "      <td>659</td>\n",
              "      <td>145</td>\n",
              "      <td>Jeep Patriot SUV 2012</td>\n",
              "      <td>0.049805</td>\n",
              "      <td>0.141700</td>\n",
              "      <td>0.945312</td>\n",
              "      <td>0.889339</td>\n",
              "      <td>/content/drive/My Drive/Capstone Data/Car Imag...</td>\n",
              "    </tr>\n",
              "    <tr>\n",
              "      <th>3</th>\n",
              "      <td>00004.jpg</td>\n",
              "      <td>67</td>\n",
              "      <td>84</td>\n",
              "      <td>581</td>\n",
              "      <td>407</td>\n",
              "      <td>187</td>\n",
              "      <td>Toyota Camry Sedan 2012</td>\n",
              "      <td>0.104688</td>\n",
              "      <td>0.175000</td>\n",
              "      <td>0.907813</td>\n",
              "      <td>0.847917</td>\n",
              "      <td>/content/drive/My Drive/Capstone Data/Car Imag...</td>\n",
              "    </tr>\n",
              "    <tr>\n",
              "      <th>4</th>\n",
              "      <td>00005.jpg</td>\n",
              "      <td>140</td>\n",
              "      <td>151</td>\n",
              "      <td>593</td>\n",
              "      <td>339</td>\n",
              "      <td>185</td>\n",
              "      <td>Tesla Model S Sedan 2012</td>\n",
              "      <td>0.233333</td>\n",
              "      <td>0.404826</td>\n",
              "      <td>0.988333</td>\n",
              "      <td>0.908847</td>\n",
              "      <td>/content/drive/My Drive/Capstone Data/Car Imag...</td>\n",
              "    </tr>\n",
              "  </tbody>\n",
              "</table>\n",
              "</div>\n",
              "      <button class=\"colab-df-convert\" onclick=\"convertToInteractive('df-e0bc5c5a-e93d-458b-81b5-d558c1d62911')\"\n",
              "              title=\"Convert this dataframe to an interactive table.\"\n",
              "              style=\"display:none;\">\n",
              "        \n",
              "  <svg xmlns=\"http://www.w3.org/2000/svg\" height=\"24px\"viewBox=\"0 0 24 24\"\n",
              "       width=\"24px\">\n",
              "    <path d=\"M0 0h24v24H0V0z\" fill=\"none\"/>\n",
              "    <path d=\"M18.56 5.44l.94 2.06.94-2.06 2.06-.94-2.06-.94-.94-2.06-.94 2.06-2.06.94zm-11 1L8.5 8.5l.94-2.06 2.06-.94-2.06-.94L8.5 2.5l-.94 2.06-2.06.94zm10 10l.94 2.06.94-2.06 2.06-.94-2.06-.94-.94-2.06-.94 2.06-2.06.94z\"/><path d=\"M17.41 7.96l-1.37-1.37c-.4-.4-.92-.59-1.43-.59-.52 0-1.04.2-1.43.59L10.3 9.45l-7.72 7.72c-.78.78-.78 2.05 0 2.83L4 21.41c.39.39.9.59 1.41.59.51 0 1.02-.2 1.41-.59l7.78-7.78 2.81-2.81c.8-.78.8-2.07 0-2.86zM5.41 20L4 18.59l7.72-7.72 1.47 1.35L5.41 20z\"/>\n",
              "  </svg>\n",
              "      </button>\n",
              "      \n",
              "  <style>\n",
              "    .colab-df-container {\n",
              "      display:flex;\n",
              "      flex-wrap:wrap;\n",
              "      gap: 12px;\n",
              "    }\n",
              "\n",
              "    .colab-df-convert {\n",
              "      background-color: #E8F0FE;\n",
              "      border: none;\n",
              "      border-radius: 50%;\n",
              "      cursor: pointer;\n",
              "      display: none;\n",
              "      fill: #1967D2;\n",
              "      height: 32px;\n",
              "      padding: 0 0 0 0;\n",
              "      width: 32px;\n",
              "    }\n",
              "\n",
              "    .colab-df-convert:hover {\n",
              "      background-color: #E2EBFA;\n",
              "      box-shadow: 0px 1px 2px rgba(60, 64, 67, 0.3), 0px 1px 3px 1px rgba(60, 64, 67, 0.15);\n",
              "      fill: #174EA6;\n",
              "    }\n",
              "\n",
              "    [theme=dark] .colab-df-convert {\n",
              "      background-color: #3B4455;\n",
              "      fill: #D2E3FC;\n",
              "    }\n",
              "\n",
              "    [theme=dark] .colab-df-convert:hover {\n",
              "      background-color: #434B5C;\n",
              "      box-shadow: 0px 1px 3px 1px rgba(0, 0, 0, 0.15);\n",
              "      filter: drop-shadow(0px 1px 2px rgba(0, 0, 0, 0.3));\n",
              "      fill: #FFFFFF;\n",
              "    }\n",
              "  </style>\n",
              "\n",
              "      <script>\n",
              "        const buttonEl =\n",
              "          document.querySelector('#df-e0bc5c5a-e93d-458b-81b5-d558c1d62911 button.colab-df-convert');\n",
              "        buttonEl.style.display =\n",
              "          google.colab.kernel.accessAllowed ? 'block' : 'none';\n",
              "\n",
              "        async function convertToInteractive(key) {\n",
              "          const element = document.querySelector('#df-e0bc5c5a-e93d-458b-81b5-d558c1d62911');\n",
              "          const dataTable =\n",
              "            await google.colab.kernel.invokeFunction('convertToInteractive',\n",
              "                                                     [key], {});\n",
              "          if (!dataTable) return;\n",
              "\n",
              "          const docLinkHtml = 'Like what you see? Visit the ' +\n",
              "            '<a target=\"_blank\" href=https://colab.research.google.com/notebooks/data_table.ipynb>data table notebook</a>'\n",
              "            + ' to learn more about interactive tables.';\n",
              "          element.innerHTML = '';\n",
              "          dataTable['output_type'] = 'display_data';\n",
              "          await google.colab.output.renderOutput(dataTable, element);\n",
              "          const docLink = document.createElement('div');\n",
              "          docLink.innerHTML = docLinkHtml;\n",
              "          element.appendChild(docLink);\n",
              "        }\n",
              "      </script>\n",
              "    </div>\n",
              "  </div>\n",
              "  "
            ],
            "text/plain": [
              "  Image Name  ...                                           Filepath\n",
              "0  00001.jpg  ...  /content/drive/My Drive/Capstone Data/Car Imag...\n",
              "1  00002.jpg  ...  /content/drive/My Drive/Capstone Data/Car Imag...\n",
              "2  00003.jpg  ...  /content/drive/My Drive/Capstone Data/Car Imag...\n",
              "3  00004.jpg  ...  /content/drive/My Drive/Capstone Data/Car Imag...\n",
              "4  00005.jpg  ...  /content/drive/My Drive/Capstone Data/Car Imag...\n",
              "\n",
              "[5 rows x 12 columns]"
            ]
          },
          "metadata": {},
          "execution_count": 20
        }
      ]
    },
    {
      "cell_type": "code",
      "source": [
        "from matplotlib import pyplot as plt\n",
        "import cv2\n",
        "import numpy as np\n",
        "import pandas as pd\n",
        "\n",
        "#Pickup a random image number\n",
        "img_num = np.random.randint(0, df_tidytest.shape[0])\n",
        "#Read the image and draw a rectangle as per bounding box information\n",
        "img = cv2.imread(df_tidytest.loc[img_num,'Filepath'])\n",
        "img = cv2.resize(img,(224, 224))\n",
        "(h, w) = img.shape[:2]\n",
        "x_ratio = 224/w\n",
        "y_ratio = 224/h\n",
        "cv2.rectangle(img, \n",
        "             (int(df_tidytest.loc[img_num, 'StartX']*x_ratio),int(df_tidytest.loc[img_num, 'StartY']*y_ratio)),\n",
        "             (int(df_tidytest.loc[img_num, 'EndX']*x_ratio),int(df_tidytest.loc[img_num, 'EndY']*y_ratio)), \n",
        "             (0,255,0),\n",
        "             2)\n",
        "\n",
        "#Convert BGR format (used by opencv to RGB format used by matplotlib)\n",
        "img = cv2.cvtColor(img, cv2.COLOR_BGR2RGB)\n",
        "\n",
        "#Draw image using matplotlib\n",
        "plt.suptitle(df_tidytest.loc[img_num, 'Classname'])\n",
        "plt.imshow(img)\n",
        "plt.show()"
      ],
      "metadata": {
        "id": "ucHJCqjWQWX0",
        "colab": {
          "base_uri": "https://localhost:8080/",
          "height": 294
        },
        "outputId": "e7835903-03a7-43d7-b180-6a8ebf1f3f0d"
      },
      "execution_count": null,
      "outputs": [
        {
          "output_type": "display_data",
          "data": {
            "image/png": "[encoded data removed]",
            "text/plain": [
              "<Figure size 432x288 with 1 Axes>"
            ]
          },
          "metadata": {
            "needs_background": "light"
          }
        }
      ]
    },
    {
      "cell_type": "code",
      "source": [
        "# write the testing filenames to disk so that we can use then\n",
        "# when evaluating/testing our bounding box regressor\n",
        "print(\"[INFO] saving testing filenames...\")\n",
        "f = open(TEST_FILENAMES, \"w+\")\n",
        "f.write(\"\\n\".join(TestFiles))\n",
        "f.close()"
      ],
      "metadata": {
        "id": "a9NNH1sSQZfI",
        "colab": {
          "base_uri": "https://localhost:8080/"
        },
        "outputId": "1e600dbb-04ac-439a-aa20-b725bdf86700"
      },
      "execution_count": null,
      "outputs": [
        {
          "output_type": "stream",
          "name": "stdout",
          "text": [
            "[INFO] saving testing filenames...\n"
          ]
        }
      ]
    },
    {
      "cell_type": "code",
      "source": [
        "df_tidy.to_pickle(DF_TRAIN_PATH)"
      ],
      "metadata": {
        "id": "69Z4oUQFMXa3"
      },
      "execution_count": null,
      "outputs": []
    },
    {
      "cell_type": "code",
      "source": [
        "DF_train = pd.read_pickle(DF_TRAIN_PATH)\n",
        "DF_train.head()"
      ],
      "metadata": {
        "id": "AoFrsT8WMZoR",
        "colab": {
          "base_uri": "https://localhost:8080/",
          "height": 354
        },
        "outputId": "1833fd24-ba12-4f79-f654-b50154206690"
      },
      "execution_count": null,
      "outputs": [
        {
          "output_type": "execute_result",
          "data": {
            "text/html": [
              "\n",
              "  <div id=\"df-41d38e13-2d92-4ec9-ad89-0f15119e6dd1\">\n",
              "    <div class=\"colab-df-container\">\n",
              "      <div>\n",
              "<style scoped>\n",
              "    .dataframe tbody tr th:only-of-type {\n",
              "        vertical-align: middle;\n",
              "    }\n",
              "\n",
              "    .dataframe tbody tr th {\n",
              "        vertical-align: top;\n",
              "    }\n",
              "\n",
              "    .dataframe thead th {\n",
              "        text-align: right;\n",
              "    }\n",
              "</style>\n",
              "<table border=\"1\" class=\"dataframe\">\n",
              "  <thead>\n",
              "    <tr style=\"text-align: right;\">\n",
              "      <th></th>\n",
              "      <th>Image Name</th>\n",
              "      <th>StartX</th>\n",
              "      <th>StartY</th>\n",
              "      <th>EndX</th>\n",
              "      <th>EndY</th>\n",
              "      <th>Image class</th>\n",
              "      <th>Classname</th>\n",
              "      <th>X1</th>\n",
              "      <th>Y1</th>\n",
              "      <th>X2</th>\n",
              "      <th>Y2</th>\n",
              "      <th>Filepath</th>\n",
              "    </tr>\n",
              "  </thead>\n",
              "  <tbody>\n",
              "    <tr>\n",
              "      <th>0</th>\n",
              "      <td>00001.jpg</td>\n",
              "      <td>39</td>\n",
              "      <td>116</td>\n",
              "      <td>569</td>\n",
              "      <td>375</td>\n",
              "      <td>14</td>\n",
              "      <td>Audi TTS Coupe 2012</td>\n",
              "      <td>0.065000</td>\n",
              "      <td>0.290000</td>\n",
              "      <td>0.948333</td>\n",
              "      <td>0.937500</td>\n",
              "      <td>/content/drive/My Drive/Capstone Data/Car Imag...</td>\n",
              "    </tr>\n",
              "    <tr>\n",
              "      <th>1</th>\n",
              "      <td>00002.jpg</td>\n",
              "      <td>36</td>\n",
              "      <td>116</td>\n",
              "      <td>868</td>\n",
              "      <td>587</td>\n",
              "      <td>3</td>\n",
              "      <td>Acura TL Sedan 2012</td>\n",
              "      <td>0.040000</td>\n",
              "      <td>0.171852</td>\n",
              "      <td>0.964444</td>\n",
              "      <td>0.869630</td>\n",
              "      <td>/content/drive/My Drive/Capstone Data/Car Imag...</td>\n",
              "    </tr>\n",
              "    <tr>\n",
              "      <th>2</th>\n",
              "      <td>00003.jpg</td>\n",
              "      <td>85</td>\n",
              "      <td>109</td>\n",
              "      <td>601</td>\n",
              "      <td>381</td>\n",
              "      <td>91</td>\n",
              "      <td>Dodge Dakota Club Cab 2007</td>\n",
              "      <td>0.132812</td>\n",
              "      <td>0.227083</td>\n",
              "      <td>0.939063</td>\n",
              "      <td>0.793750</td>\n",
              "      <td>/content/drive/My Drive/Capstone Data/Car Imag...</td>\n",
              "    </tr>\n",
              "    <tr>\n",
              "      <th>3</th>\n",
              "      <td>00004.jpg</td>\n",
              "      <td>621</td>\n",
              "      <td>393</td>\n",
              "      <td>1484</td>\n",
              "      <td>1096</td>\n",
              "      <td>134</td>\n",
              "      <td>Hyundai Sonata Hybrid Sedan 2012</td>\n",
              "      <td>0.295714</td>\n",
              "      <td>0.283550</td>\n",
              "      <td>0.706667</td>\n",
              "      <td>0.790765</td>\n",
              "      <td>/content/drive/My Drive/Capstone Data/Car Imag...</td>\n",
              "    </tr>\n",
              "    <tr>\n",
              "      <th>4</th>\n",
              "      <td>00005.jpg</td>\n",
              "      <td>14</td>\n",
              "      <td>36</td>\n",
              "      <td>133</td>\n",
              "      <td>99</td>\n",
              "      <td>106</td>\n",
              "      <td>Ford F-450 Super Duty Crew Cab 2012</td>\n",
              "      <td>0.097222</td>\n",
              "      <td>0.333333</td>\n",
              "      <td>0.923611</td>\n",
              "      <td>0.916667</td>\n",
              "      <td>/content/drive/My Drive/Capstone Data/Car Imag...</td>\n",
              "    </tr>\n",
              "  </tbody>\n",
              "</table>\n",
              "</div>\n",
              "      <button class=\"colab-df-convert\" onclick=\"convertToInteractive('df-41d38e13-2d92-4ec9-ad89-0f15119e6dd1')\"\n",
              "              title=\"Convert this dataframe to an interactive table.\"\n",
              "              style=\"display:none;\">\n",
              "        \n",
              "  <svg xmlns=\"http://www.w3.org/2000/svg\" height=\"24px\"viewBox=\"0 0 24 24\"\n",
              "       width=\"24px\">\n",
              "    <path d=\"M0 0h24v24H0V0z\" fill=\"none\"/>\n",
              "    <path d=\"M18.56 5.44l.94 2.06.94-2.06 2.06-.94-2.06-.94-.94-2.06-.94 2.06-2.06.94zm-11 1L8.5 8.5l.94-2.06 2.06-.94-2.06-.94L8.5 2.5l-.94 2.06-2.06.94zm10 10l.94 2.06.94-2.06 2.06-.94-2.06-.94-.94-2.06-.94 2.06-2.06.94z\"/><path d=\"M17.41 7.96l-1.37-1.37c-.4-.4-.92-.59-1.43-.59-.52 0-1.04.2-1.43.59L10.3 9.45l-7.72 7.72c-.78.78-.78 2.05 0 2.83L4 21.41c.39.39.9.59 1.41.59.51 0 1.02-.2 1.41-.59l7.78-7.78 2.81-2.81c.8-.78.8-2.07 0-2.86zM5.41 20L4 18.59l7.72-7.72 1.47 1.35L5.41 20z\"/>\n",
              "  </svg>\n",
              "      </button>\n",
              "      \n",
              "  <style>\n",
              "    .colab-df-container {\n",
              "      display:flex;\n",
              "      flex-wrap:wrap;\n",
              "      gap: 12px;\n",
              "    }\n",
              "\n",
              "    .colab-df-convert {\n",
              "      background-color: #E8F0FE;\n",
              "      border: none;\n",
              "      border-radius: 50%;\n",
              "      cursor: pointer;\n",
              "      display: none;\n",
              "      fill: #1967D2;\n",
              "      height: 32px;\n",
              "      padding: 0 0 0 0;\n",
              "      width: 32px;\n",
              "    }\n",
              "\n",
              "    .colab-df-convert:hover {\n",
              "      background-color: #E2EBFA;\n",
              "      box-shadow: 0px 1px 2px rgba(60, 64, 67, 0.3), 0px 1px 3px 1px rgba(60, 64, 67, 0.15);\n",
              "      fill: #174EA6;\n",
              "    }\n",
              "\n",
              "    [theme=dark] .colab-df-convert {\n",
              "      background-color: #3B4455;\n",
              "      fill: #D2E3FC;\n",
              "    }\n",
              "\n",
              "    [theme=dark] .colab-df-convert:hover {\n",
              "      background-color: #434B5C;\n",
              "      box-shadow: 0px 1px 3px 1px rgba(0, 0, 0, 0.15);\n",
              "      filter: drop-shadow(0px 1px 2px rgba(0, 0, 0, 0.3));\n",
              "      fill: #FFFFFF;\n",
              "    }\n",
              "  </style>\n",
              "\n",
              "      <script>\n",
              "        const buttonEl =\n",
              "          document.querySelector('#df-41d38e13-2d92-4ec9-ad89-0f15119e6dd1 button.colab-df-convert');\n",
              "        buttonEl.style.display =\n",
              "          google.colab.kernel.accessAllowed ? 'block' : 'none';\n",
              "\n",
              "        async function convertToInteractive(key) {\n",
              "          const element = document.querySelector('#df-41d38e13-2d92-4ec9-ad89-0f15119e6dd1');\n",
              "          const dataTable =\n",
              "            await google.colab.kernel.invokeFunction('convertToInteractive',\n",
              "                                                     [key], {});\n",
              "          if (!dataTable) return;\n",
              "\n",
              "          const docLinkHtml = 'Like what you see? Visit the ' +\n",
              "            '<a target=\"_blank\" href=https://colab.research.google.com/notebooks/data_table.ipynb>data table notebook</a>'\n",
              "            + ' to learn more about interactive tables.';\n",
              "          element.innerHTML = '';\n",
              "          dataTable['output_type'] = 'display_data';\n",
              "          await google.colab.output.renderOutput(dataTable, element);\n",
              "          const docLink = document.createElement('div');\n",
              "          docLink.innerHTML = docLinkHtml;\n",
              "          element.appendChild(docLink);\n",
              "        }\n",
              "      </script>\n",
              "    </div>\n",
              "  </div>\n",
              "  "
            ],
            "text/plain": [
              "  Image Name  ...                                           Filepath\n",
              "0  00001.jpg  ...  /content/drive/My Drive/Capstone Data/Car Imag...\n",
              "1  00002.jpg  ...  /content/drive/My Drive/Capstone Data/Car Imag...\n",
              "2  00003.jpg  ...  /content/drive/My Drive/Capstone Data/Car Imag...\n",
              "3  00004.jpg  ...  /content/drive/My Drive/Capstone Data/Car Imag...\n",
              "4  00005.jpg  ...  /content/drive/My Drive/Capstone Data/Car Imag...\n",
              "\n",
              "[5 rows x 12 columns]"
            ]
          },
          "metadata": {},
          "execution_count": 24
        }
      ]
    },
    {
      "cell_type": "code",
      "source": [
        "df_tidytest.to_pickle(DF_TEST_PATH)"
      ],
      "metadata": {
        "id": "GlCliUgxM6oR"
      },
      "execution_count": null,
      "outputs": []
    },
    {
      "cell_type": "code",
      "source": [
        "DF_test = pd.read_pickle(DF_TEST_PATH)\n",
        "DF_test.head()"
      ],
      "metadata": {
        "id": "RZJPCn0eMvhh",
        "colab": {
          "base_uri": "https://localhost:8080/",
          "height": 250
        },
        "outputId": "811daea4-31c9-4bed-f2b2-649a3468a3d7"
      },
      "execution_count": null,
      "outputs": [
        {
          "output_type": "execute_result",
          "data": {
            "text/html": [
              "\n",
              "  <div id=\"df-7e1813e9-2ec1-4d03-9893-74c473db0cca\">\n",
              "    <div class=\"colab-df-container\">\n",
              "      <div>\n",
              "<style scoped>\n",
              "    .dataframe tbody tr th:only-of-type {\n",
              "        vertical-align: middle;\n",
              "    }\n",
              "\n",
              "    .dataframe tbody tr th {\n",
              "        vertical-align: top;\n",
              "    }\n",
              "\n",
              "    .dataframe thead th {\n",
              "        text-align: right;\n",
              "    }\n",
              "</style>\n",
              "<table border=\"1\" class=\"dataframe\">\n",
              "  <thead>\n",
              "    <tr style=\"text-align: right;\">\n",
              "      <th></th>\n",
              "      <th>Image Name</th>\n",
              "      <th>StartX</th>\n",
              "      <th>StartY</th>\n",
              "      <th>EndX</th>\n",
              "      <th>EndY</th>\n",
              "      <th>Image class</th>\n",
              "      <th>Classname</th>\n",
              "      <th>X1</th>\n",
              "      <th>Y1</th>\n",
              "      <th>X2</th>\n",
              "      <th>Y2</th>\n",
              "      <th>Filepath</th>\n",
              "    </tr>\n",
              "  </thead>\n",
              "  <tbody>\n",
              "    <tr>\n",
              "      <th>0</th>\n",
              "      <td>00001.jpg</td>\n",
              "      <td>30</td>\n",
              "      <td>52</td>\n",
              "      <td>246</td>\n",
              "      <td>147</td>\n",
              "      <td>181</td>\n",
              "      <td>Suzuki Aerio Sedan 2007</td>\n",
              "      <td>0.108696</td>\n",
              "      <td>0.285714</td>\n",
              "      <td>0.891304</td>\n",
              "      <td>0.807692</td>\n",
              "      <td>/content/drive/My Drive/Capstone Data/Car Imag...</td>\n",
              "    </tr>\n",
              "    <tr>\n",
              "      <th>1</th>\n",
              "      <td>00002.jpg</td>\n",
              "      <td>100</td>\n",
              "      <td>19</td>\n",
              "      <td>576</td>\n",
              "      <td>203</td>\n",
              "      <td>103</td>\n",
              "      <td>Ferrari 458 Italia Convertible 2012</td>\n",
              "      <td>0.156250</td>\n",
              "      <td>0.052778</td>\n",
              "      <td>0.900000</td>\n",
              "      <td>0.563889</td>\n",
              "      <td>/content/drive/My Drive/Capstone Data/Car Imag...</td>\n",
              "    </tr>\n",
              "    <tr>\n",
              "      <th>2</th>\n",
              "      <td>00003.jpg</td>\n",
              "      <td>51</td>\n",
              "      <td>105</td>\n",
              "      <td>968</td>\n",
              "      <td>659</td>\n",
              "      <td>145</td>\n",
              "      <td>Jeep Patriot SUV 2012</td>\n",
              "      <td>0.049805</td>\n",
              "      <td>0.141700</td>\n",
              "      <td>0.945312</td>\n",
              "      <td>0.889339</td>\n",
              "      <td>/content/drive/My Drive/Capstone Data/Car Imag...</td>\n",
              "    </tr>\n",
              "    <tr>\n",
              "      <th>3</th>\n",
              "      <td>00004.jpg</td>\n",
              "      <td>67</td>\n",
              "      <td>84</td>\n",
              "      <td>581</td>\n",
              "      <td>407</td>\n",
              "      <td>187</td>\n",
              "      <td>Toyota Camry Sedan 2012</td>\n",
              "      <td>0.104688</td>\n",
              "      <td>0.175000</td>\n",
              "      <td>0.907813</td>\n",
              "      <td>0.847917</td>\n",
              "      <td>/content/drive/My Drive/Capstone Data/Car Imag...</td>\n",
              "    </tr>\n",
              "    <tr>\n",
              "      <th>4</th>\n",
              "      <td>00005.jpg</td>\n",
              "      <td>140</td>\n",
              "      <td>151</td>\n",
              "      <td>593</td>\n",
              "      <td>339</td>\n",
              "      <td>185</td>\n",
              "      <td>Tesla Model S Sedan 2012</td>\n",
              "      <td>0.233333</td>\n",
              "      <td>0.404826</td>\n",
              "      <td>0.988333</td>\n",
              "      <td>0.908847</td>\n",
              "      <td>/content/drive/My Drive/Capstone Data/Car Imag...</td>\n",
              "    </tr>\n",
              "  </tbody>\n",
              "</table>\n",
              "</div>\n",
              "      <button class=\"colab-df-convert\" onclick=\"convertToInteractive('df-7e1813e9-2ec1-4d03-9893-74c473db0cca')\"\n",
              "              title=\"Convert this dataframe to an interactive table.\"\n",
              "              style=\"display:none;\">\n",
              "        \n",
              "  <svg xmlns=\"http://www.w3.org/2000/svg\" height=\"24px\"viewBox=\"0 0 24 24\"\n",
              "       width=\"24px\">\n",
              "    <path d=\"M0 0h24v24H0V0z\" fill=\"none\"/>\n",
              "    <path d=\"M18.56 5.44l.94 2.06.94-2.06 2.06-.94-2.06-.94-.94-2.06-.94 2.06-2.06.94zm-11 1L8.5 8.5l.94-2.06 2.06-.94-2.06-.94L8.5 2.5l-.94 2.06-2.06.94zm10 10l.94 2.06.94-2.06 2.06-.94-2.06-.94-.94-2.06-.94 2.06-2.06.94z\"/><path d=\"M17.41 7.96l-1.37-1.37c-.4-.4-.92-.59-1.43-.59-.52 0-1.04.2-1.43.59L10.3 9.45l-7.72 7.72c-.78.78-.78 2.05 0 2.83L4 21.41c.39.39.9.59 1.41.59.51 0 1.02-.2 1.41-.59l7.78-7.78 2.81-2.81c.8-.78.8-2.07 0-2.86zM5.41 20L4 18.59l7.72-7.72 1.47 1.35L5.41 20z\"/>\n",
              "  </svg>\n",
              "      </button>\n",
              "      \n",
              "  <style>\n",
              "    .colab-df-container {\n",
              "      display:flex;\n",
              "      flex-wrap:wrap;\n",
              "      gap: 12px;\n",
              "    }\n",
              "\n",
              "    .colab-df-convert {\n",
              "      background-color: #E8F0FE;\n",
              "      border: none;\n",
              "      border-radius: 50%;\n",
              "      cursor: pointer;\n",
              "      display: none;\n",
              "      fill: #1967D2;\n",
              "      height: 32px;\n",
              "      padding: 0 0 0 0;\n",
              "      width: 32px;\n",
              "    }\n",
              "\n",
              "    .colab-df-convert:hover {\n",
              "      background-color: #E2EBFA;\n",
              "      box-shadow: 0px 1px 2px rgba(60, 64, 67, 0.3), 0px 1px 3px 1px rgba(60, 64, 67, 0.15);\n",
              "      fill: #174EA6;\n",
              "    }\n",
              "\n",
              "    [theme=dark] .colab-df-convert {\n",
              "      background-color: #3B4455;\n",
              "      fill: #D2E3FC;\n",
              "    }\n",
              "\n",
              "    [theme=dark] .colab-df-convert:hover {\n",
              "      background-color: #434B5C;\n",
              "      box-shadow: 0px 1px 3px 1px rgba(0, 0, 0, 0.15);\n",
              "      filter: drop-shadow(0px 1px 2px rgba(0, 0, 0, 0.3));\n",
              "      fill: #FFFFFF;\n",
              "    }\n",
              "  </style>\n",
              "\n",
              "      <script>\n",
              "        const buttonEl =\n",
              "          document.querySelector('#df-7e1813e9-2ec1-4d03-9893-74c473db0cca button.colab-df-convert');\n",
              "        buttonEl.style.display =\n",
              "          google.colab.kernel.accessAllowed ? 'block' : 'none';\n",
              "\n",
              "        async function convertToInteractive(key) {\n",
              "          const element = document.querySelector('#df-7e1813e9-2ec1-4d03-9893-74c473db0cca');\n",
              "          const dataTable =\n",
              "            await google.colab.kernel.invokeFunction('convertToInteractive',\n",
              "                                                     [key], {});\n",
              "          if (!dataTable) return;\n",
              "\n",
              "          const docLinkHtml = 'Like what you see? Visit the ' +\n",
              "            '<a target=\"_blank\" href=https://colab.research.google.com/notebooks/data_table.ipynb>data table notebook</a>'\n",
              "            + ' to learn more about interactive tables.';\n",
              "          element.innerHTML = '';\n",
              "          dataTable['output_type'] = 'display_data';\n",
              "          await google.colab.output.renderOutput(dataTable, element);\n",
              "          const docLink = document.createElement('div');\n",
              "          docLink.innerHTML = docLinkHtml;\n",
              "          element.appendChild(docLink);\n",
              "        }\n",
              "      </script>\n",
              "    </div>\n",
              "  </div>\n",
              "  "
            ],
            "text/plain": [
              "  Image Name  ...                                           Filepath\n",
              "0  00001.jpg  ...  /content/drive/My Drive/Capstone Data/Car Imag...\n",
              "1  00002.jpg  ...  /content/drive/My Drive/Capstone Data/Car Imag...\n",
              "2  00003.jpg  ...  /content/drive/My Drive/Capstone Data/Car Imag...\n",
              "3  00004.jpg  ...  /content/drive/My Drive/Capstone Data/Car Imag...\n",
              "4  00005.jpg  ...  /content/drive/My Drive/Capstone Data/Car Imag...\n",
              "\n",
              "[5 rows x 12 columns]"
            ]
          },
          "metadata": {},
          "execution_count": 26
        }
      ]
    },
    {
      "cell_type": "code",
      "source": [
        "pickle.dump(data, open(TRAIN_IMAGES_PROCESSED, 'wb'))\n",
        "pickle.dump(testdata, open(TEST_IMAGES_PROCESSED, 'wb'))"
      ],
      "metadata": {
        "id": "vSzhOhV1X5gU"
      },
      "execution_count": null,
      "outputs": []
    },
    {
      "cell_type": "code",
      "source": [
        "file = open(TRAIN_IMAGES_PROCESSED,'rb')\n",
        "_data = pickle.load(file)\n",
        "\n",
        "file = open(TEST_IMAGES_PROCESSED,'rb')\n",
        "_testdata = pickle.load(file)"
      ],
      "metadata": {
        "id": "aauXGNynYOjd"
      },
      "execution_count": null,
      "outputs": []
    },
    {
      "cell_type": "code",
      "source": [
        "pickle.dump(bboxes, open(TRAIN_BBOXES, 'wb'))\n",
        "pickle.dump(testbboxes, open(TEST_BBOXES, 'wb'))"
      ],
      "metadata": {
        "id": "CbUZkkypYxYj"
      },
      "execution_count": null,
      "outputs": []
    },
    {
      "cell_type": "code",
      "source": [
        "file = open(TRAIN_BBOXES, 'rb')\n",
        "_bboxes = pickle.load(file)\n",
        "\n",
        "file = open(TEST_BBOXES, 'rb')\n",
        "_testbboxes = pickle.load(file)"
      ],
      "metadata": {
        "id": "bJZLgBqBZaV5"
      },
      "execution_count": null,
      "outputs": []
    },
    {
      "cell_type": "code",
      "source": [
        "'''\n",
        "_data.shape\n",
        "_testdata.shape\n",
        "_bboxes.shape\n",
        "_testbboxes.shape\n",
        "'''"
      ],
      "metadata": {
        "id": "bAIMqKm02qM5"
      },
      "execution_count": null,
      "outputs": []
    },
    {
      "cell_type": "code",
      "source": [
        "ImageClass = DF_train[\"Image class\"]\n",
        "_ImageClass = DF_test[\"Image class\"]"
      ],
      "metadata": {
        "id": "rlXbLnkB9Lgx"
      },
      "execution_count": null,
      "outputs": []
    },
    {
      "cell_type": "code",
      "source": [
        "lb = LabelBinarizer()\n",
        "trainlabels = lb.fit_transform(ImageClass)\n",
        "testlabels = lb.fit_transform(_ImageClass)"
      ],
      "metadata": {
        "id": "pkKXDcDL89NA"
      },
      "execution_count": null,
      "outputs": []
    },
    {
      "cell_type": "code",
      "source": [
        "trainImages = np.array(_data, dtype=\"float32\") / 255.0\n",
        "trainLabels = np.array(trainlabels)\n",
        "trainBBoxes = np.array(_bboxes, dtype=\"float32\")"
      ],
      "metadata": {
        "id": "Qj4j-p2e_-aH"
      },
      "execution_count": null,
      "outputs": []
    },
    {
      "cell_type": "code",
      "source": [
        "print(trainImages.shape)\n",
        "print(trainLabels.shape)\n",
        "print(trainBBoxes.shape)"
      ],
      "metadata": {
        "colab": {
          "base_uri": "https://localhost:8080/"
        },
        "id": "Ha1eDjiaAKbc",
        "outputId": "3c0cea8d-d8cb-4547-ae3c-192407982f0d"
      },
      "execution_count": null,
      "outputs": [
        {
          "output_type": "stream",
          "name": "stdout",
          "text": [
            "(8144, 224, 224, 3)\n",
            "(8144, 196)\n",
            "(8144, 4)\n"
          ]
        }
      ]
    },
    {
      "cell_type": "code",
      "source": [
        "# convert the data, class labels, bounding boxes, and image paths to\n",
        "# NumPy arrays, scaling the input pixel intensities from the range\n",
        "# [0, 255] to [0, 1]\n",
        "testImages = np.array(_testdata, dtype=\"float32\") / 255.0\n",
        "testLabels = np.array(testlabels)\n",
        "testBBoxes = np.array(_testbboxes, dtype=\"float32\")"
      ],
      "metadata": {
        "id": "0qANQ_aeANqx"
      },
      "execution_count": null,
      "outputs": []
    },
    {
      "cell_type": "code",
      "source": [
        "print(testImages.shape)\n",
        "print(testLabels.shape)\n",
        "print(testBBoxes.shape)"
      ],
      "metadata": {
        "id": "uE9jPmOeAVV0",
        "outputId": "186430f8-b058-4b48-fd64-380c3fa44774",
        "colab": {
          "base_uri": "https://localhost:8080/"
        }
      },
      "execution_count": null,
      "outputs": [
        {
          "output_type": "stream",
          "name": "stdout",
          "text": [
            "(8041, 224, 224, 3)\n",
            "(8041, 196)\n",
            "(8041, 4)\n"
          ]
        }
      ]
    }
  ]
}