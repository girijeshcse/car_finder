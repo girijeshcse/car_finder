{
  "nbformat": 4,
  "nbformat_minor": 0,
  "metadata": {
    "colab": {
      "name": "Car model predict.ipynb",
      "provenance": [],
      "collapsed_sections": [],
      "authorship_tag": "ABX9TyNvNFg4Q1GmuscfJ8HZjvUL",
      "include_colab_link": true
    },
    "kernelspec": {
      "name": "python3",
      "display_name": "Python 3"
    },
    "language_info": {
      "name": "python"
    }
  },
  "cells": [
    {
      "cell_type": "markdown",
      "metadata": {
        "id": "view-in-github",
        "colab_type": "text"
      },
      "source": [
        "<a href=\"https://colab.research.google.com/github/girijeshcse/car_finder/blob/sushweta/notebooks/Car_model_predict.ipynb\" target=\"_parent\"><img src=\"https://colab.research.google.com/assets/colab-badge.svg\" alt=\"Open In Colab\"/></a>"
      ]
    },
    {
      "cell_type": "code",
      "metadata": {
        "id": "vaFcpbZE_sU4"
      },
      "source": [
        "# import the necessary packages\n",
        "from pyimagesearch import config\n",
        "from tensorflow.keras.preprocessing.image import img_to_array\n",
        "from tensorflow.keras.preprocessing.image import load_img\n",
        "from tensorflow.keras.models import load_model\n",
        "import numpy as np\n",
        "import mimetypes\n",
        "import argparse\n",
        "import imutils\n",
        "import pickle\n",
        "import cv2\n",
        "import os"
      ],
      "execution_count": null,
      "outputs": []
    },
    {
      "cell_type": "code",
      "metadata": {
        "id": "9mvQ0MjP_4Cj"
      },
      "source": [
        "# construct the argument parser and parse the arguments\n",
        "ap = argparse.ArgumentParser()\n",
        "ap.add_argument(\"-i\", \"--input\", required=True,\n",
        "\thelp=\"path to input image/text file of image paths\")\n",
        "args = vars(ap.parse_args())"
      ],
      "execution_count": null,
      "outputs": []
    },
    {
      "cell_type": "code",
      "metadata": {
        "id": "V9UhS8GwAAYK"
      },
      "source": [
        "# determine the input file type, but assume that we're working with\n",
        "# single input image\n",
        "filetype = mimetypes.guess_type(args[\"input\"])[0]\n",
        "imagePaths = [args[\"input\"]]\n",
        "# if the file type is a text file, then we need to process *multiple*\n",
        "# images\n",
        "if \"text/plain\" == filetype:\n",
        "\t# load the image paths in our testing file\n",
        "\timagePaths = open(args[\"input\"]).read().strip().split(\"\\n\")"
      ],
      "execution_count": null,
      "outputs": []
    },
    {
      "cell_type": "code",
      "metadata": {
        "id": "6SoWpnhKAEj_"
      },
      "source": [
        "# load our object detector and label binarizer from disk\n",
        "print(\"[INFO] loading object detector...\")\n",
        "model = load_model(config.MODEL_PATH)\n",
        "lb = pickle.loads(open(config.LB_PATH, \"rb\").read())"
      ],
      "execution_count": null,
      "outputs": []
    },
    {
      "cell_type": "code",
      "metadata": {
        "id": "ZgzZVr5hAIB2"
      },
      "source": [
        "# loop over the images that we'll be testing using our bounding box\n",
        "# regression model\n",
        "for imagePath in imagePaths:\n",
        "\t# load the input image (in Keras format) from disk and preprocess\n",
        "\t# it, scaling the pixel intensities to the range [0, 1]\n",
        "\timage = load_img(imagePath, target_size=(224, 224))\n",
        "\timage = img_to_array(image) / 255.0\n",
        "\timage = np.expand_dims(image, axis=0)\n",
        "\t# predict the bounding box of the object along with the class\n",
        "\t# label\n",
        "\t(boxPreds, labelPreds) = model.predict(image)\n",
        "\t(startX, startY, endX, endY) = boxPreds[0]\n",
        "\t# determine the class label with the largest predicted\n",
        "\t# probability\n",
        "\ti = np.argmax(labelPreds, axis=1)\n",
        "\tlabel = lb.classes_[i][0]\n",
        "  # load the input image (in OpenCV format), resize it such that it\n",
        "\t# fits on our screen, and grab its dimensions\n",
        "\timage = cv2.imread(imagePath)\n",
        "\timage = imutils.resize(image, width=600)\n",
        "\t(h, w) = image.shape[:2]\n",
        "\t# scale the predicted bounding box coordinates based on the image\n",
        "\t# dimensions\n",
        "\tstartX = int(startX * w)\n",
        "\tstartY = int(startY * h)\n",
        "\tendX = int(endX * w)\n",
        "\tendY = int(endY * h)\n",
        "\t# draw the predicted bounding box and class label on the image\n",
        "\ty = startY - 10 if startY - 10 > 10 else startY + 10\n",
        "\tcv2.putText(image, label, (startX, y), cv2.FONT_HERSHEY_SIMPLEX,\n",
        "\t\t0.65, (0, 255, 0), 2)\n",
        "\tcv2.rectangle(image, (startX, startY), (endX, endY),\n",
        "\t\t(0, 255, 0), 2)\n",
        "\t# show the output image\n",
        "\tcv2.imshow(\"Output\", image)\n",
        "\tcv2.waitKey(0)"
      ],
      "execution_count": null,
      "outputs": []
    }
  ]
}