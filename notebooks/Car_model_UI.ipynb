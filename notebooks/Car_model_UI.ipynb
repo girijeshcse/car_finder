{
  "nbformat": 4,
  "nbformat_minor": 0,
  "metadata": {
    "colab": {
      "name": "Car_model_UI.ipynb",
      "provenance": [],
      "collapsed_sections": [],
      "include_colab_link": true
    },
    "kernelspec": {
      "display_name": "Python 3",
      "name": "python3"
    }
  },
  "cells": [
    {
      "cell_type": "markdown",
      "metadata": {
        "id": "view-in-github",
        "colab_type": "text"
      },
      "source": [
        "<a href=\"https://colab.research.google.com/github/girijeshcse/car_finder/blob/sushweta/notebooks/Car_model_UI.ipynb\" target=\"_parent\"><img src=\"https://colab.research.google.com/assets/colab-badge.svg\" alt=\"Open In Colab\"/></a>"
      ]
    },
    {
      "cell_type": "markdown",
      "metadata": {
        "id": "ZYcEv3i7UUEg"
      },
      "source": [
        "# Turning a Google Colab notebook into a web app\n",
        "\n",
        "---\n",
        "\n",
        "### This is the completed iris classifier notebook to be used as reference for Anvil's [turning a Colab notebook into a web app tutorial](https://anvil.works/learn/tutorials/google-colab-to-web-app).\n",
        "\n",
        "The following code was added so you can connect this notebook to your Anvil app.\n",
        "\n",
        "1. Added `getpass` prompt so you can add your apps Uplink key\n",
        "2. Install the `anvil-uplink` library\n",
        "3. Import the `anvil.server` package\n",
        "4. Connect the notebook using your apps Uplink key\n",
        "5. Create a function to call from your app that includes the `anvil.server.callable` decorator\n",
        "6. Add `anvil.server.wait_forever()` to the end of the notebook\n",
        "\n",
        "### See below for more detail.\n",
        "\n",
        "---"
      ]
    },
    {
      "cell_type": "markdown",
      "metadata": {
        "id": "WkxOX1jNmhmt"
      },
      "source": [
        "### Enter the Uplink key from your Anvil web app.\n",
        "For information on how to get your apps Uplink key, see [Step 4 - Enable the Uplink](https://anvil.works/learn/tutorials/google-colab-to-web-app#step-4-enable-the-uplink)."
      ]
    },
    {
      "cell_type": "code",
      "metadata": {
        "colab": {
          "base_uri": "https://localhost:8080/"
        },
        "id": "FYIAacDZmQ__",
        "outputId": "bce1bb0d-0b6a-46d8-a315-d526669a5d8f"
      },
      "source": [
        "from getpass import getpass\n",
        "uplink_key = getpass('Enter your Uplink key: ')"
      ],
      "execution_count": null,
      "outputs": [
        {
          "name": "stdout",
          "output_type": "stream",
          "text": [
            "Enter your Uplink key: ··········\n"
          ]
        }
      ]
    },
    {
      "cell_type": "markdown",
      "metadata": {
        "id": "XRNEq2Tb5gnq"
      },
      "source": [
        "### Install the `anvil-uplink` library."
      ]
    },
    {
      "cell_type": "code",
      "metadata": {
        "colab": {
          "base_uri": "https://localhost:8080/",
          "height": 412
        },
        "id": "5BvNgFgk5dE2",
        "outputId": "651e428a-6fb8-4739-c968-1e628f8e28d9"
      },
      "source": [
        "!pip install anvil-uplink"
      ],
      "execution_count": null,
      "outputs": [
        {
          "output_type": "stream",
          "name": "stdout",
          "text": [
            "Collecting anvil-uplink\n",
            "  Downloading anvil_uplink-0.3.41-py2.py3-none-any.whl (64 kB)\n",
            "\u001b[?25l\r\u001b[K     |█████                           | 10 kB 22.7 MB/s eta 0:00:01\r\u001b[K     |██████████▏                     | 20 kB 29.1 MB/s eta 0:00:01\r\u001b[K     |███████████████▎                | 30 kB 21.4 MB/s eta 0:00:01\r\u001b[K     |████████████████████▎           | 40 kB 17.5 MB/s eta 0:00:01\r\u001b[K     |█████████████████████████▍      | 51 kB 8.1 MB/s eta 0:00:01\r\u001b[K     |██████████████████████████████▌ | 61 kB 8.2 MB/s eta 0:00:01\r\u001b[K     |████████████████████████████████| 64 kB 2.5 MB/s \n",
            "\u001b[?25hRequirement already satisfied: six in /usr/local/lib/python3.7/dist-packages (from anvil-uplink) (1.15.0)\n",
            "Requirement already satisfied: future in /usr/local/lib/python3.7/dist-packages (from anvil-uplink) (0.16.0)\n",
            "Collecting ws4py\n",
            "  Downloading ws4py-0.5.1.tar.gz (51 kB)\n",
            "\u001b[?25l\r\u001b[K     |██████▍                         | 10 kB 31.3 MB/s eta 0:00:01\r\u001b[K     |████████████▊                   | 20 kB 38.2 MB/s eta 0:00:01\r\u001b[K     |███████████████████▏            | 30 kB 45.5 MB/s eta 0:00:01\r\u001b[K     |█████████████████████████▌      | 40 kB 50.0 MB/s eta 0:00:01\r\u001b[K     |███████████████████████████████▉| 51 kB 53.0 MB/s eta 0:00:01\r\u001b[K     |████████████████████████████████| 51 kB 215 kB/s \n",
            "\u001b[?25hCollecting argparse\n",
            "  Downloading argparse-1.4.0-py2.py3-none-any.whl (23 kB)\n",
            "Building wheels for collected packages: ws4py\n",
            "  Building wheel for ws4py (setup.py) ... \u001b[?25l\u001b[?25hdone\n",
            "  Created wheel for ws4py: filename=ws4py-0.5.1-py3-none-any.whl size=45230 sha256=c4b39000c176bf8cdc5d0e1c2866b143d0031a5fba51d0e2296285e05d44a6b7\n",
            "  Stored in directory: /root/.cache/pip/wheels/29/ea/7d/3410aa0aa0e4402ead9a7a97ab2214804887e0f5c2b76f0c96\n",
            "Successfully built ws4py\n",
            "Installing collected packages: ws4py, argparse, anvil-uplink\n",
            "Successfully installed anvil-uplink-0.3.41 argparse-1.4.0 ws4py-0.5.1\n"
          ]
        },
        {
          "output_type": "display_data",
          "data": {
            "application/vnd.colab-display-data+json": {
              "pip_warning": {
                "packages": [
                  "argparse",
                  "google"
                ]
              }
            }
          },
          "metadata": {}
        }
      ]
    },
    {
      "cell_type": "markdown",
      "metadata": {
        "id": "WOjHWnhO5k0x"
      },
      "source": [
        "### Import the Anvil server package.\n",
        "\n",
        "Importing `anvil.server` means, when this notebook is connected via the Uplink, it will behave in the same way as any other [Anvil Server Module](https://anvil.works/docs/server)."
      ]
    },
    {
      "cell_type": "code",
      "metadata": {
        "id": "EML6wBYQ5fiM"
      },
      "source": [
        "import anvil.server"
      ],
      "execution_count": null,
      "outputs": []
    },
    {
      "cell_type": "markdown",
      "metadata": {
        "id": "beNpD_0VWhYY"
      },
      "source": [
        "### Connect this notebook to your app via the Uplink."
      ]
    },
    {
      "cell_type": "code",
      "metadata": {
        "colab": {
          "base_uri": "https://localhost:8080/"
        },
        "id": "1mtBFbYqWhr8",
        "outputId": "57ff823d-fc1f-47eb-b829-c45d760eb386"
      },
      "source": [
        "anvil.server.connect(uplink_key)"
      ],
      "execution_count": null,
      "outputs": [
        {
          "output_type": "stream",
          "name": "stdout",
          "text": [
            "Connecting to wss://anvil.works/uplink\n",
            "Anvil websocket open\n",
            "Connected to \"Default environment\" as SERVER\n"
          ]
        }
      ]
    },
    {
      "cell_type": "markdown",
      "metadata": {
        "id": "Mlf9a7vM_PVF"
      },
      "source": [
        "### Build and train the classification model\n",
        "\n",
        "The next cell gets the dataset, finds an optimal number of neighbours and then builds and trains the model. How this works is outside the scope of this tutorial, however, if you want to read more about how the code below works, Towards Data Science has a useful article [here](https://towardsdatascience.com/knn-using-scikit-learn-c6bed765be75).\n"
      ]
    },
    {
      "cell_type": "code",
      "metadata": {
        "colab": {
          "base_uri": "https://localhost:8080/"
        },
        "id": "Z9FGGe-2-V79",
        "outputId": "f6c160c6-8d55-4887-9bd5-87c988bda345"
      },
      "source": [
        "import matplotlib.pyplot as plt\n",
        "from sklearn import metrics\n",
        "from sklearn.datasets import load_iris\n",
        "from sklearn.model_selection import train_test_split\n",
        "from sklearn.neighbors import KNeighborsClassifier\n",
        "\n",
        "iris = load_iris()\n",
        "X = iris.data\n",
        "y = iris.target\n",
        "\n",
        "X_train, X_test, y_train, y_test = train_test_split(X, y, test_size=0.2 , random_state=4)\n",
        "\n",
        "# The following code is used only when needing to find the optimal n_neighbors\n",
        "\"\"\"\n",
        "scores = {}\n",
        "scores_list = []\n",
        "k_range = range(1, 26)\n",
        "for k in k_range:\n",
        "  knn = KNeighborsClassifier(n_neighbors=k)\n",
        "  knn.fit(X_train, y_train)\n",
        "  y_pred = knn.predict(X_test)\n",
        "  scores[k] = metrics.accuracy_score(y_test, y_pred)\n",
        "  scores_list.append(metrics.accuracy_score(y_test, y_pred))\n",
        "\n",
        "plt.plot(k_range,scores_list)\n",
        "plt.xlabel('Value of K for KNN')\n",
        "plt.ylabel('Testing Accuracy')\n",
        "\"\"\"\n",
        "\n",
        "knn = KNeighborsClassifier(n_neighbors=10)\n",
        "knn.fit(X,y)"
      ],
      "execution_count": null,
      "outputs": [
        {
          "output_type": "execute_result",
          "data": {
            "text/plain": [
              "KNeighborsClassifier(n_neighbors=10)"
            ]
          },
          "metadata": {},
          "execution_count": 5
        }
      ]
    },
    {
      "cell_type": "markdown",
      "metadata": {
        "id": "Gdil_W7b-N9Z"
      },
      "source": [
        "### Create our `predict_iris()` function with a `@anvil.server.callable` decorator. The decorator makes the function callable from our Anvil app."
      ]
    },
    {
      "cell_type": "code",
      "metadata": {
        "id": "ChnTYxx3-MRt"
      },
      "source": [
        "@anvil.server.callable\n",
        "def predict_iris(sepal_length, sepal_width, petal_length, petal_width):\n",
        "  classification = knn.predict([[sepal_length, sepal_width, petal_length, petal_width]])\n",
        "  print(iris.target_names[classification][0])\n",
        "  return iris.target_names[classification][0]"
      ],
      "execution_count": null,
      "outputs": []
    },
    {
      "cell_type": "markdown",
      "metadata": {
        "id": "dQltSVpxQaUS"
      },
      "source": [
        ""
      ]
    },
    {
      "cell_type": "markdown",
      "metadata": {
        "id": "Y54Z7Ano6wT4"
      },
      "source": [
        "### Add `anvil.server.wait_forever()` function so the notebook is always available to the web app"
      ]
    },
    {
      "cell_type": "code",
      "metadata": {
        "colab": {
          "background_save": true,
          "base_uri": "https://localhost:8080/"
        },
        "id": "JF1L5rHt6wh6",
        "outputId": "b366fc54-82de-47d2-a630-21075095b3c3"
      },
      "source": [
        "anvil.server.wait_forever()"
      ],
      "execution_count": null,
      "outputs": [
        {
          "output_type": "stream",
          "name": "stdout",
          "text": [
            "versicolor\n"
          ]
        }
      ]
    },
    {
      "cell_type": "markdown",
      "metadata": {
        "id": "BCFv6DQpvpnQ"
      },
      "source": [
        "---\n",
        "\n",
        "## That's it, 5 simple steps to connect your notebook to your Anvil app! \n",
        "\n",
        "---"
      ]
    },
    {
      "cell_type": "code",
      "metadata": {
        "id": "P2ZKsOQU8Lyu"
      },
      "source": [
        "!pip freeze requirements.txt"
      ],
      "execution_count": null,
      "outputs": []
    }
  ]
}