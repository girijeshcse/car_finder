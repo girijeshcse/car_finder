{
  "nbformat": 4,
  "nbformat_minor": 0,
  "metadata": {
    "kernelspec": {
      "display_name": "Python 3",
      "language": "python",
      "name": "python3"
    },
    "language_info": {
      "codemirror_mode": {
        "name": "ipython",
        "version": 3
      },
      "file_extension": ".py",
      "mimetype": "text/x-python",
      "name": "python",
      "nbconvert_exporter": "python",
      "pygments_lexer": "ipython3",
      "version": "3.7.7"
    },
    "colab": {
      "name": "Car model User Interface.ipynb",
      "provenance": [],
      "collapsed_sections": [],
      "include_colab_link": true
    }
  },
  "cells": [
    {
      "cell_type": "markdown",
      "metadata": {
        "id": "view-in-github",
        "colab_type": "text"
      },
      "source": [
        "<a href=\"https://colab.research.google.com/github/girijeshcse/car_finder/blob/sushweta/notebooks/Car_model_User_Interface.ipynb\" target=\"_parent\"><img src=\"https://colab.research.google.com/assets/colab-badge.svg\" alt=\"Open In Colab\"/></a>"
      ]
    },
    {
      "cell_type": "markdown",
      "metadata": {
        "id": "8J8H_P8qBFoE"
      },
      "source": [
        "### Python program to create a simple GUI \n",
        "\n",
        "How to use this code to learn how to develop a clickable product:\n",
        "1. Understand how to make the GUI template\n",
        "2. Understand how to input the data from the user\n",
        "3. Understand how to operate using the input numbers\n",
        "4. Understand how to output the results"
      ]
    },
    {
      "cell_type": "code",
      "metadata": {
        "id": "a0VQl8_KBFoK"
      },
      "source": [
        "### CREATE VIRTUAL DISPLAY ###\n"
      ],
      "execution_count": null,
      "outputs": []
    },
    {
      "cell_type": "code",
      "metadata": {
        "id": "4_Y-VO_SDyTh"
      },
      "source": [
        "#@title String Fields\n",
        "\n",
        "Test_Image_Path = 'values' #@param {type:\"string\"}"
      ],
      "execution_count": 16,
      "outputs": []
    },
    {
      "cell_type": "markdown",
      "metadata": {
        "id": "UBZBisG7BFoN"
      },
      "source": [
        "                                            End"
      ]
    }
  ]
}