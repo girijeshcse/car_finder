{
  "nbformat": 4,
  "nbformat_minor": 0,
  "metadata": {
    "colab": {
      "name": "Capstone.ipynb",
      "provenance": [],
      "collapsed_sections": [],
      "authorship_tag": "ABX9TyPRKuvHDwnMZo4LBo/jYDd6",
      "include_colab_link": true
    },
    "kernelspec": {
      "name": "python3",
      "display_name": "Python 3"
    },
    "language_info": {
      "name": "python"
    }
  },
  "cells": [
    {
      "cell_type": "markdown",
      "metadata": {
        "id": "view-in-github",
        "colab_type": "text"
      },
      "source": [
        "<a href=\"https://colab.research.google.com/github/girijeshcse/car_finder/blob/nitya/notebooks/Capstone_EDA.ipynb\" target=\"_parent\"><img src=\"https://colab.research.google.com/assets/colab-badge.svg\" alt=\"Open In Colab\"/></a>"
      ]
    },
    {
      "cell_type": "markdown",
      "metadata": {
        "id": "I3VAu1lsw01C"
      },
      "source": [
        "Step 1: Import the data"
      ]
    },
    {
      "cell_type": "code",
      "metadata": {
        "id": "_6brQ4-qwsuz"
      },
      "source": [
        "%tensorflow_version 2.x\n",
        "import tensorflow\n",
        "tensorflow.__version__\n",
        "# Initialize the random number generator\n",
        "import random\n",
        "random.seed(0)\n",
        "# Ignore the warnings\n",
        "import warnings\n",
        "warnings.filterwarnings(\"ignore\")\n",
        "import numpy as np # linear algebra\n",
        "import pandas as pd # data processing, CSV file I/O (e.g. pd.read_csv)\n",
        "from pydrive.auth import GoogleAuth\n",
        "from pydrive.drive import GoogleDrive\n",
        "from google.colab import auth\n",
        "from oauth2client.client import GoogleCredentials"
      ],
      "execution_count": null,
      "outputs": []
    },
    {
      "cell_type": "code",
      "metadata": {
        "id": "1y0BmHM02xfz"
      },
      "source": [
        "auth.authenticate_user()\n",
        "gauth = GoogleAuth()\n",
        "gauth.credentials = GoogleCredentials.get_application_default()\n",
        "drive = GoogleDrive(gauth)"
      ],
      "execution_count": null,
      "outputs": []
    },
    {
      "cell_type": "code",
      "metadata": {
        "colab": {
          "base_uri": "https://localhost:8080/"
        },
        "id": "41njVc1E3Mrr",
        "outputId": "5ba906d9-598c-4cd1-865e-a2c260c1cda9"
      },
      "source": [
        "from google.colab import drive\n",
        "drive.mount('/content/drive/')\n",
        "project_path = '/content/drive/MyDrive/Capstone/Dataset/'"
      ],
      "execution_count": null,
      "outputs": [
        {
          "output_type": "stream",
          "name": "stdout",
          "text": [
            "Drive already mounted at /content/drive/; to attempt to forcibly remount, call drive.mount(\"/content/drive/\", force_remount=True).\n"
          ]
        }
      ]
    },
    {
      "cell_type": "code",
      "metadata": {
        "colab": {
          "base_uri": "https://localhost:8080/",
          "height": 423
        },
        "id": "7rGszApew-NC",
        "outputId": "046c89be-6f7d-47e4-c87f-8c7eb250c39d"
      },
      "source": [
        "train_anno_df=pd.read_csv(project_path+'/Annotations/Train Annotations.csv')\n",
        "test_anno_df=pd.read_csv(project_path+'/Annotations/Test Annotation.csv')\n",
        "train_anno_df"
      ],
      "execution_count": null,
      "outputs": [
        {
          "output_type": "execute_result",
          "data": {
            "text/html": [
              "<div>\n",
              "<style scoped>\n",
              "    .dataframe tbody tr th:only-of-type {\n",
              "        vertical-align: middle;\n",
              "    }\n",
              "\n",
              "    .dataframe tbody tr th {\n",
              "        vertical-align: top;\n",
              "    }\n",
              "\n",
              "    .dataframe thead th {\n",
              "        text-align: right;\n",
              "    }\n",
              "</style>\n",
              "<table border=\"1\" class=\"dataframe\">\n",
              "  <thead>\n",
              "    <tr style=\"text-align: right;\">\n",
              "      <th></th>\n",
              "      <th>Image Name</th>\n",
              "      <th>Bounding Box coordinates</th>\n",
              "      <th>Unnamed: 2</th>\n",
              "      <th>Unnamed: 3</th>\n",
              "      <th>Unnamed: 4</th>\n",
              "      <th>Image class</th>\n",
              "    </tr>\n",
              "  </thead>\n",
              "  <tbody>\n",
              "    <tr>\n",
              "      <th>0</th>\n",
              "      <td>00001.jpg</td>\n",
              "      <td>39</td>\n",
              "      <td>116</td>\n",
              "      <td>569</td>\n",
              "      <td>375</td>\n",
              "      <td>14</td>\n",
              "    </tr>\n",
              "    <tr>\n",
              "      <th>1</th>\n",
              "      <td>00002.jpg</td>\n",
              "      <td>36</td>\n",
              "      <td>116</td>\n",
              "      <td>868</td>\n",
              "      <td>587</td>\n",
              "      <td>3</td>\n",
              "    </tr>\n",
              "    <tr>\n",
              "      <th>2</th>\n",
              "      <td>00003.jpg</td>\n",
              "      <td>85</td>\n",
              "      <td>109</td>\n",
              "      <td>601</td>\n",
              "      <td>381</td>\n",
              "      <td>91</td>\n",
              "    </tr>\n",
              "    <tr>\n",
              "      <th>3</th>\n",
              "      <td>00004.jpg</td>\n",
              "      <td>621</td>\n",
              "      <td>393</td>\n",
              "      <td>1484</td>\n",
              "      <td>1096</td>\n",
              "      <td>134</td>\n",
              "    </tr>\n",
              "    <tr>\n",
              "      <th>4</th>\n",
              "      <td>00005.jpg</td>\n",
              "      <td>14</td>\n",
              "      <td>36</td>\n",
              "      <td>133</td>\n",
              "      <td>99</td>\n",
              "      <td>106</td>\n",
              "    </tr>\n",
              "    <tr>\n",
              "      <th>...</th>\n",
              "      <td>...</td>\n",
              "      <td>...</td>\n",
              "      <td>...</td>\n",
              "      <td>...</td>\n",
              "      <td>...</td>\n",
              "      <td>...</td>\n",
              "    </tr>\n",
              "    <tr>\n",
              "      <th>8139</th>\n",
              "      <td>08140.jpg</td>\n",
              "      <td>3</td>\n",
              "      <td>44</td>\n",
              "      <td>423</td>\n",
              "      <td>336</td>\n",
              "      <td>78</td>\n",
              "    </tr>\n",
              "    <tr>\n",
              "      <th>8140</th>\n",
              "      <td>08141.jpg</td>\n",
              "      <td>138</td>\n",
              "      <td>150</td>\n",
              "      <td>706</td>\n",
              "      <td>523</td>\n",
              "      <td>196</td>\n",
              "    </tr>\n",
              "    <tr>\n",
              "      <th>8141</th>\n",
              "      <td>08142.jpg</td>\n",
              "      <td>26</td>\n",
              "      <td>246</td>\n",
              "      <td>660</td>\n",
              "      <td>449</td>\n",
              "      <td>163</td>\n",
              "    </tr>\n",
              "    <tr>\n",
              "      <th>8142</th>\n",
              "      <td>08143.jpg</td>\n",
              "      <td>78</td>\n",
              "      <td>526</td>\n",
              "      <td>1489</td>\n",
              "      <td>908</td>\n",
              "      <td>112</td>\n",
              "    </tr>\n",
              "    <tr>\n",
              "      <th>8143</th>\n",
              "      <td>08144.jpg</td>\n",
              "      <td>20</td>\n",
              "      <td>240</td>\n",
              "      <td>862</td>\n",
              "      <td>677</td>\n",
              "      <td>17</td>\n",
              "    </tr>\n",
              "  </tbody>\n",
              "</table>\n",
              "<p>8144 rows × 6 columns</p>\n",
              "</div>"
            ],
            "text/plain": [
              "     Image Name  Bounding Box coordinates  ...  Unnamed: 4  Image class\n",
              "0     00001.jpg                        39  ...         375           14\n",
              "1     00002.jpg                        36  ...         587            3\n",
              "2     00003.jpg                        85  ...         381           91\n",
              "3     00004.jpg                       621  ...        1096          134\n",
              "4     00005.jpg                        14  ...          99          106\n",
              "...         ...                       ...  ...         ...          ...\n",
              "8139  08140.jpg                         3  ...         336           78\n",
              "8140  08141.jpg                       138  ...         523          196\n",
              "8141  08142.jpg                        26  ...         449          163\n",
              "8142  08143.jpg                        78  ...         908          112\n",
              "8143  08144.jpg                        20  ...         677           17\n",
              "\n",
              "[8144 rows x 6 columns]"
            ]
          },
          "metadata": {},
          "execution_count": 106
        }
      ]
    },
    {
      "cell_type": "code",
      "metadata": {
        "colab": {
          "base_uri": "https://localhost:8080/"
        },
        "id": "RMM6LdJpDLWN",
        "outputId": "2c69a9dd-3c35-4cdc-95e9-ab6bafb0419d"
      },
      "source": [
        "train_anno_df.rename(columns={'Bounding Box coordinates': 'x0', 'Unnamed: 2': 'y0','Unnamed: 3': 'x1','Unnamed: 4': 'y1'}, inplace=True)\n",
        "train_anno_df.info()"
      ],
      "execution_count": null,
      "outputs": [
        {
          "output_type": "stream",
          "name": "stdout",
          "text": [
            "<class 'pandas.core.frame.DataFrame'>\n",
            "RangeIndex: 8144 entries, 0 to 8143\n",
            "Data columns (total 6 columns):\n",
            " #   Column       Non-Null Count  Dtype \n",
            "---  ------       --------------  ----- \n",
            " 0   Image Name   8144 non-null   object\n",
            " 1   x0           8144 non-null   int64 \n",
            " 2   y0           8144 non-null   int64 \n",
            " 3   x1           8144 non-null   int64 \n",
            " 4   y1           8144 non-null   int64 \n",
            " 5   Image class  8144 non-null   int64 \n",
            "dtypes: int64(5), object(1)\n",
            "memory usage: 381.9+ KB\n"
          ]
        }
      ]
    },
    {
      "cell_type": "code",
      "metadata": {
        "colab": {
          "base_uri": "https://localhost:8080/",
          "height": 363
        },
        "id": "ImcGvhpfLeN8",
        "outputId": "73069774-59d3-4fec-c9ba-5d203535d7e4"
      },
      "source": [
        "train_anno_df.head(10)"
      ],
      "execution_count": null,
      "outputs": [
        {
          "output_type": "execute_result",
          "data": {
            "text/html": [
              "<div>\n",
              "<style scoped>\n",
              "    .dataframe tbody tr th:only-of-type {\n",
              "        vertical-align: middle;\n",
              "    }\n",
              "\n",
              "    .dataframe tbody tr th {\n",
              "        vertical-align: top;\n",
              "    }\n",
              "\n",
              "    .dataframe thead th {\n",
              "        text-align: right;\n",
              "    }\n",
              "</style>\n",
              "<table border=\"1\" class=\"dataframe\">\n",
              "  <thead>\n",
              "    <tr style=\"text-align: right;\">\n",
              "      <th></th>\n",
              "      <th>Image Name</th>\n",
              "      <th>x0</th>\n",
              "      <th>y0</th>\n",
              "      <th>x1</th>\n",
              "      <th>y1</th>\n",
              "      <th>Image class</th>\n",
              "    </tr>\n",
              "  </thead>\n",
              "  <tbody>\n",
              "    <tr>\n",
              "      <th>0</th>\n",
              "      <td>00001.jpg</td>\n",
              "      <td>39</td>\n",
              "      <td>116</td>\n",
              "      <td>569</td>\n",
              "      <td>375</td>\n",
              "      <td>14</td>\n",
              "    </tr>\n",
              "    <tr>\n",
              "      <th>1</th>\n",
              "      <td>00002.jpg</td>\n",
              "      <td>36</td>\n",
              "      <td>116</td>\n",
              "      <td>868</td>\n",
              "      <td>587</td>\n",
              "      <td>3</td>\n",
              "    </tr>\n",
              "    <tr>\n",
              "      <th>2</th>\n",
              "      <td>00003.jpg</td>\n",
              "      <td>85</td>\n",
              "      <td>109</td>\n",
              "      <td>601</td>\n",
              "      <td>381</td>\n",
              "      <td>91</td>\n",
              "    </tr>\n",
              "    <tr>\n",
              "      <th>3</th>\n",
              "      <td>00004.jpg</td>\n",
              "      <td>621</td>\n",
              "      <td>393</td>\n",
              "      <td>1484</td>\n",
              "      <td>1096</td>\n",
              "      <td>134</td>\n",
              "    </tr>\n",
              "    <tr>\n",
              "      <th>4</th>\n",
              "      <td>00005.jpg</td>\n",
              "      <td>14</td>\n",
              "      <td>36</td>\n",
              "      <td>133</td>\n",
              "      <td>99</td>\n",
              "      <td>106</td>\n",
              "    </tr>\n",
              "    <tr>\n",
              "      <th>5</th>\n",
              "      <td>00006.jpg</td>\n",
              "      <td>259</td>\n",
              "      <td>289</td>\n",
              "      <td>515</td>\n",
              "      <td>416</td>\n",
              "      <td>123</td>\n",
              "    </tr>\n",
              "    <tr>\n",
              "      <th>6</th>\n",
              "      <td>00007.jpg</td>\n",
              "      <td>88</td>\n",
              "      <td>80</td>\n",
              "      <td>541</td>\n",
              "      <td>397</td>\n",
              "      <td>89</td>\n",
              "    </tr>\n",
              "    <tr>\n",
              "      <th>7</th>\n",
              "      <td>00008.jpg</td>\n",
              "      <td>73</td>\n",
              "      <td>79</td>\n",
              "      <td>591</td>\n",
              "      <td>410</td>\n",
              "      <td>96</td>\n",
              "    </tr>\n",
              "    <tr>\n",
              "      <th>8</th>\n",
              "      <td>00009.jpg</td>\n",
              "      <td>20</td>\n",
              "      <td>126</td>\n",
              "      <td>1269</td>\n",
              "      <td>771</td>\n",
              "      <td>167</td>\n",
              "    </tr>\n",
              "    <tr>\n",
              "      <th>9</th>\n",
              "      <td>00010.jpg</td>\n",
              "      <td>21</td>\n",
              "      <td>110</td>\n",
              "      <td>623</td>\n",
              "      <td>367</td>\n",
              "      <td>58</td>\n",
              "    </tr>\n",
              "  </tbody>\n",
              "</table>\n",
              "</div>"
            ],
            "text/plain": [
              "  Image Name   x0   y0    x1    y1  Image class\n",
              "0  00001.jpg   39  116   569   375           14\n",
              "1  00002.jpg   36  116   868   587            3\n",
              "2  00003.jpg   85  109   601   381           91\n",
              "3  00004.jpg  621  393  1484  1096          134\n",
              "4  00005.jpg   14   36   133    99          106\n",
              "5  00006.jpg  259  289   515   416          123\n",
              "6  00007.jpg   88   80   541   397           89\n",
              "7  00008.jpg   73   79   591   410           96\n",
              "8  00009.jpg   20  126  1269   771          167\n",
              "9  00010.jpg   21  110   623   367           58"
            ]
          },
          "metadata": {},
          "execution_count": 85
        }
      ]
    },
    {
      "cell_type": "code",
      "metadata": {
        "colab": {
          "base_uri": "https://localhost:8080/"
        },
        "id": "A1AH5hI6LhIc",
        "outputId": "b4086f72-cb34-4d28-eb2b-59c8116bef9e"
      },
      "source": [
        "test_anno_df.rename(columns={'Bounding Box coordinates': 'x0', 'Unnamed: 2': 'y0','Unnamed: 3': 'x1','Unnamed: 4': 'y1'}, inplace=True)\n",
        "test_anno_df.info()"
      ],
      "execution_count": null,
      "outputs": [
        {
          "output_type": "stream",
          "name": "stdout",
          "text": [
            "<class 'pandas.core.frame.DataFrame'>\n",
            "RangeIndex: 8041 entries, 0 to 8040\n",
            "Data columns (total 6 columns):\n",
            " #   Column       Non-Null Count  Dtype \n",
            "---  ------       --------------  ----- \n",
            " 0   Image Name   8041 non-null   object\n",
            " 1   x0           8041 non-null   int64 \n",
            " 2   y0           8041 non-null   int64 \n",
            " 3   x1           8041 non-null   int64 \n",
            " 4   y1           8041 non-null   int64 \n",
            " 5   Image class  8041 non-null   int64 \n",
            "dtypes: int64(5), object(1)\n",
            "memory usage: 377.0+ KB\n"
          ]
        }
      ]
    },
    {
      "cell_type": "code",
      "metadata": {
        "colab": {
          "base_uri": "https://localhost:8080/",
          "height": 363
        },
        "id": "HqfLLuN5Llge",
        "outputId": "b1e3b57b-c83f-47e1-828a-16fa261ea022"
      },
      "source": [
        "test_anno_df.head(10)"
      ],
      "execution_count": null,
      "outputs": [
        {
          "output_type": "execute_result",
          "data": {
            "text/html": [
              "<div>\n",
              "<style scoped>\n",
              "    .dataframe tbody tr th:only-of-type {\n",
              "        vertical-align: middle;\n",
              "    }\n",
              "\n",
              "    .dataframe tbody tr th {\n",
              "        vertical-align: top;\n",
              "    }\n",
              "\n",
              "    .dataframe thead th {\n",
              "        text-align: right;\n",
              "    }\n",
              "</style>\n",
              "<table border=\"1\" class=\"dataframe\">\n",
              "  <thead>\n",
              "    <tr style=\"text-align: right;\">\n",
              "      <th></th>\n",
              "      <th>Image Name</th>\n",
              "      <th>x0</th>\n",
              "      <th>y0</th>\n",
              "      <th>x1</th>\n",
              "      <th>y1</th>\n",
              "      <th>Image class</th>\n",
              "    </tr>\n",
              "  </thead>\n",
              "  <tbody>\n",
              "    <tr>\n",
              "      <th>0</th>\n",
              "      <td>00001.jpg</td>\n",
              "      <td>30</td>\n",
              "      <td>52</td>\n",
              "      <td>246</td>\n",
              "      <td>147</td>\n",
              "      <td>181</td>\n",
              "    </tr>\n",
              "    <tr>\n",
              "      <th>1</th>\n",
              "      <td>00002.jpg</td>\n",
              "      <td>100</td>\n",
              "      <td>19</td>\n",
              "      <td>576</td>\n",
              "      <td>203</td>\n",
              "      <td>103</td>\n",
              "    </tr>\n",
              "    <tr>\n",
              "      <th>2</th>\n",
              "      <td>00003.jpg</td>\n",
              "      <td>51</td>\n",
              "      <td>105</td>\n",
              "      <td>968</td>\n",
              "      <td>659</td>\n",
              "      <td>145</td>\n",
              "    </tr>\n",
              "    <tr>\n",
              "      <th>3</th>\n",
              "      <td>00004.jpg</td>\n",
              "      <td>67</td>\n",
              "      <td>84</td>\n",
              "      <td>581</td>\n",
              "      <td>407</td>\n",
              "      <td>187</td>\n",
              "    </tr>\n",
              "    <tr>\n",
              "      <th>4</th>\n",
              "      <td>00005.jpg</td>\n",
              "      <td>140</td>\n",
              "      <td>151</td>\n",
              "      <td>593</td>\n",
              "      <td>339</td>\n",
              "      <td>185</td>\n",
              "    </tr>\n",
              "    <tr>\n",
              "      <th>5</th>\n",
              "      <td>00006.jpg</td>\n",
              "      <td>20</td>\n",
              "      <td>77</td>\n",
              "      <td>420</td>\n",
              "      <td>301</td>\n",
              "      <td>78</td>\n",
              "    </tr>\n",
              "    <tr>\n",
              "      <th>6</th>\n",
              "      <td>00007.jpg</td>\n",
              "      <td>249</td>\n",
              "      <td>166</td>\n",
              "      <td>2324</td>\n",
              "      <td>1459</td>\n",
              "      <td>118</td>\n",
              "    </tr>\n",
              "    <tr>\n",
              "      <th>7</th>\n",
              "      <td>00008.jpg</td>\n",
              "      <td>119</td>\n",
              "      <td>215</td>\n",
              "      <td>1153</td>\n",
              "      <td>719</td>\n",
              "      <td>165</td>\n",
              "    </tr>\n",
              "    <tr>\n",
              "      <th>8</th>\n",
              "      <td>00009.jpg</td>\n",
              "      <td>1</td>\n",
              "      <td>7</td>\n",
              "      <td>275</td>\n",
              "      <td>183</td>\n",
              "      <td>32</td>\n",
              "    </tr>\n",
              "    <tr>\n",
              "      <th>9</th>\n",
              "      <td>00010.jpg</td>\n",
              "      <td>28</td>\n",
              "      <td>55</td>\n",
              "      <td>241</td>\n",
              "      <td>177</td>\n",
              "      <td>60</td>\n",
              "    </tr>\n",
              "  </tbody>\n",
              "</table>\n",
              "</div>"
            ],
            "text/plain": [
              "  Image Name   x0   y0    x1    y1  Image class\n",
              "0  00001.jpg   30   52   246   147          181\n",
              "1  00002.jpg  100   19   576   203          103\n",
              "2  00003.jpg   51  105   968   659          145\n",
              "3  00004.jpg   67   84   581   407          187\n",
              "4  00005.jpg  140  151   593   339          185\n",
              "5  00006.jpg   20   77   420   301           78\n",
              "6  00007.jpg  249  166  2324  1459          118\n",
              "7  00008.jpg  119  215  1153   719          165\n",
              "8  00009.jpg    1    7   275   183           32\n",
              "9  00010.jpg   28   55   241   177           60"
            ]
          },
          "metadata": {},
          "execution_count": 87
        }
      ]
    },
    {
      "cell_type": "markdown",
      "metadata": {
        "id": "s6mXlxHPLrRK"
      },
      "source": [
        "Step 2: Map training and testing images to its classes."
      ]
    },
    {
      "cell_type": "code",
      "metadata": {
        "colab": {
          "base_uri": "https://localhost:8080/"
        },
        "id": "gq53cXzFLlj4",
        "outputId": "7de4af97-b76a-4371-f864-624f95574911"
      },
      "source": [
        "#Loading name of cars \n",
        "carNameDF= pd.read_csv(project_path+'Car names and make.csv',header=None)\n",
        "carNameDF.shape"
      ],
      "execution_count": null,
      "outputs": [
        {
          "output_type": "execute_result",
          "data": {
            "text/plain": [
              "(196, 1)"
            ]
          },
          "metadata": {},
          "execution_count": 89
        }
      ]
    },
    {
      "cell_type": "code",
      "metadata": {
        "colab": {
          "base_uri": "https://localhost:8080/",
          "height": 363
        },
        "id": "WaIXmrWNLlnG",
        "outputId": "81154fb9-74d6-4c95-8d4e-2ef7f0144632"
      },
      "source": [
        "carNameDF.head(10)"
      ],
      "execution_count": null,
      "outputs": [
        {
          "output_type": "execute_result",
          "data": {
            "text/html": [
              "<div>\n",
              "<style scoped>\n",
              "    .dataframe tbody tr th:only-of-type {\n",
              "        vertical-align: middle;\n",
              "    }\n",
              "\n",
              "    .dataframe tbody tr th {\n",
              "        vertical-align: top;\n",
              "    }\n",
              "\n",
              "    .dataframe thead th {\n",
              "        text-align: right;\n",
              "    }\n",
              "</style>\n",
              "<table border=\"1\" class=\"dataframe\">\n",
              "  <thead>\n",
              "    <tr style=\"text-align: right;\">\n",
              "      <th></th>\n",
              "      <th>0</th>\n",
              "    </tr>\n",
              "  </thead>\n",
              "  <tbody>\n",
              "    <tr>\n",
              "      <th>0</th>\n",
              "      <td>AM General Hummer SUV 2000</td>\n",
              "    </tr>\n",
              "    <tr>\n",
              "      <th>1</th>\n",
              "      <td>Acura RL Sedan 2012</td>\n",
              "    </tr>\n",
              "    <tr>\n",
              "      <th>2</th>\n",
              "      <td>Acura TL Sedan 2012</td>\n",
              "    </tr>\n",
              "    <tr>\n",
              "      <th>3</th>\n",
              "      <td>Acura TL Type-S 2008</td>\n",
              "    </tr>\n",
              "    <tr>\n",
              "      <th>4</th>\n",
              "      <td>Acura TSX Sedan 2012</td>\n",
              "    </tr>\n",
              "    <tr>\n",
              "      <th>5</th>\n",
              "      <td>Acura Integra Type R 2001</td>\n",
              "    </tr>\n",
              "    <tr>\n",
              "      <th>6</th>\n",
              "      <td>Acura ZDX Hatchback 2012</td>\n",
              "    </tr>\n",
              "    <tr>\n",
              "      <th>7</th>\n",
              "      <td>Aston Martin V8 Vantage Convertible 2012</td>\n",
              "    </tr>\n",
              "    <tr>\n",
              "      <th>8</th>\n",
              "      <td>Aston Martin V8 Vantage Coupe 2012</td>\n",
              "    </tr>\n",
              "    <tr>\n",
              "      <th>9</th>\n",
              "      <td>Aston Martin Virage Convertible 2012</td>\n",
              "    </tr>\n",
              "  </tbody>\n",
              "</table>\n",
              "</div>"
            ],
            "text/plain": [
              "                                          0\n",
              "0                AM General Hummer SUV 2000\n",
              "1                       Acura RL Sedan 2012\n",
              "2                       Acura TL Sedan 2012\n",
              "3                      Acura TL Type-S 2008\n",
              "4                      Acura TSX Sedan 2012\n",
              "5                 Acura Integra Type R 2001\n",
              "6                  Acura ZDX Hatchback 2012\n",
              "7  Aston Martin V8 Vantage Convertible 2012\n",
              "8        Aston Martin V8 Vantage Coupe 2012\n",
              "9      Aston Martin Virage Convertible 2012"
            ]
          },
          "metadata": {},
          "execution_count": 90
        }
      ]
    },
    {
      "cell_type": "code",
      "metadata": {
        "colab": {
          "base_uri": "https://localhost:8080/"
        },
        "id": "gScO9ykBLlqs",
        "outputId": "b455eccb-79a5-4e9c-e272-2c9d11ce275e"
      },
      "source": [
        "carNameDF.info()"
      ],
      "execution_count": null,
      "outputs": [
        {
          "output_type": "stream",
          "name": "stdout",
          "text": [
            "<class 'pandas.core.frame.DataFrame'>\n",
            "RangeIndex: 196 entries, 0 to 195\n",
            "Data columns (total 1 columns):\n",
            " #   Column  Non-Null Count  Dtype \n",
            "---  ------  --------------  ----- \n",
            " 0   0       196 non-null    object\n",
            "dtypes: object(1)\n",
            "memory usage: 1.7+ KB\n"
          ]
        }
      ]
    },
    {
      "cell_type": "markdown",
      "metadata": {
        "id": "4x_KCAXiM9Tx"
      },
      "source": [
        "Function to create data frame with Image Name,Image np array,Car Make"
      ]
    },
    {
      "cell_type": "code",
      "metadata": {
        "id": "TGaO6JSfM5Bp"
      },
      "source": [
        "IMAGE_WIDTH=128\n",
        "IMAGE_HEIGHT=128\n",
        "CHANNEL=3"
      ],
      "execution_count": null,
      "outputs": []
    },
    {
      "cell_type": "code",
      "metadata": {
        "id": "V2agiXPfNAbB"
      },
      "source": [
        "import os\n",
        "import tensorflow\n",
        "from keras.preprocessing import image\n",
        "#from tqdm import tqdm\n",
        "def createImageDF(imageSourceFolder,target_size_tuple,colormode,totalImagePerClassCap):\n",
        "    dfRows=[]\n",
        "    for dirname, _, filenames in os.walk(imageSourceFolder):\n",
        "            limit=0\n",
        "            if len(filenames) < totalImagePerClassCap or totalImagePerClassCap == 0:\n",
        "                limit=len(filenames)\n",
        "            else:\n",
        "                limit=totalImagePerClassCap\n",
        "            for i in range(0,limit):\n",
        "                    processedRows=[]\n",
        "                    filename=filenames[i]\n",
        "                    processedRows.append(filename)\n",
        "                    pathSplits=dirname.split('/')\n",
        "                    #print(os.path.join(dirname, filename))\n",
        "                    imgPath=os.path.join(dirname, filename)\n",
        "                    #print(imgPath)\n",
        "                    img = image.load_img(imgPath)\n",
        "                    if target_size_tuple!='':\n",
        "                        img_scaled = image.load_img(imgPath, target_size=target_size_tuple, color_mode = colormode)\n",
        "                        image_width_scale_fact=target_size_tuple[0]/img.width\n",
        "                        image_height_scale_fact=target_size_tuple[1]/img.height\n",
        "                        imgArray = image.img_to_array(img_scaled)\n",
        "                    else:\n",
        "                        img\n",
        "                        image_width_scale_fact=img.width\n",
        "                        image_height_scale_fact=img.height\n",
        "                        #img = Image.open(imgPath)\n",
        "                        imgArray = image.img_to_array(img)\n",
        "                    #imgArray=np.asarray(img)\n",
        "                    processedRows.append(imgArray)\n",
        "                    processedRows.append(pathSplits[len(pathSplits)-1])\n",
        "                    processedRows.append(image_width_scale_fact)\n",
        "                    processedRows.append(image_height_scale_fact)\n",
        "                    dfRows.append(processedRows)\n",
        "    return pd.DataFrame(dfRows, columns=[\"Image Name\",\"image_array\",\"model\",\"image_width_scale_fact\",\"image_height_scale_fact\"])"
      ],
      "execution_count": null,
      "outputs": []
    },
    {
      "cell_type": "code",
      "metadata": {
        "id": "nUb8hXWvNAga"
      },
      "source": [
        "def loadSingleScoringImage(imageSourcePath,target_size_tuple,colormode):\n",
        "    dfRows=[]\n",
        "    processedRow=[]\n",
        "    imgPath=imageSourcePath\n",
        "    img = image.load_img(imgPath)\n",
        "    pathSplits=imgPath.split('/')\n",
        "    if target_size_tuple!='':\n",
        "        img_scaled = image.load_img(imgPath, target_size=target_size_tuple, color_mode = colormode)\n",
        "        image_width_scale_fact=target_size_tuple[0]/img.width\n",
        "        image_height_scale_fact=target_size_tuple[1]/img.height\n",
        "        imgArray = image.img_to_array(img_scaled)\n",
        "    else:\n",
        "        img\n",
        "        image_width_scale_fact=img.width\n",
        "        image_height_scale_fact=img.height\n",
        "        #img = Image.open(imgPath)\n",
        "        imgArray = image.img_to_array(img)\n",
        "    #imgArray=np.asarray(img)\n",
        "    processedRow.append(pathSplits[len(pathSplits)-1])\n",
        "    processedRow.append(imgArray)\n",
        "    processedRow.append(pathSplits[len(pathSplits)-2])\n",
        "    processedRow.append(image_width_scale_fact)\n",
        "    processedRow.append(image_height_scale_fact)\n",
        "    dfRows.append(processedRow)\n",
        "    return pd.DataFrame(dfRows, columns=[\"Image Name\",\"image_array\",\"model\",\"image_width_scale_fact\",\"image_height_scale_fact\"])"
      ],
      "execution_count": null,
      "outputs": []
    },
    {
      "cell_type": "code",
      "metadata": {
        "colab": {
          "base_uri": "https://localhost:8080/",
          "height": 49
        },
        "id": "kUBaQfqLNAle",
        "outputId": "a35aebd8-6d4e-4145-ff8c-1896cef57744"
      },
      "source": [
        "trainImageDF=createImageDF('/content/drive/MyDrive/Capstone/Dataset/CarImages/TrainImages','',\"rgb\",2)\n",
        "trainImageDF"
      ],
      "execution_count": null,
      "outputs": [
        {
          "output_type": "execute_result",
          "data": {
            "text/html": [
              "<div>\n",
              "<style scoped>\n",
              "    .dataframe tbody tr th:only-of-type {\n",
              "        vertical-align: middle;\n",
              "    }\n",
              "\n",
              "    .dataframe tbody tr th {\n",
              "        vertical-align: top;\n",
              "    }\n",
              "\n",
              "    .dataframe thead th {\n",
              "        text-align: right;\n",
              "    }\n",
              "</style>\n",
              "<table border=\"1\" class=\"dataframe\">\n",
              "  <thead>\n",
              "    <tr style=\"text-align: right;\">\n",
              "      <th></th>\n",
              "      <th>Image Name</th>\n",
              "      <th>image_array</th>\n",
              "      <th>model</th>\n",
              "      <th>image_width_scale_fact</th>\n",
              "      <th>image_height_scale_fact</th>\n",
              "    </tr>\n",
              "  </thead>\n",
              "  <tbody>\n",
              "  </tbody>\n",
              "</table>\n",
              "</div>"
            ],
            "text/plain": [
              "Empty DataFrame\n",
              "Columns: [Image Name, image_array, model, image_width_scale_fact, image_height_scale_fact]\n",
              "Index: []"
            ]
          },
          "metadata": {},
          "execution_count": 102
        }
      ]
    },
    {
      "cell_type": "code",
      "metadata": {
        "colab": {
          "base_uri": "https://localhost:8080/",
          "height": 49
        },
        "id": "mezJkQRRNO6h",
        "outputId": "15875abe-2b5c-4c50-ab09-f286b3cdb4f5"
      },
      "source": [
        "trainImageDF.head(10)"
      ],
      "execution_count": null,
      "outputs": [
        {
          "output_type": "execute_result",
          "data": {
            "text/html": [
              "<div>\n",
              "<style scoped>\n",
              "    .dataframe tbody tr th:only-of-type {\n",
              "        vertical-align: middle;\n",
              "    }\n",
              "\n",
              "    .dataframe tbody tr th {\n",
              "        vertical-align: top;\n",
              "    }\n",
              "\n",
              "    .dataframe thead th {\n",
              "        text-align: right;\n",
              "    }\n",
              "</style>\n",
              "<table border=\"1\" class=\"dataframe\">\n",
              "  <thead>\n",
              "    <tr style=\"text-align: right;\">\n",
              "      <th></th>\n",
              "      <th>Image Name</th>\n",
              "      <th>image_array</th>\n",
              "      <th>model</th>\n",
              "      <th>image_width_scale_fact</th>\n",
              "      <th>image_height_scale_fact</th>\n",
              "    </tr>\n",
              "  </thead>\n",
              "  <tbody>\n",
              "  </tbody>\n",
              "</table>\n",
              "</div>"
            ],
            "text/plain": [
              "Empty DataFrame\n",
              "Columns: [Image Name, image_array, model, image_width_scale_fact, image_height_scale_fact]\n",
              "Index: []"
            ]
          },
          "metadata": {},
          "execution_count": 62
        }
      ]
    },
    {
      "cell_type": "code",
      "metadata": {
        "id": "qSF48gnCPDrG"
      },
      "source": [
        "# Lodaing annotation details for images from train_anno_df i.e. train annotations\n",
        "trainMergedImageDF=pd.merge(trainImageDF,train_anno_df, on=['Image Name'])"
      ],
      "execution_count": null,
      "outputs": []
    },
    {
      "cell_type": "code",
      "metadata": {
        "colab": {
          "base_uri": "https://localhost:8080/",
          "height": 49
        },
        "id": "dE9T8t7APIuG",
        "outputId": "e8242b76-881a-4878-832e-2f4d02db1d4f"
      },
      "source": [
        "trainMergedImageDF.head(10)"
      ],
      "execution_count": null,
      "outputs": [
        {
          "output_type": "execute_result",
          "data": {
            "text/html": [
              "<div>\n",
              "<style scoped>\n",
              "    .dataframe tbody tr th:only-of-type {\n",
              "        vertical-align: middle;\n",
              "    }\n",
              "\n",
              "    .dataframe tbody tr th {\n",
              "        vertical-align: top;\n",
              "    }\n",
              "\n",
              "    .dataframe thead th {\n",
              "        text-align: right;\n",
              "    }\n",
              "</style>\n",
              "<table border=\"1\" class=\"dataframe\">\n",
              "  <thead>\n",
              "    <tr style=\"text-align: right;\">\n",
              "      <th></th>\n",
              "      <th>image_array</th>\n",
              "      <th>model</th>\n",
              "      <th>image_width_scale_fact</th>\n",
              "      <th>image_height_scale_fact</th>\n",
              "      <th>Image Name</th>\n",
              "      <th>x0</th>\n",
              "      <th>y0</th>\n",
              "      <th>x1</th>\n",
              "      <th>y1</th>\n",
              "      <th>Image class</th>\n",
              "    </tr>\n",
              "  </thead>\n",
              "  <tbody>\n",
              "  </tbody>\n",
              "</table>\n",
              "</div>"
            ],
            "text/plain": [
              "Empty DataFrame\n",
              "Columns: [image_array, model, image_width_scale_fact, image_height_scale_fact, Image Name, x0, y0, x1, y1, Image class]\n",
              "Index: []"
            ]
          },
          "metadata": {},
          "execution_count": 45
        }
      ]
    },
    {
      "cell_type": "code",
      "metadata": {
        "colab": {
          "base_uri": "https://localhost:8080/"
        },
        "id": "-RQGe6TEPLgP",
        "outputId": "b8d6aa14-9a06-46c6-fcfd-436a855b207d"
      },
      "source": [
        "len(trainMergedImageDF)"
      ],
      "execution_count": null,
      "outputs": [
        {
          "output_type": "execute_result",
          "data": {
            "text/plain": [
              "0"
            ]
          },
          "metadata": {},
          "execution_count": 46
        }
      ]
    },
    {
      "cell_type": "markdown",
      "metadata": {
        "id": "fqWEHgg0PPdw"
      },
      "source": [
        "Function to create bounding box on image"
      ]
    },
    {
      "cell_type": "code",
      "metadata": {
        "id": "Xf2KorAYPLlw"
      },
      "source": [
        "import matplotlib.pyplot as plt\n",
        "import matplotlib.patches as patches\n",
        "\n",
        "def drowBoxedImages(dataFrame,featureCol,x0,y0,x1,y1,boxlinewidth,boxedgecolor):\n",
        "  fig,ax=plt.subplots(len(dataFrame))\n",
        "  fig.set_size_inches(15,15)\n",
        "  # Display the image\n",
        "  for index, row in dataFrame.iterrows():\n",
        "    data=row[featureCol]\n",
        "    img = image.array_to_img(data)\n",
        "    ax[index].imshow(img)\n",
        "    image_height, image_width, _ = data.shape\n",
        "    rect=[]\n",
        "    rect.append(patches.Rectangle((row[x0], row[y0]), row[x1] - row[x0], row[y1] - row[y0], linewidth=boxlinewidth, edgecolor=boxedgecolor, facecolor='none'))\n",
        "    # Add the patch to the Axes\n",
        "    for l in range(0,len(rect)):\n",
        "      ax[index].add_patch(rect[l])\n",
        "  plt.show()"
      ],
      "execution_count": null,
      "outputs": []
    },
    {
      "cell_type": "code",
      "metadata": {
        "id": "J0q2epxGPTSl"
      },
      "source": [
        "def drowImages(dataFrame,featureCol):\n",
        "  fig,ax=plt.subplots(len(dataFrame))\n",
        "  fig.set_size_inches(15,15)\n",
        "  # Display the image\n",
        "  for index, row in dataFrame.iterrows():\n",
        "    data=row[featureCol]\n",
        "    img = image.array_to_img(data)\n",
        "    ax[index].imshow(img)\n",
        "  plt.show()"
      ],
      "execution_count": null,
      "outputs": []
    },
    {
      "cell_type": "code",
      "metadata": {
        "colab": {
          "base_uri": "https://localhost:8080/",
          "height": 34
        },
        "id": "C4AVFkK0PTe-",
        "outputId": "7fdb818e-9b01-46fa-ee6a-661f07609528"
      },
      "source": [
        "drowBoxedImages(trainMergedImageDF.head(10),'image_array','x0','y0','x1','y1',2,'r')"
      ],
      "execution_count": null,
      "outputs": [
        {
          "output_type": "display_data",
          "data": {
            "text/plain": [
              "<Figure size 1080x1080 with 0 Axes>"
            ]
          },
          "metadata": {}
        }
      ]
    },
    {
      "cell_type": "code",
      "metadata": {
        "id": "QGGXoN45PTit"
      },
      "source": [
        "testImageDF=createImageDF('project_path+Car Images/Test Images/','',\"rgb\",2)"
      ],
      "execution_count": null,
      "outputs": []
    },
    {
      "cell_type": "code",
      "metadata": {
        "colab": {
          "base_uri": "https://localhost:8080/",
          "height": 49
        },
        "id": "KBtMgXVKPTmj",
        "outputId": "cafee7ad-fd23-4cca-8943-d673aed914bf"
      },
      "source": [
        "testImageDF.head(10)"
      ],
      "execution_count": null,
      "outputs": [
        {
          "output_type": "execute_result",
          "data": {
            "text/html": [
              "<div>\n",
              "<style scoped>\n",
              "    .dataframe tbody tr th:only-of-type {\n",
              "        vertical-align: middle;\n",
              "    }\n",
              "\n",
              "    .dataframe tbody tr th {\n",
              "        vertical-align: top;\n",
              "    }\n",
              "\n",
              "    .dataframe thead th {\n",
              "        text-align: right;\n",
              "    }\n",
              "</style>\n",
              "<table border=\"1\" class=\"dataframe\">\n",
              "  <thead>\n",
              "    <tr style=\"text-align: right;\">\n",
              "      <th></th>\n",
              "      <th>Image Name</th>\n",
              "      <th>image_array</th>\n",
              "      <th>model</th>\n",
              "      <th>image_width_scale_fact</th>\n",
              "      <th>image_height_scale_fact</th>\n",
              "    </tr>\n",
              "  </thead>\n",
              "  <tbody>\n",
              "  </tbody>\n",
              "</table>\n",
              "</div>"
            ],
            "text/plain": [
              "Empty DataFrame\n",
              "Columns: [Image Name, image_array, model, image_width_scale_fact, image_height_scale_fact]\n",
              "Index: []"
            ]
          },
          "metadata": {},
          "execution_count": 51
        }
      ]
    },
    {
      "cell_type": "code",
      "metadata": {
        "id": "xGTWcgO3Pn7a"
      },
      "source": [
        "# Lodaing annotation details for images from train_anno_df i.e. train annotations\n",
        "testMergedImageDF=pd.merge(testImageDF,test_anno_df, on=['Image Name'])"
      ],
      "execution_count": null,
      "outputs": []
    },
    {
      "cell_type": "code",
      "metadata": {
        "colab": {
          "base_uri": "https://localhost:8080/",
          "height": 49
        },
        "id": "YbbH-1HLPvBt",
        "outputId": "4f2dbdf7-a848-4df7-c6a0-3e81cbce55ac"
      },
      "source": [
        "testMergedImageDF.head(10)"
      ],
      "execution_count": null,
      "outputs": [
        {
          "output_type": "execute_result",
          "data": {
            "text/html": [
              "<div>\n",
              "<style scoped>\n",
              "    .dataframe tbody tr th:only-of-type {\n",
              "        vertical-align: middle;\n",
              "    }\n",
              "\n",
              "    .dataframe tbody tr th {\n",
              "        vertical-align: top;\n",
              "    }\n",
              "\n",
              "    .dataframe thead th {\n",
              "        text-align: right;\n",
              "    }\n",
              "</style>\n",
              "<table border=\"1\" class=\"dataframe\">\n",
              "  <thead>\n",
              "    <tr style=\"text-align: right;\">\n",
              "      <th></th>\n",
              "      <th>image_array</th>\n",
              "      <th>model</th>\n",
              "      <th>image_width_scale_fact</th>\n",
              "      <th>image_height_scale_fact</th>\n",
              "      <th>Image Name</th>\n",
              "      <th>x0</th>\n",
              "      <th>y0</th>\n",
              "      <th>x1</th>\n",
              "      <th>y1</th>\n",
              "      <th>Image class</th>\n",
              "    </tr>\n",
              "  </thead>\n",
              "  <tbody>\n",
              "  </tbody>\n",
              "</table>\n",
              "</div>"
            ],
            "text/plain": [
              "Empty DataFrame\n",
              "Columns: [image_array, model, image_width_scale_fact, image_height_scale_fact, Image Name, x0, y0, x1, y1, Image class]\n",
              "Index: []"
            ]
          },
          "metadata": {},
          "execution_count": 53
        }
      ]
    },
    {
      "cell_type": "code",
      "metadata": {
        "colab": {
          "base_uri": "https://localhost:8080/",
          "height": 34
        },
        "id": "X6eHJzRSPxW-",
        "outputId": "5438967b-e929-4c80-8a44-0c70e2383fe7"
      },
      "source": [
        "drowBoxedImages(testMergedImageDF.head(10),'image_array','x0','y0','x1','y1',2,'r')"
      ],
      "execution_count": null,
      "outputs": [
        {
          "output_type": "display_data",
          "data": {
            "text/plain": [
              "<Figure size 1080x1080 with 0 Axes>"
            ]
          },
          "metadata": {}
        }
      ]
    },
    {
      "cell_type": "markdown",
      "metadata": {
        "id": "qV_Bajc2P0fZ"
      },
      "source": [
        "check distribution of each class in our training data"
      ]
    },
    {
      "cell_type": "code",
      "metadata": {
        "colab": {
          "base_uri": "https://localhost:8080/",
          "height": 289
        },
        "id": "cx9dfmZKP1io",
        "outputId": "645c1de9-8bb0-418a-a9a5-1ef51c44a4d8"
      },
      "source": [
        "import seaborn as sns\n",
        "sns.set_theme(style=\"darkgrid\")\n",
        "sns.histplot(x= trainMergedImageDF['Image class'],bins = 20)"
      ],
      "execution_count": null,
      "outputs": [
        {
          "output_type": "execute_result",
          "data": {
            "text/plain": [
              "<matplotlib.axes._subplots.AxesSubplot at 0x7f9fff0a9810>"
            ]
          },
          "metadata": {},
          "execution_count": 55
        },
        {
          "output_type": "display_data",
          "data": {
            "image/png": "[encoded data removed]",
            "text/plain": [
              "<Figure size 432x288 with 1 Axes>"
            ]
          },
          "metadata": {}
        }
      ]
    },
    {
      "cell_type": "code",
      "metadata": {
        "id": "S0UA2vjOP1rF"
      },
      "source": [
        "#trainReducedImageDF=createImageDF('../input/stanford-car-dataset-by-classes-folder/car_data/car_data/train',(IMAGE_WIDTH,IMAGE_HEIGHT,CHANNEL),\"rgb\",5)"
      ],
      "execution_count": null,
      "outputs": []
    },
    {
      "cell_type": "code",
      "metadata": {
        "id": "jco7CiP6P1xy"
      },
      "source": [
        ""
      ],
      "execution_count": null,
      "outputs": []
    }
  ]
}