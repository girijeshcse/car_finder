{
  "nbformat": 4,
  "nbformat_minor": 0,
  "metadata": {
    "colab": {
      "name": "config.ipynb",
      "provenance": [],
      "authorship_tag": "ABX9TyMivF4OLId79Aw3epZ5UnA7",
      "include_colab_link": true
    },
    "kernelspec": {
      "name": "python3",
      "display_name": "Python 3"
    },
    "language_info": {
      "name": "python"
    }
  },
  "cells": [
    {
      "cell_type": "markdown",
      "metadata": {
        "id": "view-in-github",
        "colab_type": "text"
      },
      "source": [
        "<a href=\"https://colab.research.google.com/github/girijeshcse/car_finder/blob/sushweta/notebooks/config.ipynb\" target=\"_parent\"><img src=\"https://colab.research.google.com/assets/colab-badge.svg\" alt=\"Open In Colab\"/></a>"
      ]
    },
    {
      "cell_type": "markdown",
      "metadata": {
        "id": "t0JlASgT886f"
      },
      "source": [
        "# CAPSTONE PROJECT\n",
        "\n",
        "A configuration settings and variables file.\n",
        "\n"
      ]
    },
    {
      "cell_type": "code",
      "metadata": {
        "id": "ckPVrt8k877-"
      },
      "source": [
        "# import the necessary packages\n",
        "# os module allows us to build dynamic paths in our configuration file.\n",
        "import os\n",
        "\n",
        "# define the base path to the input dataset and then use it to derive\n",
        "# the path to the images directory and annotation CSV file\n",
        "BASE_PATH = \"/content/drive/My Drive/Capstone Data\"\n",
        "\n",
        "# A path to our subset of Car images\n",
        "TRAIN_IMAGES_PATH = os.path.sep.join([BASE_PATH, \"Car Images/Train Images/\"])\n",
        "TEST_IMAGES_PATH = os.path.sep.join([BASE_PATH, \"Car Images/Test Images/\"])\n",
        "\n",
        "# The path to the folder containing our bounding box annotations in CSV format\n",
        "TRAIN_ANNOTS_PATH = os.path.sep.join([BASE_PATH, \"Annotations/Train Annotations.csv\"])\n",
        "TEST_ANNOTS_PATH = os.path.sep.join([BASE_PATH, \"Annotations/Test Annotations.csv\"])\n",
        "\n",
        "# define the path to the base output directory\n",
        "BASE_OUTPUT = \"output\"\n",
        "# define the path to the output serialized model, model training plot,\n",
        "# and testing image filenames\n",
        "\n",
        "# The path to our TensorFlow-serialized output model\n",
        "MODEL_PATH = os.path.sep.join([BASE_OUTPUT, \"detector.h5\"])\n",
        "\n",
        "# The output training history plot consisting of accuracy and loss curves\n",
        "PLOT_PATH = os.path.sep.join([BASE_OUTPUT, \"plot.png\"])\n",
        "\n",
        "# A text file of image filenames selected for our testing set\n",
        "TEST_FILENAMES = os.path.sep.join([BASE_OUTPUT, \"test_images.txt\"])\n",
        "\n",
        "# Set three deep learning hyperparameters \n",
        "# initialize our initial learning rate, number of epochs to train for, and the batch size\n",
        "INIT_LR = 1e-4\n",
        "NUM_EPOCHS = 25\n",
        "BATCH_SIZE = 32\n",
        "\n"
      ],
      "execution_count": null,
      "outputs": []
    }
  ]
}