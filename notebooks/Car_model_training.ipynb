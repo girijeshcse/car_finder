{
  "nbformat": 4,
  "nbformat_minor": 0,
  "metadata": {
    "colab": {
      "name": "Car model training.ipynb",
      "provenance": [],
      "collapsed_sections": [],
      "machine_shape": "hm",
      "authorship_tag": "ABX9TyMmb+R85yfTJ3ZA5TfHEF93",
      "include_colab_link": true
    },
    "kernelspec": {
      "name": "python3",
      "display_name": "Python 3"
    },
    "language_info": {
      "name": "python"
    },
    "accelerator": "TPU"
  },
  "cells": [
    {
      "cell_type": "markdown",
      "metadata": {
        "id": "view-in-github",
        "colab_type": "text"
      },
      "source": [
        "<a href=\"https://colab.research.google.com/github/girijeshcse/car_finder/blob/sushweta/notebooks/Car_model_training.ipynb\" target=\"_parent\"><img src=\"https://colab.research.google.com/assets/colab-badge.svg\" alt=\"Open In Colab\"/></a>"
      ]
    },
    {
      "cell_type": "markdown",
      "metadata": {
        "id": "t0JlASgT886f"
      },
      "source": [
        "# CAPSTONE PROJECT\n",
        "\n",
        "Our training script begins with a selection of imports. These include:\n",
        "\n",
        "config: The configuration file consisting of paths and hyperparameters\n",
        "\n",
        "VGG16: The CNN architecture to serve as the base network for our fine tuning approach\n",
        "\n",
        "tf.keras: Imports from TensorFlow/Keras consisting of layer types, optimizers, and image loading/preprocessing routines\n",
        "\n",
        "train_test_split: Scikit-learn’s convenience utility for slicing our network into training and testing subsets\n",
        "\n",
        "matplotlib: Python’s de facto plotting package\n",
        "\n",
        "numpy: Python’s standard numerical processing library\n",
        "\n",
        "cv2: OpenCV"
      ]
    },
    {
      "cell_type": "code",
      "metadata": {
        "id": "ckPVrt8k877-"
      },
      "source": [
        "import os\n",
        "import cv2\n",
        "import csv\n",
        "from tqdm import tqdm\n",
        "import pandas as pd\n",
        "import numpy as np\n",
        "import matplotlib.pyplot as plt\n",
        "import pickle\n",
        "from imutils import paths\n",
        "from sklearn.preprocessing import LabelBinarizer\n",
        "from sklearn.model_selection import train_test_split\n",
        "\n",
        "from tensorflow.keras.applications import VGG16\n",
        "from tensorflow.keras.layers import Flatten\n",
        "from tensorflow.keras.layers import Dropout\n",
        "from tensorflow.keras.layers import Dense\n",
        "from tensorflow.keras.layers import Input\n",
        "from tensorflow.keras.models import Model\n",
        "from tensorflow.keras.optimizers import Adam\n",
        "from tensorflow.keras.preprocessing.image import img_to_array\n",
        "from tensorflow.keras.preprocessing.image import load_img\n",
        "from tensorflow.keras.utils import to_categorical\n"
      ],
      "execution_count": 1,
      "outputs": []
    },
    {
      "cell_type": "code",
      "metadata": {
        "id": "7aM03IEXHID9"
      },
      "source": [
        "#import Car_model_config"
      ],
      "execution_count": 2,
      "outputs": []
    },
    {
      "cell_type": "code",
      "metadata": {
        "id": "6XbLzOjIJiLJ"
      },
      "source": [
        "BASE_PATH = \"/content/drive/My Drive/Capstone Data\"\n",
        "TRAIN_IMAGES_PATH = os.path.sep.join([BASE_PATH, \"Car Images/Train Images\"])\n",
        "TEST_IMAGES_PATH = os.path.sep.join([BASE_PATH, \"Car Images/Test Images\"])\n",
        "TRAIN_ANNOTS_PATH = os.path.sep.join([BASE_PATH, \"Annotations/Train Annotations.csv\"])\n",
        "TEST_ANNOTS_PATH = os.path.sep.join([BASE_PATH, \"Annotations/Test Annotation.csv\"])\n",
        "CAR_NAMES_MAKE_DICT = os.path.sep.join([BASE_PATH, \"Car names and make.csv\"])"
      ],
      "execution_count": 3,
      "outputs": []
    },
    {
      "cell_type": "code",
      "metadata": {
        "colab": {
          "base_uri": "https://localhost:8080/"
        },
        "id": "ECZJqnDTrOvj",
        "outputId": "da131121-f9fe-430e-a25b-7d154102f8c4"
      },
      "source": [
        "# define the path to the base output directory\n",
        "BASE_OUTPUT = \"output\"\n",
        "# define the path to the output serialized model, model training plot,\n",
        "# and testing image filenames\n",
        "# A text file of image filenames selected for our testing set\n",
        "TEST_FILENAMES = os.path.sep.join([BASE_PATH, BASE_OUTPUT, \"test_images.txt\"])\n",
        "print(TEST_FILENAMES)"
      ],
      "execution_count": 4,
      "outputs": [
        {
          "output_type": "stream",
          "name": "stdout",
          "text": [
            "/content/drive/My Drive/Capstone Data/output/test_images.txt\n"
          ]
        }
      ]
    },
    {
      "cell_type": "code",
      "metadata": {
        "colab": {
          "base_uri": "https://localhost:8080/"
        },
        "id": "PC-ymmL2-Sed",
        "outputId": "939b5507-9c26-49b6-9e17-2892c0976144"
      },
      "source": [
        "from google.colab import drive\n",
        "drive.mount('/content/drive')"
      ],
      "execution_count": 5,
      "outputs": [
        {
          "output_type": "stream",
          "name": "stdout",
          "text": [
            "Mounted at /content/drive\n"
          ]
        }
      ]
    },
    {
      "cell_type": "code",
      "metadata": {
        "id": "fgmN84eN-eYd"
      },
      "source": [
        "# load the contents of the CSV annotations file\n",
        "\n",
        "# initialize the list of data (images), our target output predictions\n",
        "# (bounding box coordinates), along with the filenames of the\n",
        "# individual images\n",
        "data = []\n",
        "targets = []\n",
        "trainfilenames = []\n",
        "testfilenames = []\n",
        "labels = []\n",
        "bboxes = []\n",
        "trainimagePaths = []\n",
        "\n",
        "testdata = []\n",
        "testtargets = []\n",
        "testbboxes = []\n"
      ],
      "execution_count": 6,
      "outputs": []
    },
    {
      "cell_type": "code",
      "metadata": {
        "id": "MQfWV9I4SEA-"
      },
      "source": [
        "car_map = pd.read_csv(CAR_NAMES_MAKE_DICT)\n",
        "car_map=car_map.set_index('Cars')\n"
      ],
      "execution_count": 7,
      "outputs": []
    },
    {
      "cell_type": "code",
      "metadata": {
        "id": "SgVCGjlQSp_O",
        "colab": {
          "base_uri": "https://localhost:8080/",
          "height": 237
        },
        "outputId": "87a4efed-1e58-4246-e7bd-0ba7307897da"
      },
      "source": [
        "car_map.head()"
      ],
      "execution_count": 8,
      "outputs": [
        {
          "output_type": "execute_result",
          "data": {
            "text/html": [
              "<div>\n",
              "<style scoped>\n",
              "    .dataframe tbody tr th:only-of-type {\n",
              "        vertical-align: middle;\n",
              "    }\n",
              "\n",
              "    .dataframe tbody tr th {\n",
              "        vertical-align: top;\n",
              "    }\n",
              "\n",
              "    .dataframe thead th {\n",
              "        text-align: right;\n",
              "    }\n",
              "</style>\n",
              "<table border=\"1\" class=\"dataframe\">\n",
              "  <thead>\n",
              "    <tr style=\"text-align: right;\">\n",
              "      <th></th>\n",
              "      <th>Class Numbers</th>\n",
              "    </tr>\n",
              "    <tr>\n",
              "      <th>Cars</th>\n",
              "      <th></th>\n",
              "    </tr>\n",
              "  </thead>\n",
              "  <tbody>\n",
              "    <tr>\n",
              "      <th>AM General Hummer SUV 2000</th>\n",
              "      <td>0</td>\n",
              "    </tr>\n",
              "    <tr>\n",
              "      <th>Acura RL Sedan 2012</th>\n",
              "      <td>1</td>\n",
              "    </tr>\n",
              "    <tr>\n",
              "      <th>Acura TL Sedan 2012</th>\n",
              "      <td>2</td>\n",
              "    </tr>\n",
              "    <tr>\n",
              "      <th>Acura TL Type-S 2008</th>\n",
              "      <td>3</td>\n",
              "    </tr>\n",
              "    <tr>\n",
              "      <th>Acura TSX Sedan 2012</th>\n",
              "      <td>4</td>\n",
              "    </tr>\n",
              "  </tbody>\n",
              "</table>\n",
              "</div>"
            ],
            "text/plain": [
              "                            Class Numbers\n",
              "Cars                                     \n",
              "AM General Hummer SUV 2000              0\n",
              "Acura RL Sedan 2012                     1\n",
              "Acura TL Sedan 2012                     2\n",
              "Acura TL Type-S 2008                    3\n",
              "Acura TSX Sedan 2012                    4"
            ]
          },
          "metadata": {},
          "execution_count": 8
        }
      ]
    },
    {
      "cell_type": "code",
      "metadata": {
        "colab": {
          "base_uri": "https://localhost:8080/"
        },
        "id": "flGLoQoee2zH",
        "outputId": "d71f854d-f62f-411d-a073-f7c509ca8da8"
      },
      "source": [
        "car_map.info()"
      ],
      "execution_count": 9,
      "outputs": [
        {
          "output_type": "stream",
          "name": "stdout",
          "text": [
            "<class 'pandas.core.frame.DataFrame'>\n",
            "Index: 196 entries, AM General Hummer SUV 2000 to smart fortwo Convertible 2012\n",
            "Data columns (total 1 columns):\n",
            " #   Column         Non-Null Count  Dtype\n",
            "---  ------         --------------  -----\n",
            " 0   Class Numbers  196 non-null    int64\n",
            "dtypes: int64(1)\n",
            "memory usage: 3.1+ KB\n"
          ]
        }
      ]
    },
    {
      "cell_type": "code",
      "metadata": {
        "id": "M_HAm_ikTkRk",
        "colab": {
          "base_uri": "https://localhost:8080/"
        },
        "outputId": "60b09208-d08c-4750-a486-8fb1a9cc7f31"
      },
      "source": [
        "car_map_dict=car_map.to_dict('index')\n",
        "list(car_map_dict.items())[:5]"
      ],
      "execution_count": 10,
      "outputs": [
        {
          "output_type": "execute_result",
          "data": {
            "text/plain": [
              "[('AM General Hummer SUV 2000', {'Class Numbers': 0}),\n",
              " ('Acura RL Sedan 2012', {'Class Numbers': 1}),\n",
              " ('Acura TL Sedan 2012', {'Class Numbers': 2}),\n",
              " ('Acura TL Type-S 2008', {'Class Numbers': 3}),\n",
              " ('Acura TSX Sedan 2012', {'Class Numbers': 4})]"
            ]
          },
          "metadata": {},
          "execution_count": 10
        }
      ]
    },
    {
      "cell_type": "code",
      "metadata": {
        "id": "aL8sWNBnWnaW",
        "colab": {
          "base_uri": "https://localhost:8080/"
        },
        "outputId": "e390406c-1e48-43d8-b09d-3361f264d9ed"
      },
      "source": [
        "#fetch a key based on value passed - we need this to build our image paths\n",
        "print(list(car_map_dict.keys())[173])"
      ],
      "execution_count": 11,
      "outputs": [
        {
          "output_type": "stream",
          "name": "stdout",
          "text": [
            "Ram C-V Cargo Van Minivan 2012\n"
          ]
        }
      ]
    },
    {
      "cell_type": "code",
      "metadata": {
        "colab": {
          "base_uri": "https://localhost:8080/"
        },
        "id": "PtJZAjP7Pjke",
        "outputId": "b66caa1c-14d2-428b-be50-b70368aaec68"
      },
      "source": [
        "df_init= pd.read_csv(TRAIN_ANNOTS_PATH)\n",
        "\n",
        "df_init.info()"
      ],
      "execution_count": 12,
      "outputs": [
        {
          "output_type": "stream",
          "name": "stdout",
          "text": [
            "<class 'pandas.core.frame.DataFrame'>\n",
            "RangeIndex: 8144 entries, 0 to 8143\n",
            "Data columns (total 6 columns):\n",
            " #   Column                    Non-Null Count  Dtype \n",
            "---  ------                    --------------  ----- \n",
            " 0   Image Name                8144 non-null   object\n",
            " 1   Bounding Box coordinates  8144 non-null   int64 \n",
            " 2   Unnamed: 2                8144 non-null   int64 \n",
            " 3   Unnamed: 3                8144 non-null   int64 \n",
            " 4   Unnamed: 4                8144 non-null   int64 \n",
            " 5   Image class               8144 non-null   int64 \n",
            "dtypes: int64(5), object(1)\n",
            "memory usage: 381.9+ KB\n"
          ]
        }
      ]
    },
    {
      "cell_type": "code",
      "metadata": {
        "colab": {
          "base_uri": "https://localhost:8080/"
        },
        "id": "VDiafflgXG2a",
        "outputId": "a6ead511-702f-4308-ebcd-eb4343cc1e65"
      },
      "source": [
        "df_inittest= pd.read_csv(TEST_ANNOTS_PATH)\n",
        "\n",
        "df_inittest.info()"
      ],
      "execution_count": 13,
      "outputs": [
        {
          "output_type": "stream",
          "name": "stdout",
          "text": [
            "<class 'pandas.core.frame.DataFrame'>\n",
            "RangeIndex: 8041 entries, 0 to 8040\n",
            "Data columns (total 6 columns):\n",
            " #   Column                    Non-Null Count  Dtype \n",
            "---  ------                    --------------  ----- \n",
            " 0   Image Name                8041 non-null   object\n",
            " 1   Bounding Box coordinates  8041 non-null   int64 \n",
            " 2   Unnamed: 2                8041 non-null   int64 \n",
            " 3   Unnamed: 3                8041 non-null   int64 \n",
            " 4   Unnamed: 4                8041 non-null   int64 \n",
            " 5   Image class               8041 non-null   int64 \n",
            "dtypes: int64(5), object(1)\n",
            "memory usage: 377.0+ KB\n"
          ]
        }
      ]
    },
    {
      "cell_type": "code",
      "metadata": {
        "id": "BN6laJoZXYd0"
      },
      "source": [
        "df_tidy = df_init.rename(columns = {'Bounding Box coordinates': 'StartX', 'Unnamed: 2' : 'StartY', 'Unnamed: 3':'EndX', 'Unnamed: 4':'EndY'}, inplace = False)\n",
        "df_tidytest = df_inittest.rename(columns = {'Bounding Box coordinates': 'StartX', 'Unnamed: 2' : 'StartY', 'Unnamed: 3':'EndX', 'Unnamed: 4':'EndY'}, inplace = False)"
      ],
      "execution_count": 14,
      "outputs": []
    },
    {
      "cell_type": "code",
      "metadata": {
        "colab": {
          "base_uri": "https://localhost:8080/"
        },
        "id": "hZDsor42aeTh",
        "outputId": "9c6bcb7f-28d3-4287-dc3c-dff037eb9ccf"
      },
      "source": [
        "#Update train dataframe\n",
        "Classname = []\n",
        "X1 = []\n",
        "Y1 = []\n",
        "X2 = []\n",
        "Y2 = []\n",
        "TrainFiles = []\n",
        "\n",
        "for dfrow in tqdm(df_tidy.iterrows()):\n",
        "      \n",
        "  lbl = int(dfrow[1]['Image class'])-1\n",
        "  keyName = list(car_map_dict.keys())[lbl]\n",
        "  fname = dfrow[1]['Image Name']\n",
        "  imagePathtrain = os.path.sep.join([TRAIN_IMAGES_PATH, keyName, fname])\n",
        "      #print(imagePathtrain)\n",
        "\n",
        "  startX = dfrow[1]['StartX']\n",
        "  startY = dfrow[1]['StartY']\n",
        "  endX = dfrow[1]['EndX']\n",
        "  endY = dfrow[1]['EndY']\n",
        "  image = cv2.imread(imagePathtrain)\n",
        "  (h, w) = image.shape[:2]\n",
        "  #print(h,w)\n",
        "\n",
        "  # scale the bounding box coordinates relative to the spatial\n",
        "\t# dimensions of the input image\n",
        "  startX = float(startX) / w\n",
        "  startY = float(startY) / h\n",
        "  endX = float(endX) / w\n",
        "  endY = float(endY) / h\n",
        "  #print(fname, lbl, keyName, startX, startY, endX, endY)\n",
        "  #print(dfrow[1])\n",
        "\n",
        "  Classname.append(keyName)\n",
        "  X1.append(startX)\n",
        "  Y1.append(startY)\n",
        "  X2.append(endX)\n",
        "  Y2.append(endY)\n",
        "  bboxes.append((startX, startY, endX, endY))\n",
        "  TrainFiles.append(imagePathtrain)\n",
        "\n",
        "      \n",
        "df_tidy['Classname'] = Classname\n",
        "df_tidy['X1'] = X1\n",
        "df_tidy['Y1'] = Y1\n",
        "df_tidy['X2'] = X2\n",
        "df_tidy['Y2'] = Y2\n",
        "\n",
        "df_tidy['Filepath'] = TrainFiles"
      ],
      "execution_count": 15,
      "outputs": [
        {
          "output_type": "stream",
          "name": "stderr",
          "text": [
            "8144it [25:58,  5.23it/s]\n"
          ]
        }
      ]
    },
    {
      "cell_type": "code",
      "metadata": {
        "colab": {
          "base_uri": "https://localhost:8080/"
        },
        "id": "kmuUwlcS1OO8",
        "outputId": "cdebae5f-6966-4819-8c6e-4bacb9a58918"
      },
      "source": [
        "\n",
        "print(df_tidy['Filepath'][100])\n",
        "print(df_tidy['Filepath'][200])\n",
        "print(df_tidy['Filepath'][300])\n",
        "print(df_tidy['Filepath'][400])"
      ],
      "execution_count": 16,
      "outputs": [
        {
          "output_type": "stream",
          "name": "stdout",
          "text": [
            "/content/drive/My Drive/Capstone Data/Car Images/Train Images/Volvo C30 Hatchback 2012/00101.jpg\n",
            "/content/drive/My Drive/Capstone Data/Car Images/Train Images/Audi RS 4 Convertible 2008/00201.jpg\n",
            "/content/drive/My Drive/Capstone Data/Car Images/Train Images/GMC Acadia SUV 2012/00301.jpg\n",
            "/content/drive/My Drive/Capstone Data/Car Images/Train Images/Dodge Sprinter Cargo Van 2009/00401.jpg\n"
          ]
        }
      ]
    },
    {
      "cell_type": "code",
      "metadata": {
        "colab": {
          "base_uri": "https://localhost:8080/",
          "height": 206
        },
        "id": "70OnCvsypWyQ",
        "outputId": "6eab7c18-190a-4fc7-f13b-a8b9a641431e"
      },
      "source": [
        "df_tidy.head()"
      ],
      "execution_count": 17,
      "outputs": [
        {
          "output_type": "execute_result",
          "data": {
            "text/html": [
              "<div>\n",
              "<style scoped>\n",
              "    .dataframe tbody tr th:only-of-type {\n",
              "        vertical-align: middle;\n",
              "    }\n",
              "\n",
              "    .dataframe tbody tr th {\n",
              "        vertical-align: top;\n",
              "    }\n",
              "\n",
              "    .dataframe thead th {\n",
              "        text-align: right;\n",
              "    }\n",
              "</style>\n",
              "<table border=\"1\" class=\"dataframe\">\n",
              "  <thead>\n",
              "    <tr style=\"text-align: right;\">\n",
              "      <th></th>\n",
              "      <th>Image Name</th>\n",
              "      <th>StartX</th>\n",
              "      <th>StartY</th>\n",
              "      <th>EndX</th>\n",
              "      <th>EndY</th>\n",
              "      <th>Image class</th>\n",
              "      <th>Classname</th>\n",
              "      <th>X1</th>\n",
              "      <th>Y1</th>\n",
              "      <th>X2</th>\n",
              "      <th>Y2</th>\n",
              "      <th>Filepath</th>\n",
              "    </tr>\n",
              "  </thead>\n",
              "  <tbody>\n",
              "    <tr>\n",
              "      <th>0</th>\n",
              "      <td>00001.jpg</td>\n",
              "      <td>39</td>\n",
              "      <td>116</td>\n",
              "      <td>569</td>\n",
              "      <td>375</td>\n",
              "      <td>14</td>\n",
              "      <td>Audi TTS Coupe 2012</td>\n",
              "      <td>0.065000</td>\n",
              "      <td>0.290000</td>\n",
              "      <td>0.948333</td>\n",
              "      <td>0.937500</td>\n",
              "      <td>/content/drive/My Drive/Capstone Data/Car Imag...</td>\n",
              "    </tr>\n",
              "    <tr>\n",
              "      <th>1</th>\n",
              "      <td>00002.jpg</td>\n",
              "      <td>36</td>\n",
              "      <td>116</td>\n",
              "      <td>868</td>\n",
              "      <td>587</td>\n",
              "      <td>3</td>\n",
              "      <td>Acura TL Sedan 2012</td>\n",
              "      <td>0.040000</td>\n",
              "      <td>0.171852</td>\n",
              "      <td>0.964444</td>\n",
              "      <td>0.869630</td>\n",
              "      <td>/content/drive/My Drive/Capstone Data/Car Imag...</td>\n",
              "    </tr>\n",
              "    <tr>\n",
              "      <th>2</th>\n",
              "      <td>00003.jpg</td>\n",
              "      <td>85</td>\n",
              "      <td>109</td>\n",
              "      <td>601</td>\n",
              "      <td>381</td>\n",
              "      <td>91</td>\n",
              "      <td>Dodge Dakota Club Cab 2007</td>\n",
              "      <td>0.132812</td>\n",
              "      <td>0.227083</td>\n",
              "      <td>0.939063</td>\n",
              "      <td>0.793750</td>\n",
              "      <td>/content/drive/My Drive/Capstone Data/Car Imag...</td>\n",
              "    </tr>\n",
              "    <tr>\n",
              "      <th>3</th>\n",
              "      <td>00004.jpg</td>\n",
              "      <td>621</td>\n",
              "      <td>393</td>\n",
              "      <td>1484</td>\n",
              "      <td>1096</td>\n",
              "      <td>134</td>\n",
              "      <td>Hyundai Sonata Hybrid Sedan 2012</td>\n",
              "      <td>0.295714</td>\n",
              "      <td>0.283550</td>\n",
              "      <td>0.706667</td>\n",
              "      <td>0.790765</td>\n",
              "      <td>/content/drive/My Drive/Capstone Data/Car Imag...</td>\n",
              "    </tr>\n",
              "    <tr>\n",
              "      <th>4</th>\n",
              "      <td>00005.jpg</td>\n",
              "      <td>14</td>\n",
              "      <td>36</td>\n",
              "      <td>133</td>\n",
              "      <td>99</td>\n",
              "      <td>106</td>\n",
              "      <td>Ford F-450 Super Duty Crew Cab 2012</td>\n",
              "      <td>0.097222</td>\n",
              "      <td>0.333333</td>\n",
              "      <td>0.923611</td>\n",
              "      <td>0.916667</td>\n",
              "      <td>/content/drive/My Drive/Capstone Data/Car Imag...</td>\n",
              "    </tr>\n",
              "  </tbody>\n",
              "</table>\n",
              "</div>"
            ],
            "text/plain": [
              "  Image Name  ...                                           Filepath\n",
              "0  00001.jpg  ...  /content/drive/My Drive/Capstone Data/Car Imag...\n",
              "1  00002.jpg  ...  /content/drive/My Drive/Capstone Data/Car Imag...\n",
              "2  00003.jpg  ...  /content/drive/My Drive/Capstone Data/Car Imag...\n",
              "3  00004.jpg  ...  /content/drive/My Drive/Capstone Data/Car Imag...\n",
              "4  00005.jpg  ...  /content/drive/My Drive/Capstone Data/Car Imag...\n",
              "\n",
              "[5 rows x 12 columns]"
            ]
          },
          "metadata": {},
          "execution_count": 17
        }
      ]
    },
    {
      "cell_type": "code",
      "metadata": {
        "colab": {
          "base_uri": "https://localhost:8080/"
        },
        "id": "WRDx-WXTXyFx",
        "outputId": "319843c8-3fdb-4566-989e-d85f8ff1f053"
      },
      "source": [
        "_Classname = []\n",
        "_X1 = []\n",
        "_Y1 = []\n",
        "_X2 = []\n",
        "_Y2 = []\n",
        "TestFiles = []\n",
        "\n",
        "for dfrow in tqdm(df_tidytest.iterrows()):\n",
        "      \n",
        "      lbl = int(dfrow[1]['Image class'])-1\n",
        "      keyName = list(car_map_dict.keys())[lbl]\n",
        "      fname = dfrow[1]['Image Name']\n",
        "      imagePathtest = os.path.sep.join([TEST_IMAGES_PATH, keyName, fname])\n",
        "      #print(imagePathtrain)\n",
        "\n",
        "      startX = dfrow[1]['StartX']\n",
        "      startY = dfrow[1]['StartY']\n",
        "      endX = dfrow[1]['EndX']\n",
        "      endY = dfrow[1]['EndY']\n",
        "      image = cv2.imread(imagePathtest)\n",
        "      (h, w) = image.shape[:2]\n",
        "      #print(h,w)\n",
        "\n",
        "      # scale the bounding box coordinates relative to the spatial\n",
        "\t\t  # dimensions of the input image\n",
        "      startX = float(startX) / w\n",
        "      startY = float(startY) / h\n",
        "      endX = float(endX) / w\n",
        "      endY = float(endY) / h\n",
        "      #print(fname, lbl, keyName, startX, startY, endX, endY)\n",
        "      #print(dfrow[1])\n",
        "\n",
        "      _Classname.append(keyName)\n",
        "      _X1.append(startX)\n",
        "      _Y1.append(startY)\n",
        "      _X2.append(endX)\n",
        "      _Y2.append(endY)\n",
        "      testbboxes.append((startX, startY, endX, endY))\n",
        "      TestFiles.append(imagePathtest)\n",
        "\n",
        "      \n",
        "df_tidytest['Classname'] = _Classname\n",
        "df_tidytest['X1'] = _X1\n",
        "df_tidytest['Y1'] = _Y1\n",
        "df_tidytest['X2'] = _X2\n",
        "df_tidytest['Y2'] = _Y2\n",
        "\n",
        "df_tidytest['Filepath'] = TestFiles"
      ],
      "execution_count": 18,
      "outputs": [
        {
          "output_type": "stream",
          "name": "stderr",
          "text": [
            "8041it [32:53,  4.08it/s]\n"
          ]
        }
      ]
    },
    {
      "cell_type": "code",
      "metadata": {
        "colab": {
          "base_uri": "https://localhost:8080/"
        },
        "id": "yIHc5Siq8O8e",
        "outputId": "d771d202-41d3-40ef-cdd2-2ab55e81da73"
      },
      "source": [
        "print(df_tidytest['Filepath'][150])\n",
        "print(df_tidytest['Filepath'][250])\n",
        "print(df_tidytest['Filepath'][350])\n",
        "print(df_tidytest['Filepath'][450])"
      ],
      "execution_count": 19,
      "outputs": [
        {
          "output_type": "stream",
          "name": "stdout",
          "text": [
            "/content/drive/My Drive/Capstone Data/Car Images/Test Images/Chrysler PT Cruiser Convertible 2008/00151.jpg\n",
            "/content/drive/My Drive/Capstone Data/Car Images/Test Images/Acura ZDX Hatchback 2012/00251.jpg\n",
            "/content/drive/My Drive/Capstone Data/Car Images/Test Images/Chevrolet TrailBlazer SS 2009/00351.jpg\n",
            "/content/drive/My Drive/Capstone Data/Car Images/Test Images/Bentley Continental GT Coupe 2007/00451.jpg\n"
          ]
        }
      ]
    },
    {
      "cell_type": "code",
      "metadata": {
        "colab": {
          "base_uri": "https://localhost:8080/",
          "height": 206
        },
        "id": "8WarLIE1wris",
        "outputId": "7599442b-d4d9-490f-b8b2-d8c86654849a"
      },
      "source": [
        "df_tidytest.head()"
      ],
      "execution_count": 20,
      "outputs": [
        {
          "output_type": "execute_result",
          "data": {
            "text/html": [
              "<div>\n",
              "<style scoped>\n",
              "    .dataframe tbody tr th:only-of-type {\n",
              "        vertical-align: middle;\n",
              "    }\n",
              "\n",
              "    .dataframe tbody tr th {\n",
              "        vertical-align: top;\n",
              "    }\n",
              "\n",
              "    .dataframe thead th {\n",
              "        text-align: right;\n",
              "    }\n",
              "</style>\n",
              "<table border=\"1\" class=\"dataframe\">\n",
              "  <thead>\n",
              "    <tr style=\"text-align: right;\">\n",
              "      <th></th>\n",
              "      <th>Image Name</th>\n",
              "      <th>StartX</th>\n",
              "      <th>StartY</th>\n",
              "      <th>EndX</th>\n",
              "      <th>EndY</th>\n",
              "      <th>Image class</th>\n",
              "      <th>Classname</th>\n",
              "      <th>X1</th>\n",
              "      <th>Y1</th>\n",
              "      <th>X2</th>\n",
              "      <th>Y2</th>\n",
              "      <th>Filepath</th>\n",
              "    </tr>\n",
              "  </thead>\n",
              "  <tbody>\n",
              "    <tr>\n",
              "      <th>0</th>\n",
              "      <td>00001.jpg</td>\n",
              "      <td>30</td>\n",
              "      <td>52</td>\n",
              "      <td>246</td>\n",
              "      <td>147</td>\n",
              "      <td>181</td>\n",
              "      <td>Suzuki Aerio Sedan 2007</td>\n",
              "      <td>0.108696</td>\n",
              "      <td>0.285714</td>\n",
              "      <td>0.891304</td>\n",
              "      <td>0.807692</td>\n",
              "      <td>/content/drive/My Drive/Capstone Data/Car Imag...</td>\n",
              "    </tr>\n",
              "    <tr>\n",
              "      <th>1</th>\n",
              "      <td>00002.jpg</td>\n",
              "      <td>100</td>\n",
              "      <td>19</td>\n",
              "      <td>576</td>\n",
              "      <td>203</td>\n",
              "      <td>103</td>\n",
              "      <td>Ferrari 458 Italia Convertible 2012</td>\n",
              "      <td>0.156250</td>\n",
              "      <td>0.052778</td>\n",
              "      <td>0.900000</td>\n",
              "      <td>0.563889</td>\n",
              "      <td>/content/drive/My Drive/Capstone Data/Car Imag...</td>\n",
              "    </tr>\n",
              "    <tr>\n",
              "      <th>2</th>\n",
              "      <td>00003.jpg</td>\n",
              "      <td>51</td>\n",
              "      <td>105</td>\n",
              "      <td>968</td>\n",
              "      <td>659</td>\n",
              "      <td>145</td>\n",
              "      <td>Jeep Patriot SUV 2012</td>\n",
              "      <td>0.049805</td>\n",
              "      <td>0.141700</td>\n",
              "      <td>0.945312</td>\n",
              "      <td>0.889339</td>\n",
              "      <td>/content/drive/My Drive/Capstone Data/Car Imag...</td>\n",
              "    </tr>\n",
              "    <tr>\n",
              "      <th>3</th>\n",
              "      <td>00004.jpg</td>\n",
              "      <td>67</td>\n",
              "      <td>84</td>\n",
              "      <td>581</td>\n",
              "      <td>407</td>\n",
              "      <td>187</td>\n",
              "      <td>Toyota Camry Sedan 2012</td>\n",
              "      <td>0.104688</td>\n",
              "      <td>0.175000</td>\n",
              "      <td>0.907813</td>\n",
              "      <td>0.847917</td>\n",
              "      <td>/content/drive/My Drive/Capstone Data/Car Imag...</td>\n",
              "    </tr>\n",
              "    <tr>\n",
              "      <th>4</th>\n",
              "      <td>00005.jpg</td>\n",
              "      <td>140</td>\n",
              "      <td>151</td>\n",
              "      <td>593</td>\n",
              "      <td>339</td>\n",
              "      <td>185</td>\n",
              "      <td>Tesla Model S Sedan 2012</td>\n",
              "      <td>0.233333</td>\n",
              "      <td>0.404826</td>\n",
              "      <td>0.988333</td>\n",
              "      <td>0.908847</td>\n",
              "      <td>/content/drive/My Drive/Capstone Data/Car Imag...</td>\n",
              "    </tr>\n",
              "  </tbody>\n",
              "</table>\n",
              "</div>"
            ],
            "text/plain": [
              "  Image Name  ...                                           Filepath\n",
              "0  00001.jpg  ...  /content/drive/My Drive/Capstone Data/Car Imag...\n",
              "1  00002.jpg  ...  /content/drive/My Drive/Capstone Data/Car Imag...\n",
              "2  00003.jpg  ...  /content/drive/My Drive/Capstone Data/Car Imag...\n",
              "3  00004.jpg  ...  /content/drive/My Drive/Capstone Data/Car Imag...\n",
              "4  00005.jpg  ...  /content/drive/My Drive/Capstone Data/Car Imag...\n",
              "\n",
              "[5 rows x 12 columns]"
            ]
          },
          "metadata": {},
          "execution_count": 20
        }
      ]
    },
    {
      "cell_type": "code",
      "metadata": {
        "id": "wZIVH-zG20Fh",
        "colab": {
          "base_uri": "https://localhost:8080/"
        },
        "outputId": "9b0dd938-9a86-478e-9824-7cd164d82556"
      },
      "source": [
        "# write the testing filenames to disk so that we can use then\n",
        "# when evaluating/testing our bounding box regressor\n",
        "print(\"[INFO] saving testing filenames...\")\n",
        "f = open(TEST_FILENAMES, \"w+\")\n",
        "f.write(\"\\n\".join(TestFiles))\n",
        "f.close()"
      ],
      "execution_count": 21,
      "outputs": [
        {
          "output_type": "stream",
          "name": "stdout",
          "text": [
            "[INFO] saving testing filenames...\n"
          ]
        }
      ]
    },
    {
      "cell_type": "code",
      "metadata": {
        "colab": {
          "base_uri": "https://localhost:8080/"
        },
        "id": "ZNIXIq029Zfz",
        "outputId": "819feb8a-d724-431a-efd1-b6c8578db6bf"
      },
      "source": [
        "for imagePath in tqdm(TrainFiles):\n",
        "\n",
        "    # load the image and preprocess it\n",
        "\t\timage = load_img(imagePath, target_size=(224, 224))\n",
        "\t\timage = img_to_array(image)\n",
        "\t\t# update our list of data, class labels, bounding boxes, and\n",
        "\t\t# image paths\n",
        "\t\tdata.append(image)"
      ],
      "execution_count": 22,
      "outputs": [
        {
          "output_type": "stream",
          "name": "stderr",
          "text": [
            "100%|██████████| 8144/8144 [01:15<00:00, 108.20it/s]\n"
          ]
        }
      ]
    },
    {
      "cell_type": "code",
      "metadata": {
        "colab": {
          "base_uri": "https://localhost:8080/"
        },
        "id": "apXAR-VL_OeD",
        "outputId": "e47357c4-3246-4503-a8cc-8007170240a2"
      },
      "source": [
        "testdata = []\n",
        "for imagePath in tqdm(TestFiles):\n",
        "\n",
        "    # load the image and preprocess it\n",
        "\t\timage = load_img(imagePath, target_size=(224, 224))\n",
        "\t\timage = img_to_array(image)\n",
        "\t\t# update our list of data, class labels, bounding boxes, and\n",
        "\t\t# image paths\n",
        "\t\ttestdata.append(image)"
      ],
      "execution_count": 39,
      "outputs": [
        {
          "output_type": "stream",
          "name": "stderr",
          "text": [
            "100%|██████████| 8041/8041 [03:07<00:00, 42.94it/s]\n"
          ]
        }
      ]
    },
    {
      "cell_type": "code",
      "metadata": {
        "id": "CDkmelDyEOmH"
      },
      "source": [
        "# perform one-hot encoding on the labels\n",
        "lb = LabelBinarizer()\n",
        "trainlabels = lb.fit_transform(Classname)\n",
        "testlabels = lb.fit_transform(_Classname)"
      ],
      "execution_count": 40,
      "outputs": []
    },
    {
      "cell_type": "code",
      "metadata": {
        "id": "1nEoWErLE52n"
      },
      "source": [
        "# convert the data, class labels, bounding boxes, and image paths to\n",
        "# NumPy arrays, scaling the input pixel intensities from the range\n",
        "# [0, 255] to [0, 1]\n",
        "trainImages = np.array(data, dtype=\"float32\") / 255.0\n",
        "trainLabels = np.array(trainlabels)\n",
        "trainBBoxes = np.array(bboxes, dtype=\"float32\")\n",
        "trainPaths = np.array(TrainFiles)"
      ],
      "execution_count": 32,
      "outputs": []
    },
    {
      "cell_type": "code",
      "metadata": {
        "id": "p3uh99NHE7xq"
      },
      "source": [
        "# convert the data, class labels, bounding boxes, and image paths to\n",
        "# NumPy arrays, scaling the input pixel intensities from the range\n",
        "# [0, 255] to [0, 1]\n",
        "testImages = np.array(testdata, dtype=\"float32\") / 255.0\n",
        "testLabels = np.array(testlabels)\n",
        "testBBoxes = np.array(testbboxes, dtype=\"float32\")\n",
        "testPaths = np.array(TestFiles)"
      ],
      "execution_count": 41,
      "outputs": []
    },
    {
      "cell_type": "code",
      "metadata": {
        "id": "ZQGDqBtS2iji",
        "colab": {
          "base_uri": "https://localhost:8080/"
        },
        "outputId": "2b79d6c0-2b46-46ac-bd09-5a280e71bdb5"
      },
      "source": [
        "INIT_LR = 1e-4\n",
        "\n",
        "\n",
        "# load the VGG16 network, ensuring the head FC layers are left off\n",
        "vgg = VGG16(weights=\"imagenet\", include_top=False,\n",
        "\tinput_tensor=Input(shape=(224, 224, 3)))\n",
        "# freeze all VGG layers so they will *not* be updated during the\n",
        "# training process\n",
        "vgg.trainable = False\n",
        "# flatten the max-pooling output of VGG\n",
        "flatten = vgg.output\n",
        "flatten = Flatten()(flatten)\n",
        "\n",
        "# construct a fully-connected layer header to output the predicted\n",
        "# bounding box coordinates\n",
        "bboxHead = Dense(128, activation=\"relu\")(flatten)\n",
        "bboxHead = Dense(64, activation=\"relu\")(bboxHead)\n",
        "bboxHead = Dense(32, activation=\"relu\")(bboxHead)\n",
        "bboxHead = Dense(4, activation=\"sigmoid\",\tname=\"bounding_box\")(bboxHead)\n",
        "# construct a second fully-connected layer head, this one to predict\n",
        "# the class label\n",
        "softmaxHead = Dense(512, activation=\"relu\")(flatten)\n",
        "softmaxHead = Dropout(0.5)(softmaxHead)\n",
        "softmaxHead = Dense(512, activation=\"relu\")(softmaxHead)\n",
        "softmaxHead = Dropout(0.5)(softmaxHead)\n",
        "softmaxHead = Dense(len(lb.classes_), activation=\"softmax\",\tname=\"class_label\")(softmaxHead)\n",
        "# put together our model which accept an input image and then output\n",
        "# bounding box coordinates and a class label\n",
        "model = Model(\n",
        "\tinputs=vgg.input,\n",
        "\toutputs=(bboxHead, softmaxHead))\n",
        "\n",
        "# define a dictionary to set the loss methods -- categorical\n",
        "# cross-entropy for the class label head and mean absolute error\n",
        "# for the bounding box head\n",
        "losses = {\n",
        "\t\"class_label\": \"categorical_crossentropy\",\n",
        "\t\"bounding_box\": \"mean_squared_error\",\n",
        "}\n",
        "# define a dictionary that specifies the weights per loss (both the\n",
        "# class label and bounding box outputs will receive equal weight)\n",
        "lossWeights = {\n",
        "\t\"class_label\": 1.0,\n",
        "\t\"bounding_box\": 1.0\n",
        "}\n",
        "# initialize the optimizer, compile the model, and show the model\n",
        "# summary\n",
        "opt = Adam(lr=INIT_LR)\n",
        "model.compile(loss=losses, optimizer=opt, metrics=[\"accuracy\"], loss_weights=lossWeights)\n",
        "#model.compile(loss=\"mse\", optimizer=opt, metrics=[\"accuracy\"])\n",
        "\n",
        "print(model.summary())"
      ],
      "execution_count": 42,
      "outputs": [
        {
          "output_type": "stream",
          "name": "stdout",
          "text": [
            "Model: \"model_2\"\n",
            "__________________________________________________________________________________________________\n",
            " Layer (type)                   Output Shape         Param #     Connected to                     \n",
            "==================================================================================================\n",
            " input_3 (InputLayer)           [(None, 224, 224, 3  0           []                               \n",
            "                                )]                                                                \n",
            "                                                                                                  \n",
            " block1_conv1 (Conv2D)          (None, 224, 224, 64  1792        ['input_3[0][0]']                \n",
            "                                )                                                                 \n",
            "                                                                                                  \n",
            " block1_conv2 (Conv2D)          (None, 224, 224, 64  36928       ['block1_conv1[0][0]']           \n",
            "                                )                                                                 \n",
            "                                                                                                  \n",
            " block1_pool (MaxPooling2D)     (None, 112, 112, 64  0           ['block1_conv2[0][0]']           \n",
            "                                )                                                                 \n",
            "                                                                                                  \n",
            " block2_conv1 (Conv2D)          (None, 112, 112, 12  73856       ['block1_pool[0][0]']            \n",
            "                                8)                                                                \n",
            "                                                                                                  \n",
            " block2_conv2 (Conv2D)          (None, 112, 112, 12  147584      ['block2_conv1[0][0]']           \n",
            "                                8)                                                                \n",
            "                                                                                                  \n",
            " block2_pool (MaxPooling2D)     (None, 56, 56, 128)  0           ['block2_conv2[0][0]']           \n",
            "                                                                                                  \n",
            " block3_conv1 (Conv2D)          (None, 56, 56, 256)  295168      ['block2_pool[0][0]']            \n",
            "                                                                                                  \n",
            " block3_conv2 (Conv2D)          (None, 56, 56, 256)  590080      ['block3_conv1[0][0]']           \n",
            "                                                                                                  \n",
            " block3_conv3 (Conv2D)          (None, 56, 56, 256)  590080      ['block3_conv2[0][0]']           \n",
            "                                                                                                  \n",
            " block3_pool (MaxPooling2D)     (None, 28, 28, 256)  0           ['block3_conv3[0][0]']           \n",
            "                                                                                                  \n",
            " block4_conv1 (Conv2D)          (None, 28, 28, 512)  1180160     ['block3_pool[0][0]']            \n",
            "                                                                                                  \n",
            " block4_conv2 (Conv2D)          (None, 28, 28, 512)  2359808     ['block4_conv1[0][0]']           \n",
            "                                                                                                  \n",
            " block4_conv3 (Conv2D)          (None, 28, 28, 512)  2359808     ['block4_conv2[0][0]']           \n",
            "                                                                                                  \n",
            " block4_pool (MaxPooling2D)     (None, 14, 14, 512)  0           ['block4_conv3[0][0]']           \n",
            "                                                                                                  \n",
            " block5_conv1 (Conv2D)          (None, 14, 14, 512)  2359808     ['block4_pool[0][0]']            \n",
            "                                                                                                  \n",
            " block5_conv2 (Conv2D)          (None, 14, 14, 512)  2359808     ['block5_conv1[0][0]']           \n",
            "                                                                                                  \n",
            " block5_conv3 (Conv2D)          (None, 14, 14, 512)  2359808     ['block5_conv2[0][0]']           \n",
            "                                                                                                  \n",
            " block5_pool (MaxPooling2D)     (None, 7, 7, 512)    0           ['block5_conv3[0][0]']           \n",
            "                                                                                                  \n",
            " flatten_2 (Flatten)            (None, 25088)        0           ['block5_pool[0][0]']            \n",
            "                                                                                                  \n",
            " dense_13 (Dense)               (None, 512)          12845568    ['flatten_2[0][0]']              \n",
            "                                                                                                  \n",
            " dense_10 (Dense)               (None, 128)          3211392     ['flatten_2[0][0]']              \n",
            "                                                                                                  \n",
            " dropout_4 (Dropout)            (None, 512)          0           ['dense_13[0][0]']               \n",
            "                                                                                                  \n",
            " dense_11 (Dense)               (None, 64)           8256        ['dense_10[0][0]']               \n",
            "                                                                                                  \n",
            " dense_14 (Dense)               (None, 512)          262656      ['dropout_4[0][0]']              \n",
            "                                                                                                  \n",
            " dense_12 (Dense)               (None, 32)           2080        ['dense_11[0][0]']               \n",
            "                                                                                                  \n",
            " dropout_5 (Dropout)            (None, 512)          0           ['dense_14[0][0]']               \n",
            "                                                                                                  \n",
            " bounding_box (Dense)           (None, 4)            132         ['dense_12[0][0]']               \n",
            "                                                                                                  \n",
            " class_label (Dense)            (None, 196)          100548      ['dropout_5[0][0]']              \n",
            "                                                                                                  \n",
            "==================================================================================================\n",
            "Total params: 31,145,320\n",
            "Trainable params: 16,430,632\n",
            "Non-trainable params: 14,714,688\n",
            "__________________________________________________________________________________________________\n",
            "None\n"
          ]
        },
        {
          "output_type": "stream",
          "name": "stderr",
          "text": [
            "/usr/local/lib/python3.7/dist-packages/keras/optimizer_v2/adam.py:105: UserWarning: The `lr` argument is deprecated, use `learning_rate` instead.\n",
            "  super(Adam, self).__init__(name, **kwargs)\n"
          ]
        }
      ]
    },
    {
      "cell_type": "code",
      "metadata": {
        "id": "_DJL-Mf9GgmP"
      },
      "source": [
        "# construct a dictionary for our target training outputs\n",
        "trainTargets = {\n",
        "\t\"class_label\": trainLabels,\n",
        "\t\"bounding_box\": trainBBoxes\n",
        "}\n",
        "# construct a second dictionary, this one for our target testing\n",
        "# outputs\n",
        "testTargets = {\n",
        "\t\"class_label\": testLabels,\n",
        "\t\"bounding_box\": testBBoxes\n",
        "}"
      ],
      "execution_count": 43,
      "outputs": []
    },
    {
      "cell_type": "code",
      "metadata": {
        "id": "2PkrOZel3F7e",
        "colab": {
          "base_uri": "https://localhost:8080/"
        },
        "outputId": "178bd6af-f070-4a17-84a2-7d9961f00a6b"
      },
      "source": [
        "NUM_EPOCHS = 20\n",
        "BATCH_SIZE = 32\n",
        "\n",
        "# train the network for bounding box regression\n",
        "print(\"[INFO] training bounding box regressor...\")\n",
        "\n",
        "H = model.fit(\n",
        "\ttrainImages, trainTargets,\n",
        "\tvalidation_data=(testImages, testTargets),\n",
        "\tbatch_size=BATCH_SIZE,\n",
        "\tepochs=NUM_EPOCHS,\n",
        "\tverbose=1)"
      ],
      "execution_count": null,
      "outputs": [
        {
          "output_type": "stream",
          "name": "stdout",
          "text": [
            "[INFO] training bounding box regressor...\n",
            "Epoch 1/20\n",
            "255/255 [==============================] - 505s 2s/step - loss: 5.3264 - bounding_box_loss: 0.0041 - class_label_loss: 5.3223 - bounding_box_accuracy: 0.7889 - class_label_accuracy: 0.0050 - val_loss: 5.2779 - val_bounding_box_loss: 0.0017 - val_class_label_loss: 5.2762 - val_bounding_box_accuracy: 0.8424 - val_class_label_accuracy: 0.0046\n",
            "Epoch 2/20\n",
            "255/255 [==============================] - 500s 2s/step - loss: 5.2785 - bounding_box_loss: 0.0012 - class_label_loss: 5.2773 - bounding_box_accuracy: 0.8689 - class_label_accuracy: 0.0059 - val_loss: 5.2730 - val_bounding_box_loss: 0.0014 - val_class_label_loss: 5.2716 - val_bounding_box_accuracy: 0.8620 - val_class_label_accuracy: 0.0078\n",
            "Epoch 3/20\n",
            "255/255 [==============================] - 503s 2s/step - loss: 5.2740 - bounding_box_loss: 8.6182e-04 - class_label_loss: 5.2731 - bounding_box_accuracy: 0.8824 - class_label_accuracy: 0.0068 - val_loss: 5.2652 - val_bounding_box_loss: 0.0013 - val_class_label_loss: 5.2639 - val_bounding_box_accuracy: 0.8745 - val_class_label_accuracy: 0.0062\n",
            "Epoch 4/20\n",
            "255/255 [==============================] - 495s 2s/step - loss: 5.2569 - bounding_box_loss: 6.7298e-04 - class_label_loss: 5.2562 - bounding_box_accuracy: 0.8919 - class_label_accuracy: 0.0086 - val_loss: 5.2346 - val_bounding_box_loss: 0.0012 - val_class_label_loss: 5.2334 - val_bounding_box_accuracy: 0.8649 - val_class_label_accuracy: 0.0131\n",
            "Epoch 5/20\n",
            "255/255 [==============================] - 495s 2s/step - loss: 5.2223 - bounding_box_loss: 5.2869e-04 - class_label_loss: 5.2217 - bounding_box_accuracy: 0.9031 - class_label_accuracy: 0.0091 - val_loss: 5.1819 - val_bounding_box_loss: 0.0011 - val_class_label_loss: 5.1807 - val_bounding_box_accuracy: 0.8778 - val_class_label_accuracy: 0.0117\n",
            "Epoch 6/20\n",
            "255/255 [==============================] - 493s 2s/step - loss: 5.1599 - bounding_box_loss: 4.3811e-04 - class_label_loss: 5.1595 - bounding_box_accuracy: 0.9077 - class_label_accuracy: 0.0128 - val_loss: 5.1068 - val_bounding_box_loss: 0.0011 - val_class_label_loss: 5.1056 - val_bounding_box_accuracy: 0.8761 - val_class_label_accuracy: 0.0224\n",
            "Epoch 7/20\n",
            "255/255 [==============================] - 494s 2s/step - loss: 5.0940 - bounding_box_loss: 3.7137e-04 - class_label_loss: 5.0937 - bounding_box_accuracy: 0.9134 - class_label_accuracy: 0.0138 - val_loss: 4.9808 - val_bounding_box_loss: 0.0011 - val_class_label_loss: 4.9797 - val_bounding_box_accuracy: 0.8790 - val_class_label_accuracy: 0.0246\n",
            "Epoch 8/20\n",
            "255/255 [==============================] - 496s 2s/step - loss: 5.0364 - bounding_box_loss: 3.3199e-04 - class_label_loss: 5.0361 - bounding_box_accuracy: 0.9174 - class_label_accuracy: 0.0144 - val_loss: 4.9239 - val_bounding_box_loss: 0.0011 - val_class_label_loss: 4.9228 - val_bounding_box_accuracy: 0.8759 - val_class_label_accuracy: 0.0282\n",
            "Epoch 9/20\n",
            "255/255 [==============================] - 518s 2s/step - loss: 4.9852 - bounding_box_loss: 3.0896e-04 - class_label_loss: 4.9849 - bounding_box_accuracy: 0.9226 - class_label_accuracy: 0.0168 - val_loss: 4.8324 - val_bounding_box_loss: 0.0012 - val_class_label_loss: 4.8312 - val_bounding_box_accuracy: 0.8851 - val_class_label_accuracy: 0.0310\n",
            "Epoch 10/20\n",
            "255/255 [==============================] - 505s 2s/step - loss: 4.9425 - bounding_box_loss: 2.9042e-04 - class_label_loss: 4.9422 - bounding_box_accuracy: 0.9244 - class_label_accuracy: 0.0135 - val_loss: 4.8072 - val_bounding_box_loss: 0.0012 - val_class_label_loss: 4.8061 - val_bounding_box_accuracy: 0.8840 - val_class_label_accuracy: 0.0326\n",
            "Epoch 11/20\n",
            "255/255 [==============================] - 507s 2s/step - loss: 4.9000 - bounding_box_loss: 2.5916e-04 - class_label_loss: 4.8998 - bounding_box_accuracy: 0.9304 - class_label_accuracy: 0.0196 - val_loss: 4.7558 - val_bounding_box_loss: 0.0011 - val_class_label_loss: 4.7547 - val_bounding_box_accuracy: 0.8887 - val_class_label_accuracy: 0.0415\n",
            "Epoch 12/20\n",
            "255/255 [==============================] - 504s 2s/step - loss: 4.8502 - bounding_box_loss: 2.4072e-04 - class_label_loss: 4.8499 - bounding_box_accuracy: 0.9332 - class_label_accuracy: 0.0187 - val_loss: 4.6877 - val_bounding_box_loss: 0.0011 - val_class_label_loss: 4.6866 - val_bounding_box_accuracy: 0.8835 - val_class_label_accuracy: 0.0422\n",
            "Epoch 13/20\n",
            "255/255 [==============================] - 504s 2s/step - loss: 4.8175 - bounding_box_loss: 2.2052e-04 - class_label_loss: 4.8173 - bounding_box_accuracy: 0.9331 - class_label_accuracy: 0.0219 - val_loss: 4.6887 - val_bounding_box_loss: 0.0012 - val_class_label_loss: 4.6876 - val_bounding_box_accuracy: 0.8887 - val_class_label_accuracy: 0.0427\n",
            "Epoch 14/20\n",
            "255/255 [==============================] - 505s 2s/step - loss: 4.7771 - bounding_box_loss: 2.2627e-04 - class_label_loss: 4.7769 - bounding_box_accuracy: 0.9353 - class_label_accuracy: 0.0237 - val_loss: 4.6074 - val_bounding_box_loss: 0.0011 - val_class_label_loss: 4.6063 - val_bounding_box_accuracy: 0.8842 - val_class_label_accuracy: 0.0453\n",
            "Epoch 15/20\n",
            "255/255 [==============================] - 494s 2s/step - loss: 4.7514 - bounding_box_loss: 2.0669e-04 - class_label_loss: 4.7512 - bounding_box_accuracy: 0.9382 - class_label_accuracy: 0.0246 - val_loss: 4.5801 - val_bounding_box_loss: 0.0012 - val_class_label_loss: 4.5790 - val_bounding_box_accuracy: 0.8776 - val_class_label_accuracy: 0.0565\n",
            "Epoch 16/20\n",
            "255/255 [==============================] - 499s 2s/step - loss: 4.7107 - bounding_box_loss: 2.0059e-04 - class_label_loss: 4.7105 - bounding_box_accuracy: 0.9382 - class_label_accuracy: 0.0303 - val_loss: 4.5150 - val_bounding_box_loss: 0.0011 - val_class_label_loss: 4.5139 - val_bounding_box_accuracy: 0.8922 - val_class_label_accuracy: 0.0582\n",
            "Epoch 17/20\n",
            "255/255 [==============================] - 510s 2s/step - loss: 4.6512 - bounding_box_loss: 1.8004e-04 - class_label_loss: 4.6511 - bounding_box_accuracy: 0.9404 - class_label_accuracy: 0.0301 - val_loss: 4.4868 - val_bounding_box_loss: 0.0011 - val_class_label_loss: 4.4857 - val_bounding_box_accuracy: 0.8835 - val_class_label_accuracy: 0.0670\n",
            "Epoch 18/20\n",
            "255/255 [==============================] - 512s 2s/step - loss: 4.5929 - bounding_box_loss: 1.7287e-04 - class_label_loss: 4.5927 - bounding_box_accuracy: 0.9407 - class_label_accuracy: 0.0335 - val_loss: 4.4258 - val_bounding_box_loss: 0.0012 - val_class_label_loss: 4.4247 - val_bounding_box_accuracy: 0.8853 - val_class_label_accuracy: 0.0740\n",
            "Epoch 19/20\n",
            "255/255 [==============================] - 512s 2s/step - loss: 4.5389 - bounding_box_loss: 1.7123e-04 - class_label_loss: 4.5387 - bounding_box_accuracy: 0.9440 - class_label_accuracy: 0.0376 - val_loss: 4.3825 - val_bounding_box_loss: 0.0012 - val_class_label_loss: 4.3814 - val_bounding_box_accuracy: 0.8879 - val_class_label_accuracy: 0.0818\n",
            "Epoch 20/20\n",
            "255/255 [==============================] - ETA: 0s - loss: 4.4778 - bounding_box_loss: 1.6233e-04 - class_label_loss: 4.4777 - bounding_box_accuracy: 0.9428 - class_label_accuracy: 0.0454"
          ]
        }
      ]
    },
    {
      "cell_type": "code",
      "metadata": {
        "colab": {
          "base_uri": "https://localhost:8080/"
        },
        "id": "G-csMV2oSYx2",
        "outputId": "95ac6f0e-3533-4919-df33-7198ca02c71d"
      },
      "source": [
        "# The path to our TensorFlow-serialized output model\n",
        "MODEL_PATH = os.path.sep.join([BASE_PATH, BASE_OUTPUT, \"detector.h5\"])\n",
        "LB_PATH = os.path.sep.join([BASE_PATH, BASE_OUTPUT, \"lb.pickle\"])\n",
        "\n",
        "# serialize the model to disk\n",
        "print(\"[INFO] saving object detector model...\")\n",
        "model.save(MODEL_PATH, save_format=\"h5\")\n",
        "# serialize the label binarizer to disk\n",
        "print(\"[INFO] saving label binarizer...\")\n",
        "f = open(LB_PATH, \"wb\")\n",
        "f.write(pickle.dumps(lb))\n",
        "f.close()"
      ],
      "execution_count": 45,
      "outputs": [
        {
          "output_type": "stream",
          "name": "stdout",
          "text": [
            "[INFO] saving object detector model...\n",
            "[INFO] saving label binarizer...\n"
          ]
        }
      ]
    },
    {
      "cell_type": "code",
      "metadata": {
        "colab": {
          "base_uri": "https://localhost:8080/",
          "height": 962
        },
        "id": "5z8BpUR5VdvN",
        "outputId": "cc559a45-6a68-460d-be3c-4adf65a79052"
      },
      "source": [
        "# The output training history plot consisting of accuracy and loss curves\n",
        "PLOT_PATH = os.path.sep.join([BASE_PATH, BASE_OUTPUT, \"plots\"])\n",
        "\n",
        "# plot the total loss, label loss, and bounding box loss\n",
        "lossNames = [\"loss\", \"class_label_loss\", \"bounding_box_loss\"]\n",
        "N = np.arange(0, NUM_EPOCHS)\n",
        "plt.style.use(\"ggplot\")\n",
        "plt.figure()\n",
        "(fig, ax) = plt.subplots(3, 1, figsize=(13, 13))\n",
        "# loop over the loss names\n",
        "for (i, l) in enumerate(lossNames):\n",
        "\t# plot the loss for both the training and validation data\n",
        "\ttitle = \"Loss for {}\".format(l) if l != \"loss\" else \"Total loss\"\n",
        "\tax[i].set_title(title)\n",
        "\tax[i].set_xlabel(\"Epoch #\")\n",
        "\tax[i].set_ylabel(\"Loss\")\n",
        "\tax[i].plot(N, H.history[l], label=l)\n",
        "\tax[i].plot(N, H.history[\"val_\" + l], label=\"val_\" + l)\n",
        "\tax[i].legend()\n",
        "# save the losses figure and create a new figure for the accuracies\n",
        "plt.tight_layout()\n",
        "plotPath = os.path.sep.join([PLOT_PATH, \"losses.png\"])\n",
        "plt.savefig(plotPath)\n",
        "\n"
      ],
      "execution_count": 55,
      "outputs": [
        {
          "output_type": "display_data",
          "data": {
            "text/plain": [
              "<Figure size 432x288 with 0 Axes>"
            ]
          },
          "metadata": {}
        },
        {
          "output_type": "display_data",
          "data": {
            "image/png": "[encoded data removed]",
            "text/plain": [
              "<Figure size 936x936 with 3 Axes>"
            ]
          },
          "metadata": {}
        }
      ]
    },
    {
      "cell_type": "code",
      "metadata": {
        "id": "PfuGZ1q9BRhv",
        "outputId": "7125cc50-1d99-447c-ee5e-e609c7e77660",
        "colab": {
          "base_uri": "https://localhost:8080/",
          "height": 626
        }
      },
      "source": [
        "# create a new figure for the accuracies\n",
        "plt.style.use(\"ggplot\")\n",
        "plt.figure(figsize=(15,10))\n",
        "plt.plot(N, H.history[\"class_label_accuracy\"],\n",
        "\tlabel=\"class_label_train_acc\")\n",
        "plt.plot(N, H.history[\"val_class_label_accuracy\"],\n",
        "\tlabel=\"val_class_label_acc\")\n",
        "plt.title(\"Class Label Accuracy\")\n",
        "plt.xlabel(\"Epoch #\")\n",
        "plt.ylabel(\"Accuracy\")\n",
        "plt.legend(loc=\"lower left\")\n",
        "# save the accuracies plot\n",
        "plotPath = os.path.sep.join([PLOT_PATH, \"accs.png\"])\n",
        "plt.savefig(plotPath)"
      ],
      "execution_count": 58,
      "outputs": [
        {
          "output_type": "display_data",
          "data": {
            "image/png": "[encoded data removed]",
            "text/plain": [
              "<Figure size 1080x720 with 1 Axes>"
            ]
          },
          "metadata": {}
        }
      ]
    },
    {
      "cell_type": "code",
      "metadata": {
        "id": "Hq8oQWicV5lD"
      },
      "source": [
        ""
      ],
      "execution_count": null,
      "outputs": []
    }
  ]
}