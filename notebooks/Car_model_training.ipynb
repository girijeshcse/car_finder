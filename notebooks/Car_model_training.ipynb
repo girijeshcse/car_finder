{
  "nbformat": 4,
  "nbformat_minor": 0,
  "metadata": {
    "colab": {
      "name": "Car model training.ipynb",
      "provenance": [],
      "collapsed_sections": [],
      "authorship_tag": "ABX9TyOW/obJn/OWXGqx61xKcx0C",
      "include_colab_link": true
    },
    "kernelspec": {
      "name": "python3",
      "display_name": "Python 3"
    },
    "language_info": {
      "name": "python"
    }
  },
  "cells": [
    {
      "cell_type": "markdown",
      "metadata": {
        "id": "view-in-github",
        "colab_type": "text"
      },
      "source": [
        "<a href=\"https://colab.research.google.com/github/girijeshcse/car_finder/blob/sushweta/notebooks/Car_model_training.ipynb\" target=\"_parent\"><img src=\"https://colab.research.google.com/assets/colab-badge.svg\" alt=\"Open In Colab\"/></a>"
      ]
    },
    {
      "cell_type": "markdown",
      "metadata": {
        "id": "t0JlASgT886f"
      },
      "source": [
        "# CAPSTONE PROJECT\n",
        "\n",
        "Our training script begins with a selection of imports. These include:\n",
        "\n",
        "config: The configuration file consisting of paths and hyperparameters\n",
        "\n",
        "VGG16: The CNN architecture to serve as the base network for our fine tuning approach\n",
        "\n",
        "tf.keras: Imports from TensorFlow/Keras consisting of layer types, optimizers, and image loading/preprocessing routines\n",
        "\n",
        "train_test_split: Scikit-learn’s convenience utility for slicing our network into training and testing subsets\n",
        "\n",
        "matplotlib: Python’s de facto plotting package\n",
        "\n",
        "numpy: Python’s standard numerical processing library\n",
        "\n",
        "cv2: OpenCV"
      ]
    },
    {
      "cell_type": "code",
      "metadata": {
        "id": "ckPVrt8k877-"
      },
      "source": [
        "from pyimagesearch import config\n",
        "from tensorflow.keras.applications import VGG16\n",
        "from tensorflow.keras.layers import Flatten\n",
        "from tensorflow.keras.layers import Dense\n",
        "from tensorflow.keras.layers import Input\n",
        "from tensorflow.keras.models import Model\n",
        "from tensorflow.keras.optimizers import Adam\n",
        "from tensorflow.keras.preprocessing.image import img_to_array\n",
        "from tensorflow.keras.preprocessing.image import load_img\n",
        "from sklearn.model_selection import train_test_split\n",
        "import matplotlib.pyplot as plt\n",
        "import numpy as np\n",
        "import cv2\n",
        "import os"
      ],
      "execution_count": null,
      "outputs": []
    },
    {
      "cell_type": "code",
      "metadata": {
        "colab": {
          "base_uri": "https://localhost:8080/"
        },
        "id": "PC-ymmL2-Sed",
        "outputId": "55b7b52e-6259-4711-e3f3-c14f6975d57c"
      },
      "source": [
        "from google.colab import drive\n",
        "drive.mount('/content/drive')"
      ],
      "execution_count": null,
      "outputs": [
        {
          "output_type": "stream",
          "name": "stdout",
          "text": [
            "Mounted at /content/drive\n"
          ]
        }
      ]
    },
    {
      "cell_type": "code",
      "metadata": {
        "id": "fgmN84eN-eYd"
      },
      "source": [
        "# load the contents of the CSV annotations file\n",
        "\n",
        "# initialize the list of data (images), our target output predictions\n",
        "# (bounding box coordinates), along with the filenames of the\n",
        "# individual images\n",
        "data = []\n",
        "targets = []\n",
        "trainfilenames = []\n",
        "testfilenames = []\n",
        "labels = []\n",
        "bboxes = []\n",
        "imagePaths = []"
      ],
      "execution_count": null,
      "outputs": []
    },
    {
      "cell_type": "code",
      "metadata": {
        "id": "gzcEYA-R0OYa"
      },
      "source": [
        "# loop over all CSV files in the annotations directory\n",
        "for csvPath in paths.list_files(config.TRAIN_ANNOTS_PATH, validExts=(\".csv\")):\n",
        "\t# load the contents of the current CSV annotations file\n",
        "\trows = open(csvPath).read().strip().split(\"\\n\")\n",
        "\t# loop over the rows\n",
        "\tfor row in rows:\n",
        "\t\t# break the row into the filename, bounding box coordinates,\n",
        "\t\t# and class label\n",
        "\t\trow = row.split(\",\")\n",
        "\t\t(filename, startX, startY, endX, endY, label) = row"
      ],
      "execution_count": null,
      "outputs": []
    },
    {
      "cell_type": "code",
      "metadata": {
        "id": "aLWBd4410mxP"
      },
      "source": [
        "\t\t# derive the path to the input image, load the image (in\n",
        "\t\t# OpenCV format), and grab its dimensions\n",
        "\t\timagePathtrain = os.path.sep.join([config.TRAIN_IMAGES_PATH, label,\n",
        "\t\t\tfilename])\n",
        "\t\timage = cv2.imread(imagePathtrain)\n",
        "\t\t(h, w) = image.shape[:2]\n",
        "\t\t# scale the bounding box coordinates relative to the spatial\n",
        "\t\t# dimensions of the input image\n",
        "\t\tstartX = float(startX) / w\n",
        "\t\tstartY = float(startY) / h\n",
        "\t\tendX = float(endX) / w\n",
        "\t\tendY = float(endY) / h"
      ],
      "execution_count": null,
      "outputs": []
    },
    {
      "cell_type": "code",
      "metadata": {
        "id": "eSt4chrC0yT-"
      },
      "source": [
        "# load the image and preprocess it\n",
        "image = load_img(imagePathtrain, target_size=(224, 224))\n",
        "image = img_to_array(image)\n",
        "# update our list of data, targets, and filenames\n",
        "\n",
        "data.append(image)\n",
        "labels.append(label)\n",
        "bboxes.append((startX, startY, endX, endY))\n",
        "imagePaths.append(imagePath)\n",
        " \n",
        "# convert the data, class labels, bounding boxes, and image paths to\n",
        "# NumPy arrays, scaling the input pixel intensities from the range\n",
        "# [0, 255] to [0, 1]\n",
        "data = np.array(data, dtype=\"float32\") / 255.0\n",
        "labels = np.array(labels)\n",
        "bboxes = np.array(bboxes, dtype=\"float32\")\n",
        "imagePaths = np.array(imagePaths)\n",
        "# perform one-hot encoding on the labels\n",
        "lb = LabelBinarizer()\n",
        "labels = lb.fit_transform(labels)\n",
        "# only there are only two labels in the dataset, then we need to use\n",
        "# Keras/TensorFlow's utility function as well\n",
        "if len(lb.classes_) == 2:\n",
        "\tlabels = to_categorical(labels)"
      ],
      "execution_count": null,
      "outputs": []
    },
    {
      "cell_type": "code",
      "metadata": {
        "id": "wwCO1GQS2daL"
      },
      "source": [
        "# derive the path to the input image, load the image (in OpenCV\n",
        "# format), and grab its dimensions\n",
        "imagePathtest = os.path.sep.join([config.IMAGES_PATH, filename])\n",
        "image = cv2.imread(imagePathtest)\n",
        "(h, w) = image.shape[:2]\n",
        "# scale the bounding box coordinates relative to the spatial\n",
        "# dimensions of the input image\n",
        "startX = float(startX) / w\n",
        "startY = float(startY) / h\n",
        "endX = float(endX) / w\n",
        "endY = float(endY) / h"
      ],
      "execution_count": null,
      "outputs": []
    },
    {
      "cell_type": "code",
      "metadata": {
        "id": "4YL1pIoc2iao"
      },
      "source": [
        "# load the image and preprocess it\n",
        "image = load_img(imagePathtest, target_size=(224, 224))\n",
        "image = img_to_array(image)\n",
        "# update our list of data, targets, and filenames\n",
        "data.append(image)\n",
        "targets.append((startX, startY, endX, endY))\n",
        "testfilenames.append(filename)\n",
        " \n",
        "# convert the data and targets to NumPy arrays, scaling the input\n",
        "# pixel intensities from the range [0, 255] to [0, 1]\n",
        "data = np.array(data, dtype=\"float32\") / 255.0\n",
        "targets = np.array(targets, dtype=\"float32\")"
      ],
      "execution_count": null,
      "outputs": []
    },
    {
      "cell_type": "code",
      "metadata": {
        "id": "wZIVH-zG20Fh"
      },
      "source": [
        "# write the testing filenames to disk so that we can use then\n",
        "# when evaluating/testing our bounding box regressor\n",
        "print(\"[INFO] saving testing filenames...\")\n",
        "f = open(config.TEST_FILENAMES, \"w\")\n",
        "f.write(\"\\n\".join(testfilenames))\n",
        "f.close()"
      ],
      "execution_count": null,
      "outputs": []
    },
    {
      "cell_type": "code",
      "metadata": {
        "id": "ZQGDqBtS2iji"
      },
      "source": [
        "# load the VGG16 network, ensuring the head FC layers are left off\n",
        "vgg = VGG16(weights=\"imagenet\", include_top=False,\n",
        "\tinput_tensor=Input(shape=(224, 224, 3)))\n",
        "# freeze all VGG layers so they will *not* be updated during the\n",
        "# training process\n",
        "vgg.trainable = False\n",
        "# flatten the max-pooling output of VGG\n",
        "flatten = vgg.output\n",
        "flatten = Flatten()(flatten)\n",
        "# construct a fully-connected layer header to output the predicted\n",
        "# bounding box coordinates\n",
        "bboxHead = Dense(128, activation=\"relu\")(flatten)\n",
        "bboxHead = Dense(64, activation=\"relu\")(bboxHead)\n",
        "bboxHead = Dense(32, activation=\"relu\")(bboxHead)\n",
        "bboxHead = Dense(4, activation=\"sigmoid\")(bboxHead)\n",
        "# construct the model we will fine-tune for bounding box regression\n",
        "model = Model(inputs=vgg.input, outputs=bboxHead)"
      ],
      "execution_count": null,
      "outputs": []
    },
    {
      "cell_type": "code",
      "metadata": {
        "id": "2PkrOZel3F7e"
      },
      "source": [
        "# initialize the optimizer, compile the model, and show the model\n",
        "# summary\n",
        "opt = Adam(lr=config.INIT_LR)\n",
        "model.compile(loss=\"mse\", optimizer=opt)\n",
        "print(model.summary())\n",
        "# train the network for bounding box regression\n",
        "print(\"[INFO] training bounding box regressor...\")\n",
        "H = model.fit(\n",
        "\ttrainImages, trainTargets,\n",
        "\tvalidation_data=(testImages, testTargets),\n",
        "\tbatch_size=config.BATCH_SIZE,\n",
        "\tepochs=config.NUM_EPOCHS,\n",
        "\tverbose=1)"
      ],
      "execution_count": null,
      "outputs": []
    }
  ]
}