{
  "nbformat": 4,
  "nbformat_minor": 0,
  "metadata": {
    "colab": {
      "name": "cars_finder EDA .ipynb",
      "provenance": [],
      "mount_file_id": "18CHtglLM3QcXufYcjdskBxonJIdYn0Vu",
      "authorship_tag": "ABX9TyOLOKFc0LzWve1YsG43Ak7R"
    },
    "kernelspec": {
      "name": "python3",
      "display_name": "Python 3"
    },
    "language_info": {
      "name": "python"
    }
  },
  "cells": [
    {
      "cell_type": "code",
      "metadata": {
        "id": "s4gfufqRIn6l"
      },
      "source": [
        ""
      ],
      "execution_count": null,
      "outputs": []
    },
    {
      "cell_type": "code",
      "metadata": {
        "id": "aShGdpJw8oN2"
      },
      "source": [
        "%tensorflow_version 2.x\n",
        "import tensorflow\n",
        "tensorflow.__version__\n",
        "\n"
      ],
      "execution_count": null,
      "outputs": []
    },
    {
      "cell_type": "code",
      "metadata": {
        "id": "lNhSv_bQIyKb"
      },
      "source": [
        "import random\n",
        "import os \n",
        "import matplotlib.image as mpimg\n",
        "import matplotlib.pyplot as plt\n",
        "  \n",
        "from PIL import Image\n",
        "import numpy as np\n",
        "\n",
        "import tensorflow as tf\n",
        "import os\n",
        "import pandas as pd\n",
        "\n",
        "random.seed(0)\n",
        "\n",
        "# Ignore the warnings\n",
        "import warnings\n",
        "warnings.filterwarnings(\"ignore\")"
      ],
      "execution_count": null,
      "outputs": []
    },
    {
      "cell_type": "code",
      "metadata": {
        "id": "GSZF8mm-Lm-A"
      },
      "source": [
        "from google.colab import drive\n",
        "drive.mount('/content/drive', force_remount=True)"
      ],
      "execution_count": null,
      "outputs": []
    },
    {
      "cell_type": "code",
      "metadata": {
        "id": "s1QLZwXDRWEu"
      },
      "source": [
        "ls \"/content/drive/MyDrive/Dataset/Car Images/\"\n"
      ],
      "execution_count": null,
      "outputs": []
    },
    {
      "cell_type": "code",
      "metadata": {
        "id": "QEsktmWvurhk"
      },
      "source": [
        "dataset_loc=\"/content/drive/MyDrive/\"\n",
        "train_annotation = pd.read_csv(dataset_loc+\"/Dataset/Annotations/Train Annotations.csv\")\n",
        "train_annotation.info()"
      ],
      "execution_count": null,
      "outputs": []
    },
    {
      "cell_type": "code",
      "metadata": {
        "id": "EvjONDEGvoXb"
      },
      "source": [
        "entry = train_annotation.loc[train_annotation['Image Name'] == '01286.jpg'].values[0]\n",
        "#dim_analysis.loc[dim_analysis['dim3'] !=3 ]"
      ],
      "execution_count": null,
      "outputs": []
    },
    {
      "cell_type": "code",
      "metadata": {
        "id": "JhaF46ygGloi"
      },
      "source": [
        "entry[1]"
      ],
      "execution_count": null,
      "outputs": []
    },
    {
      "cell_type": "code",
      "metadata": {
        "id": "I9mk4c0lELIm"
      },
      "source": [
        "train_annotation.rename(columns = {'Bounding Box coordinates':'x0', 'Unnamed: 2':'yo', 'Unnamed: 3':'x1', 'Unnamed: 4':'y1'}, inplace = True)\n",
        "   "
      ],
      "execution_count": null,
      "outputs": []
    },
    {
      "cell_type": "code",
      "metadata": {
        "id": "ekpY-iq7AEaC"
      },
      "source": [
        "train_annotation.loc[train_annotation['Image Name'] == '00134.jpg']"
      ],
      "execution_count": null,
      "outputs": []
    },
    {
      "cell_type": "code",
      "metadata": {
        "id": "pIO7JjkaaQOA"
      },
      "source": [
        "#train_images.rename(columns = {'class':'label'}, inplace = True)"
      ],
      "execution_count": null,
      "outputs": []
    },
    {
      "cell_type": "code",
      "metadata": {
        "id": "niHSCNGPFF8N"
      },
      "source": [
        "train_annotation"
      ],
      "execution_count": null,
      "outputs": []
    },
    {
      "cell_type": "code",
      "metadata": {
        "id": "cOXopPrJPBNh"
      },
      "source": [
        "\n",
        "\n",
        "train_images = pd.DataFrame(columns=['image','image_matrix','filename','car', 'x0', 'y0', 'x1', 'y1', 'label'])\n",
        "dim_analysis = pd.DataFrame(columns=['filename', 'dim1', 'dim2', 'dim3'])\n",
        "\n",
        "\n",
        "base=dataset_loc+\"/Dataset/Car Images/Train Images\"\n",
        "newsize = (128, 128)\n",
        "reshape_size = 128*128*3\n",
        "size_dim=128\n",
        "\n",
        "\n",
        "index = 0\n",
        "for dirs in os.listdir(base):\n",
        "    full_dir=base+\"/\"+dirs\n",
        "    \n",
        "    if os.path.isfile(full_dir):\n",
        "      continue\n",
        "    for file in os.listdir(os.path.join(full_dir)):\n",
        "      \n",
        "      if os.path.isfile(os.path.join(full_dir, file)):\n",
        "        filename=full_dir+\"/\"+file\n",
        "        im = Image.open(filename, mode='r')\n",
        "        dim_path=dirs+\"/\"+filename\n",
        "        image_width = im.size[1]\n",
        "        image_height = im.size[0]\n",
        "        dim_analysis = dim_analysis.append({'filename': filename, 'dim1':image_height, 'dim2':image_width}, ignore_index = True)\n",
        "  \n",
        "            #print(im.size[0])\n",
        "        im = im.resize(newsize)\n",
        "        pix_val = np.array(list(im.getdata()))\n",
        "        #print(\"\\t \\t\", len(pix_val.shape))\n",
        "        if ((len(pix_val.shape) >= 2) and (pix_val.shape[0]*pix_val.shape[1] == reshape_size)):\n",
        "          bound_box = train_annotation.loc[train_annotation['Image Name'] == file].values[0]\n",
        "          x0=bound_box[1]\n",
        "          x0 = int((x0 / image_width) * size_dim) \n",
        "\n",
        "          y0=bound_box[2]\n",
        "          y0 = int((y0 / image_height ) * size_dim)\n",
        "\n",
        "          x1=bound_box[3]\n",
        "          x1 = int((x1 / image_width)  * size_dim)\n",
        "\n",
        "          y1=bound_box[4]\n",
        "          y1 = int((y1 / image_height) * size_dim)\n",
        "          train_images = train_images.append({'image': pix_val.reshape(reshape_size), 'image_matrix': pix_val, 'filename':full_dir+\"/\"+file, 'car':dirs, 'x0': x0, 'y0':y0, 'x1':x1, 'y1':y1, 'label':bound_box[5]}, ignore_index = True)\n",
        "          \n"
      ],
      "execution_count": null,
      "outputs": []
    },
    {
      "cell_type": "code",
      "metadata": {
        "id": "UuidJimB97QC"
      },
      "source": [
        "train_images"
      ],
      "execution_count": null,
      "outputs": []
    },
    {
      "cell_type": "code",
      "metadata": {
        "id": "4oQZJ5MA-Ag_"
      },
      "source": [
        "dim_analysis.loc[0, 'filename']"
      ],
      "execution_count": null,
      "outputs": []
    },
    {
      "cell_type": "code",
      "metadata": {
        "id": "W_HZ290UNqwh"
      },
      "source": [
        "print(\"Various different dimensions of the image: \\n \", np.unique(dim_analysis['dim1']))"
      ],
      "execution_count": null,
      "outputs": []
    },
    {
      "cell_type": "code",
      "metadata": {
        "id": "mAdQVLcXP0_r"
      },
      "source": [
        "import seaborn as sns\n",
        "print(\"Dimension Analysis:\\n\")\n",
        "val_count = dim_analysis['dim1'].value_counts()\n",
        "print(val_count)\n"
      ],
      "execution_count": null,
      "outputs": []
    },
    {
      "cell_type": "code",
      "metadata": {
        "id": "shhP4ecnP_Yn"
      },
      "source": [
        "\n",
        "sns.histplot(dim_analysis['dim1'])"
      ],
      "execution_count": null,
      "outputs": []
    },
    {
      "cell_type": "code",
      "metadata": {
        "id": "CiQttipfZkPI"
      },
      "source": [
        "val_dict = dict(zip(train_images.car, train_images.label))"
      ],
      "execution_count": null,
      "outputs": []
    },
    {
      "cell_type": "code",
      "metadata": {
        "id": "6MnA1vrpahwf"
      },
      "source": [
        "val_dict"
      ],
      "execution_count": null,
      "outputs": []
    },
    {
      "cell_type": "code",
      "metadata": {
        "id": "U6il8GJ1azdQ"
      },
      "source": [
        "\n",
        "print(\"car counts:\\n\")\n",
        "val_count = train_images['car'].value_counts()\n",
        "print(val_count)"
      ],
      "execution_count": null,
      "outputs": []
    },
    {
      "cell_type": "code",
      "metadata": {
        "id": "xlRq7sMtdKGh"
      },
      "source": [
        "sns.histplot(train_images['car'])"
      ],
      "execution_count": null,
      "outputs": []
    },
    {
      "cell_type": "code",
      "metadata": {
        "id": "UJyvC5jGN6Hx"
      },
      "source": [
        "plt.imshow(im)\n",
        "plt.show()"
      ],
      "execution_count": null,
      "outputs": []
    },
    {
      "cell_type": "code",
      "metadata": {
        "id": "ub6487U-Q_0G"
      },
      "source": [
        "# few statistical analysis\n",
        "train_images.loc[train_images['car'] == 'GMC Savana Van 2012']\n"
      ],
      "execution_count": null,
      "outputs": []
    },
    {
      "cell_type": "code",
      "metadata": {
        "id": "IP2fP2T1hIAM"
      },
      "source": [
        "len_train = train_images.shape[0]"
      ],
      "execution_count": null,
      "outputs": []
    },
    {
      "cell_type": "code",
      "metadata": {
        "id": "F3AGqBE1ZvHF"
      },
      "source": [
        "import matplotlib.image as mpimg\n",
        "import matplotlib.pyplot as plt\n",
        "\n",
        "#Some random images\n",
        "for i in range( 2, 1000, 100):\n",
        "    print(\"=============\\n\", train_images.loc[i,'car'])\n",
        "    plt.imshow(train_images.loc[i, 'image'].reshape(size_dim, size_dim, 3))\n",
        "    plt.show()"
      ],
      "execution_count": null,
      "outputs": []
    },
    {
      "cell_type": "code",
      "metadata": {
        "id": "kkya7kq6kUyO"
      },
      "source": [
        "dim_analysis"
      ],
      "execution_count": null,
      "outputs": []
    },
    {
      "cell_type": "code",
      "metadata": {
        "id": "iUCSGS9ouhBZ"
      },
      "source": [
        "def normalising_box(ind):\n",
        "  test_img = train_images.loc[ind, 'filename']\n",
        "  test_dim = dim_analysis.loc[dim_analysis['filename'] == test_img].values[0]\n",
        "  image_width = test_dim[2]\n",
        "  image_height = test_dim[1]\n",
        " \n",
        "  IMAGE_SIZE=128\n",
        "  x0=y_train[ind][0]\n",
        "  y0=y_train[ind][1]\n",
        "\n",
        "  x1=y_train[ind][2]\n",
        "  y1=y_train[ind][3]\n",
        "\n",
        "  print(x0, y0, x1, y1)\n",
        "  \n",
        "  x0 = int((x0 / image_width) * IMAGE_SIZE) # Scale the BBox\n",
        "  y0 = int((y0 / image_height ) * IMAGE_SIZE)\n",
        "\n",
        "  x1 = int((x1 / image_width)  * IMAGE_SIZE)\n",
        "  y1 = int((y1 / image_height) * IMAGE_SIZE)\n",
        "  print(x0, y0, x1, y1)\n",
        "  #return x0, y0, x1, y1\n"
      ],
      "execution_count": null,
      "outputs": []
    },
    {
      "cell_type": "code",
      "metadata": {
        "id": "u0C9B6NyE4BT"
      },
      "source": [
        "import matplotlib.pyplot as plt\n",
        "#Extract the (flattened) data and class\n",
        "\n",
        "\n",
        "\n",
        "from tensorflow.keras.applications.mobilenet import preprocess_input\n",
        "\n",
        "#x_train = train_images['image_matrix']\n",
        "\n",
        "x_train = np.zeros((len_train, size_dim, size_dim, 3))\n",
        "y_train = np.zeros((len_train, 5))\n",
        "#y_train = train_images[5:7]\n",
        "for i in range(len(train_images)) :\n",
        "  x_train[i] = preprocess_input(np.array(train_images.loc[i,'image_matrix'].reshape(size_dim, size_dim, 3), dtype=np.float32))\n",
        "  y_train[i] = train_images.loc[i, 'x0':'label']"
      ],
      "execution_count": null,
      "outputs": []
    },
    {
      "cell_type": "code",
      "metadata": {
        "id": "rvgi8P0lki9v"
      },
      "source": [
        "import cv2\n",
        "import matplotlib.pyplot as plt\n",
        "import matplotlib.patches as patches\n",
        "\n",
        "def patch_fn (ind):\n",
        "  \n",
        "  \n",
        "  # Create figure and axes\n",
        "  fig,ax = plt.subplots(1)\n",
        "  x0=y_train[ind][0]\n",
        "  y0=y_train[ind][1]\n",
        "\n",
        "  x1=y_train[ind][2]\n",
        "  y1=y_train[ind][3]\n",
        "  print(\"Normalised Bounding box: \", x0, y0, x1, y1)\n",
        "  # Display the image\n",
        "  ax.imshow(train_images.loc[ind,'image_matrix'].reshape(size_dim,size_dim,3))\n",
        "\n",
        "  # Create a Rectangle patch\n",
        "  rect = patches.Rectangle((x0, y0), x1 , y1, linewidth=2, edgecolor='r', facecolor='none')\n",
        "\n",
        "  # Add the patch to the Axes\n",
        "  ax.add_patch(rect)\n",
        "\n",
        "  plt.show()\n",
        "\n"
      ],
      "execution_count": null,
      "outputs": []
    },
    {
      "cell_type": "code",
      "metadata": {
        "id": "Niw9OVHukQYX"
      },
      "source": [
        "#Some random bounding box examples\n",
        "patch_fn(50)\n",
        "#normalising_box(50)"
      ],
      "execution_count": null,
      "outputs": []
    },
    {
      "cell_type": "code",
      "metadata": {
        "id": "165XivnFr9RI"
      },
      "source": [
        "patch_fn(200)"
      ],
      "execution_count": null,
      "outputs": []
    },
    {
      "cell_type": "code",
      "metadata": {
        "id": "yKCl7YhhrsdM"
      },
      "source": [
        "patch_fn(4000)"
      ],
      "execution_count": null,
      "outputs": []
    },
    {
      "cell_type": "code",
      "metadata": {
        "id": "KmSp82zIHlCu"
      },
      "source": [
        "patch_fn(6123)"
      ],
      "execution_count": null,
      "outputs": []
    },
    {
      "cell_type": "code",
      "metadata": {
        "id": "XbP_QdG4mqbS"
      },
      "source": [
        "x_train.shape, y_train.shape"
      ],
      "execution_count": null,
      "outputs": []
    },
    {
      "cell_type": "code",
      "metadata": {
        "id": "n113iG9qmtzw"
      },
      "source": [
        "x_train[25], y_train[25]"
      ],
      "execution_count": null,
      "outputs": []
    },
    {
      "cell_type": "markdown",
      "metadata": {
        "id": "eFG7RaCmu2kD"
      },
      "source": [
        "Considering VGG16 to do object detection region and if needed SVM on the flatten layer to detect the class(196 class)"
      ]
    },
    {
      "cell_type": "code",
      "metadata": {
        "id": "YNmGYMQ8YxUb"
      },
      "source": [
        "#TEst images\n",
        "\n",
        "\n",
        "\n",
        "\n",
        "test_images = pd.DataFrame(columns=['image','image_matrix','filename','car', 'x0', 'y0', 'x1', 'y1', 'label'])\n",
        "dim_analysis_test = pd.DataFrame(columns=['filename', 'dim1', 'dim2', 'dim3'])\n",
        "\n",
        "\n",
        "base=dataset_loc+\"/Dataset/Car Images/Test Images\"\n",
        "newsize = (128, 128)\n",
        "reshape_size = 128*128*3\n",
        "size_dim=128\n",
        "\n",
        "\n",
        "index = 0\n",
        "for dirs in os.listdir(base):\n",
        "    full_dir=base+\"/\"+dirs\n",
        "    \n",
        "    if os.path.isfile(full_dir):\n",
        "      continue\n",
        "    for file in os.listdir(os.path.join(full_dir)):\n",
        "      \n",
        "      if os.path.isfile(os.path.join(full_dir, file)):\n",
        "        filename=full_dir+\"/\"+file\n",
        "        im = Image.open(filename, mode='r')\n",
        "        dim_path=dirs+\"/\"+filename\n",
        "        image_width = im.size[1]\n",
        "        image_height = im.size[0]\n",
        "        dim_analysis_test = dim_analysis_test.append({'filename': filename, 'dim1':image_height, 'dim2':image_width}, ignore_index = True)\n",
        "\n",
        "        im = im.resize(newsize)\n",
        "        pix_val = np.array(list(im.getdata()))\n",
        "        if ((len(pix_val.shape) >= 2) and (pix_val.shape[0]*pix_val.shape[1] == reshape_size)):\n",
        "          bound_box = train_annotation.loc[train_annotation['Image Name'] == file].values[0]\n",
        "          x0=bound_box[1]\n",
        "          x0 = int((x0 / image_width) * size_dim) \n",
        "\n",
        "          y0=bound_box[2]\n",
        "          y0 = int((y0 / image_height ) * size_dim)\n",
        "\n",
        "          x1=bound_box[3]\n",
        "          x1 = int((x1 / image_width)  * size_dim)\n",
        "\n",
        "          y1=bound_box[4]\n",
        "          y1 = int((y1 / image_height) * size_dim)\n",
        "          test_images = test_images.append({'image': pix_val.reshape(reshape_size), 'image_matrix': pix_val, 'filename':full_dir+\"/\"+file, 'car':dirs, 'x0': x0, 'y0':y0, 'x1':x1, 'y1':y1, 'label':bound_box[5]}, ignore_index = True)\n",
        "          \n"
      ],
      "execution_count": null,
      "outputs": []
    },
    {
      "cell_type": "code",
      "metadata": {
        "id": "aLYXgHp1ZIw8"
      },
      "source": [
        "test_images"
      ],
      "execution_count": null,
      "outputs": []
    },
    {
      "cell_type": "code",
      "metadata": {
        "id": "JnvVfO0XZTtU"
      },
      "source": [
        "import seaborn as sns\n",
        "print(\"Dimension Analysis:\\n\")\n",
        "val_count = dim_analysis_test['dim1'].value_counts()\n",
        "print(val_count)\n",
        "\n",
        "sns.histplot(dim_analysis_test['dim1'])"
      ],
      "execution_count": null,
      "outputs": []
    },
    {
      "cell_type": "code",
      "metadata": {
        "id": "OoaCeFeCZZEi"
      },
      "source": [
        "import matplotlib.image as mpimg\n",
        "import matplotlib.pyplot as plt\n",
        "\n",
        "#Some random images\n",
        "for i in range( 2, 1000, 100):\n",
        "    print(\"=============\\n\", test_images.loc[i,'car'])\n",
        "    plt.imshow(test_images.loc[i, 'image'].reshape(size_dim, size_dim, 3))\n",
        "    plt.show()"
      ],
      "execution_count": null,
      "outputs": []
    },
    {
      "cell_type": "code",
      "metadata": {
        "id": "pCq63xdhZumQ"
      },
      "source": [
        "len_test = test_images.shape[0]"
      ],
      "execution_count": null,
      "outputs": []
    },
    {
      "cell_type": "code",
      "metadata": {
        "id": "qRxO2SKdZmO0"
      },
      "source": [
        "import matplotlib.pyplot as plt\n",
        "#Extract the (flattened) data and class\n",
        "\n",
        "from tensorflow.keras.applications.mobilenet import preprocess_input\n",
        "\n",
        "\n",
        "x_test = np.zeros((len_test, size_dim, size_dim, 3))\n",
        "y_test = np.zeros((len_test, 5))\n",
        "#y_train = train_images[5:7]\n",
        "for i in range(len(test_images)) :\n",
        "  x_test[i] = preprocess_input(np.array(test_images.loc[i,'image_matrix'].reshape(size_dim, size_dim, 3), dtype=np.float32))\n",
        "  y_test[i] = test_images.loc[i, 'x0':'label']"
      ],
      "execution_count": null,
      "outputs": []
    },
    {
      "cell_type": "code",
      "metadata": {
        "id": "Zs99mPYqaAzw"
      },
      "source": [
        "x_train.shape, y_train.shape"
      ],
      "execution_count": null,
      "outputs": []
    },
    {
      "cell_type": "code",
      "metadata": {
        "id": "QUNkUzrWZ-V-"
      },
      "source": [
        "x_test.shape, y_test.shape"
      ],
      "execution_count": null,
      "outputs": []
    }
  ]
}